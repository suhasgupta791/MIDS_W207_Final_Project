{
 "cells": [
  {
   "cell_type": "markdown",
   "metadata": {},
   "source": [
    "#  MIDS W207 \n",
    "## Baseline submission\n",
    "## Authors: Neha Kumar, Suhas Gupta\n",
    "## Submission Data: 04/06/2019 "
   ]
  },
  {
   "cell_type": "code",
   "execution_count": 4,
   "metadata": {},
   "outputs": [],
   "source": [
    "# General libraries.\n",
    "import numpy as np\n",
    "import matplotlib.pyplot as plt\n",
    "import pandas as pd\n",
    "import seaborn as sns\n",
    "\n",
    "\n",
    "# SK-learn libraries for learning.\n",
    "from sklearn import preprocessing\n",
    "from sklearn.pipeline import Pipeline\n",
    "from sklearn.neighbors import KNeighborsClassifier\n",
    "from sklearn.linear_model import LogisticRegression\n",
    "from sklearn.naive_bayes import BernoulliNB\n",
    "from sklearn.naive_bayes import MultinomialNB\n",
    "from sklearn.model_selection import GridSearchCV\n",
    "from sklearn.model_selection import train_test_split\n",
    "\n",
    "# SK-learn libraries for evaluation.\n",
    "from sklearn.metrics import confusion_matrix\n",
    "from sklearn import metrics\n",
    "from sklearn.metrics import classification_report\n",
    "\n",
    "# This tells matplotlib not to try opening a new window for each plot.\n",
    "%matplotlib inline\n",
    "# Set the figure size for seaborn plots\n",
    "sns.set(rc={'figure.figsize':(15,10)})"
   ]
  },
  {
   "cell_type": "markdown",
   "metadata": {},
   "source": [
    "We selected the SF Crime competition\n",
    "\n",
    "https://www.kaggle.com/c/sf-crime/data"
   ]
  },
  {
   "cell_type": "code",
   "execution_count": 5,
   "metadata": {
    "scrolled": false
   },
   "outputs": [],
   "source": [
    "## Import CSV files into pandas data frames\n",
    "\n",
    "train = pd.read_csv('train.csv')\n",
    "test = pd.read_csv('test.csv')\n",
    "sample_submission = pd.read_csv('sampleSubmission.csv')\n"
   ]
  },
  {
   "cell_type": "code",
   "execution_count": 6,
   "metadata": {},
   "outputs": [
    {
     "data": {
      "text/html": [
       "<div>\n",
       "<style scoped>\n",
       "    .dataframe tbody tr th:only-of-type {\n",
       "        vertical-align: middle;\n",
       "    }\n",
       "\n",
       "    .dataframe tbody tr th {\n",
       "        vertical-align: top;\n",
       "    }\n",
       "\n",
       "    .dataframe thead th {\n",
       "        text-align: right;\n",
       "    }\n",
       "</style>\n",
       "<table border=\"1\" class=\"dataframe\">\n",
       "  <thead>\n",
       "    <tr style=\"text-align: right;\">\n",
       "      <th></th>\n",
       "      <th>Dates</th>\n",
       "      <th>Category</th>\n",
       "      <th>Descript</th>\n",
       "      <th>DayOfWeek</th>\n",
       "      <th>PdDistrict</th>\n",
       "      <th>Resolution</th>\n",
       "      <th>Address</th>\n",
       "      <th>X</th>\n",
       "      <th>Y</th>\n",
       "    </tr>\n",
       "  </thead>\n",
       "  <tbody>\n",
       "    <tr>\n",
       "      <th>0</th>\n",
       "      <td>2015-05-13 23:53:00</td>\n",
       "      <td>WARRANTS</td>\n",
       "      <td>WARRANT ARREST</td>\n",
       "      <td>Wednesday</td>\n",
       "      <td>NORTHERN</td>\n",
       "      <td>ARREST, BOOKED</td>\n",
       "      <td>OAK ST / LAGUNA ST</td>\n",
       "      <td>-122.425892</td>\n",
       "      <td>37.774599</td>\n",
       "    </tr>\n",
       "    <tr>\n",
       "      <th>1</th>\n",
       "      <td>2015-05-13 23:53:00</td>\n",
       "      <td>OTHER OFFENSES</td>\n",
       "      <td>TRAFFIC VIOLATION ARREST</td>\n",
       "      <td>Wednesday</td>\n",
       "      <td>NORTHERN</td>\n",
       "      <td>ARREST, BOOKED</td>\n",
       "      <td>OAK ST / LAGUNA ST</td>\n",
       "      <td>-122.425892</td>\n",
       "      <td>37.774599</td>\n",
       "    </tr>\n",
       "    <tr>\n",
       "      <th>2</th>\n",
       "      <td>2015-05-13 23:33:00</td>\n",
       "      <td>OTHER OFFENSES</td>\n",
       "      <td>TRAFFIC VIOLATION ARREST</td>\n",
       "      <td>Wednesday</td>\n",
       "      <td>NORTHERN</td>\n",
       "      <td>ARREST, BOOKED</td>\n",
       "      <td>VANNESS AV / GREENWICH ST</td>\n",
       "      <td>-122.424363</td>\n",
       "      <td>37.800414</td>\n",
       "    </tr>\n",
       "    <tr>\n",
       "      <th>3</th>\n",
       "      <td>2015-05-13 23:30:00</td>\n",
       "      <td>LARCENY/THEFT</td>\n",
       "      <td>GRAND THEFT FROM LOCKED AUTO</td>\n",
       "      <td>Wednesday</td>\n",
       "      <td>NORTHERN</td>\n",
       "      <td>NONE</td>\n",
       "      <td>1500 Block of LOMBARD ST</td>\n",
       "      <td>-122.426995</td>\n",
       "      <td>37.800873</td>\n",
       "    </tr>\n",
       "    <tr>\n",
       "      <th>4</th>\n",
       "      <td>2015-05-13 23:30:00</td>\n",
       "      <td>LARCENY/THEFT</td>\n",
       "      <td>GRAND THEFT FROM LOCKED AUTO</td>\n",
       "      <td>Wednesday</td>\n",
       "      <td>PARK</td>\n",
       "      <td>NONE</td>\n",
       "      <td>100 Block of BRODERICK ST</td>\n",
       "      <td>-122.438738</td>\n",
       "      <td>37.771541</td>\n",
       "    </tr>\n",
       "  </tbody>\n",
       "</table>\n",
       "</div>"
      ],
      "text/plain": [
       "                 Dates        Category                      Descript  \\\n",
       "0  2015-05-13 23:53:00        WARRANTS                WARRANT ARREST   \n",
       "1  2015-05-13 23:53:00  OTHER OFFENSES      TRAFFIC VIOLATION ARREST   \n",
       "2  2015-05-13 23:33:00  OTHER OFFENSES      TRAFFIC VIOLATION ARREST   \n",
       "3  2015-05-13 23:30:00   LARCENY/THEFT  GRAND THEFT FROM LOCKED AUTO   \n",
       "4  2015-05-13 23:30:00   LARCENY/THEFT  GRAND THEFT FROM LOCKED AUTO   \n",
       "\n",
       "   DayOfWeek PdDistrict      Resolution                    Address  \\\n",
       "0  Wednesday   NORTHERN  ARREST, BOOKED         OAK ST / LAGUNA ST   \n",
       "1  Wednesday   NORTHERN  ARREST, BOOKED         OAK ST / LAGUNA ST   \n",
       "2  Wednesday   NORTHERN  ARREST, BOOKED  VANNESS AV / GREENWICH ST   \n",
       "3  Wednesday   NORTHERN            NONE   1500 Block of LOMBARD ST   \n",
       "4  Wednesday       PARK            NONE  100 Block of BRODERICK ST   \n",
       "\n",
       "            X          Y  \n",
       "0 -122.425892  37.774599  \n",
       "1 -122.425892  37.774599  \n",
       "2 -122.424363  37.800414  \n",
       "3 -122.426995  37.800873  \n",
       "4 -122.438738  37.771541  "
      ]
     },
     "execution_count": 6,
     "metadata": {},
     "output_type": "execute_result"
    }
   ],
   "source": [
    "## Lets look at the train data frame\n",
    "train[:5]"
   ]
  },
  {
   "cell_type": "code",
   "execution_count": 7,
   "metadata": {},
   "outputs": [
    {
     "data": {
      "text/html": [
       "<div>\n",
       "<style scoped>\n",
       "    .dataframe tbody tr th:only-of-type {\n",
       "        vertical-align: middle;\n",
       "    }\n",
       "\n",
       "    .dataframe tbody tr th {\n",
       "        vertical-align: top;\n",
       "    }\n",
       "\n",
       "    .dataframe thead th {\n",
       "        text-align: right;\n",
       "    }\n",
       "</style>\n",
       "<table border=\"1\" class=\"dataframe\">\n",
       "  <thead>\n",
       "    <tr style=\"text-align: right;\">\n",
       "      <th></th>\n",
       "      <th>Id</th>\n",
       "      <th>Dates</th>\n",
       "      <th>DayOfWeek</th>\n",
       "      <th>PdDistrict</th>\n",
       "      <th>Address</th>\n",
       "      <th>X</th>\n",
       "      <th>Y</th>\n",
       "    </tr>\n",
       "  </thead>\n",
       "  <tbody>\n",
       "    <tr>\n",
       "      <th>0</th>\n",
       "      <td>0</td>\n",
       "      <td>2015-05-10 23:59:00</td>\n",
       "      <td>Sunday</td>\n",
       "      <td>BAYVIEW</td>\n",
       "      <td>2000 Block of THOMAS AV</td>\n",
       "      <td>-122.399588</td>\n",
       "      <td>37.735051</td>\n",
       "    </tr>\n",
       "    <tr>\n",
       "      <th>1</th>\n",
       "      <td>1</td>\n",
       "      <td>2015-05-10 23:51:00</td>\n",
       "      <td>Sunday</td>\n",
       "      <td>BAYVIEW</td>\n",
       "      <td>3RD ST / REVERE AV</td>\n",
       "      <td>-122.391523</td>\n",
       "      <td>37.732432</td>\n",
       "    </tr>\n",
       "    <tr>\n",
       "      <th>2</th>\n",
       "      <td>2</td>\n",
       "      <td>2015-05-10 23:50:00</td>\n",
       "      <td>Sunday</td>\n",
       "      <td>NORTHERN</td>\n",
       "      <td>2000 Block of GOUGH ST</td>\n",
       "      <td>-122.426002</td>\n",
       "      <td>37.792212</td>\n",
       "    </tr>\n",
       "    <tr>\n",
       "      <th>3</th>\n",
       "      <td>3</td>\n",
       "      <td>2015-05-10 23:45:00</td>\n",
       "      <td>Sunday</td>\n",
       "      <td>INGLESIDE</td>\n",
       "      <td>4700 Block of MISSION ST</td>\n",
       "      <td>-122.437394</td>\n",
       "      <td>37.721412</td>\n",
       "    </tr>\n",
       "    <tr>\n",
       "      <th>4</th>\n",
       "      <td>4</td>\n",
       "      <td>2015-05-10 23:45:00</td>\n",
       "      <td>Sunday</td>\n",
       "      <td>INGLESIDE</td>\n",
       "      <td>4700 Block of MISSION ST</td>\n",
       "      <td>-122.437394</td>\n",
       "      <td>37.721412</td>\n",
       "    </tr>\n",
       "  </tbody>\n",
       "</table>\n",
       "</div>"
      ],
      "text/plain": [
       "   Id                Dates DayOfWeek PdDistrict                   Address  \\\n",
       "0   0  2015-05-10 23:59:00    Sunday    BAYVIEW   2000 Block of THOMAS AV   \n",
       "1   1  2015-05-10 23:51:00    Sunday    BAYVIEW        3RD ST / REVERE AV   \n",
       "2   2  2015-05-10 23:50:00    Sunday   NORTHERN    2000 Block of GOUGH ST   \n",
       "3   3  2015-05-10 23:45:00    Sunday  INGLESIDE  4700 Block of MISSION ST   \n",
       "4   4  2015-05-10 23:45:00    Sunday  INGLESIDE  4700 Block of MISSION ST   \n",
       "\n",
       "            X          Y  \n",
       "0 -122.399588  37.735051  \n",
       "1 -122.391523  37.732432  \n",
       "2 -122.426002  37.792212  \n",
       "3 -122.437394  37.721412  \n",
       "4 -122.437394  37.721412  "
      ]
     },
     "execution_count": 7,
     "metadata": {},
     "output_type": "execute_result"
    }
   ],
   "source": [
    "## Look at the test data frame \n",
    "test[:5]"
   ]
  },
  {
   "cell_type": "markdown",
   "metadata": {},
   "source": [
    "(from Kaggle)\n",
    "## Data fields\n",
    "- Dates - timestamp of the crime incident\n",
    "- Category - category of the crime incident (only in train.csv). This is the target variable you are going to predict.\n",
    "- Descript - detailed description of the crime incident (only in train.csv)\n",
    "- DayOfWeek - the day of the week\n",
    "- PdDistrict - name of the Police Department District\n",
    "- Resolution - how the crime incident was resolved (only in train.csv)\n",
    "- Address - the approximate street address of the crime incident \n",
    "- X - Longitude\n",
    "- Y - Latitude\n",
    "\n",
    "The variables we can use to generate the model will need to be in both the train and test dataset. This gives us:\n",
    "- Dates\n",
    "- DayOfWeek\n",
    "- PdDistrict\n",
    "- Address\n",
    "- X\n",
    "- Y"
   ]
  },
  {
   "cell_type": "markdown",
   "metadata": {},
   "source": [
    "Let us look at a quick summary of the dataset provided by Kaggle to check if there are any missing/NULL values in the data."
   ]
  },
  {
   "cell_type": "code",
   "execution_count": 8,
   "metadata": {
    "scrolled": true
   },
   "outputs": [
    {
     "name": "stdout",
     "output_type": "stream",
     "text": [
      "Training data set\n",
      "..................\n",
      "<class 'pandas.core.frame.DataFrame'>\n",
      "RangeIndex: 878049 entries, 0 to 878048\n",
      "Data columns (total 9 columns):\n",
      "Dates         878049 non-null object\n",
      "Category      878049 non-null object\n",
      "Descript      878049 non-null object\n",
      "DayOfWeek     878049 non-null object\n",
      "PdDistrict    878049 non-null object\n",
      "Resolution    878049 non-null object\n",
      "Address       878049 non-null object\n",
      "X             878049 non-null float64\n",
      "Y             878049 non-null float64\n",
      "dtypes: float64(2), object(7)\n",
      "memory usage: 60.3+ MB\n",
      "None\n",
      "\n",
      "Test data set\n",
      "..................\n",
      "<class 'pandas.core.frame.DataFrame'>\n",
      "RangeIndex: 884262 entries, 0 to 884261\n",
      "Data columns (total 7 columns):\n",
      "Id            884262 non-null int64\n",
      "Dates         884262 non-null object\n",
      "DayOfWeek     884262 non-null object\n",
      "PdDistrict    884262 non-null object\n",
      "Address       884262 non-null object\n",
      "X             884262 non-null float64\n",
      "Y             884262 non-null float64\n",
      "dtypes: float64(2), int64(1), object(4)\n",
      "memory usage: 47.2+ MB\n",
      "None\n"
     ]
    }
   ],
   "source": [
    "print('Training data set')\n",
    "print('..................')\n",
    "print(train.info())\n",
    "print('\\nTest data set')\n",
    "print('..................')\n",
    "print(test.info())"
   ]
  },
  {
   "cell_type": "markdown",
   "metadata": {},
   "source": [
    "- The output above shows that there are no missing values in the Kaggle datasets for both training and test data. Thus we do not need to account for missing values in our EDA and model development.\n",
    "\n",
    "- We can also see from above, that all the variables except geographical coordinates (X,Y) are categorical. Thus we will need to perform feature encoding to enable the use of sklearn's modeling and prediction algorithms."
   ]
  },
  {
   "cell_type": "markdown",
   "metadata": {},
   "source": [
    "First let us examine the outcome variable \"Category\""
   ]
  },
  {
   "cell_type": "code",
   "execution_count": 9,
   "metadata": {
    "scrolled": true
   },
   "outputs": [
    {
     "data": {
      "text/plain": [
       "[Text(0, 0, 'WARRANTS'),\n",
       " Text(0, 0, 'OTHER OFFENSES'),\n",
       " Text(0, 0, 'LARCENY/THEFT'),\n",
       " Text(0, 0, 'VEHICLE THEFT'),\n",
       " Text(0, 0, 'VANDALISM'),\n",
       " Text(0, 0, 'NON-CRIMINAL'),\n",
       " Text(0, 0, 'ROBBERY'),\n",
       " Text(0, 0, 'ASSAULT'),\n",
       " Text(0, 0, 'WEAPON LAWS'),\n",
       " Text(0, 0, 'BURGLARY'),\n",
       " Text(0, 0, 'SUSPICIOUS OCC'),\n",
       " Text(0, 0, 'DRUNKENNESS'),\n",
       " Text(0, 0, 'FORGERY/COUNTERFEITING'),\n",
       " Text(0, 0, 'DRUG/NARCOTIC'),\n",
       " Text(0, 0, 'STOLEN PROPERTY'),\n",
       " Text(0, 0, 'SECONDARY CODES'),\n",
       " Text(0, 0, 'TRESPASS'),\n",
       " Text(0, 0, 'MISSING PERSON'),\n",
       " Text(0, 0, 'FRAUD'),\n",
       " Text(0, 0, 'KIDNAPPING'),\n",
       " Text(0, 0, 'RUNAWAY'),\n",
       " Text(0, 0, 'DRIVING UNDER THE INFLUENCE'),\n",
       " Text(0, 0, 'SEX OFFENSES FORCIBLE'),\n",
       " Text(0, 0, 'PROSTITUTION'),\n",
       " Text(0, 0, 'DISORDERLY CONDUCT'),\n",
       " Text(0, 0, 'ARSON'),\n",
       " Text(0, 0, 'FAMILY OFFENSES'),\n",
       " Text(0, 0, 'LIQUOR LAWS'),\n",
       " Text(0, 0, 'BRIBERY'),\n",
       " Text(0, 0, 'EMBEZZLEMENT'),\n",
       " Text(0, 0, 'SUICIDE'),\n",
       " Text(0, 0, 'LOITERING'),\n",
       " Text(0, 0, 'SEX OFFENSES NON FORCIBLE'),\n",
       " Text(0, 0, 'EXTORTION'),\n",
       " Text(0, 0, 'GAMBLING'),\n",
       " Text(0, 0, 'BAD CHECKS'),\n",
       " Text(0, 0, 'TREA'),\n",
       " Text(0, 0, 'RECOVERED VEHICLE'),\n",
       " Text(0, 0, 'PORNOGRAPHY/OBSCENE MAT')]"
      ]
     },
     "execution_count": 9,
     "metadata": {},
     "output_type": "execute_result"
    },
    {
     "data": {
      "image/png": "[encoded data removed]",
      "text/plain": [
       "<Figure size 1080x720 with 1 Axes>"
      ]
     },
     "metadata": {},
     "output_type": "display_data"
    }
   ],
   "source": [
    "g = sns.countplot(data = train, x = 'Category',orient='h')\n",
    "g.set_xticklabels(g.get_xticklabels(),rotation=90)"
   ]
  },
  {
   "cell_type": "markdown",
   "metadata": {},
   "source": [
    "The above plot shows the frequency distribution of the outcome variable **Category**. The distribution might appear to be skewed but this is expected since the outcome variable is categorical and cannot be sorted in a numerical order. We can see that the maximum frequency crime cateogry is **LARCENY/THEFT** followed by **OTHER OFFSENSES** and **NON-CRIMINAL**. Thus if the training data is unbiased and randomly distributed, we can expect a good accuracy score by just predicting outcome of 45% LARCENY, 35% OTHER and 20% NON-CRIMINAL in our test outcome vector. We will later see how this strategy performs as a prediction model."
   ]
  },
  {
   "cell_type": "code",
   "execution_count": 13,
   "metadata": {},
   "outputs": [
    {
     "name": "stdout",
     "output_type": "stream",
     "text": [
      "Shape of training data: (878049, 6)\n",
      "Shape of training labels: (878049, 6)\n",
      "List of training Features: ['Dates', 'DayOfWeek', 'PdDistrict', 'Address', 'X', 'Y']\n",
      "Shape of test data: (884262, 6)\n"
     ]
    }
   ],
   "source": [
    "## Split data frames to create data and label numpy arrays\n",
    "'''\n",
    "    Convert the pandas data frames to numpy array for using with sklearn.\n",
    "    We will use the following variable names ->\n",
    "    X_train: training feature data \n",
    "    Y_train: training label data\n",
    "'''\n",
    "    \n",
    "## Split the data frame (category is the predicted variable)\n",
    "data_train_df = train.drop(['Category','Descript','Resolution'],axis=1)\n",
    "labels_train_df = pd.DataFrame(train, columns = ['Category'])\n",
    "\n",
    "## Remove ID column from test data\n",
    "test_data = test.drop(['Id'],axis=1).values\n",
    "\n",
    "## Convert data frame to numpy arrays\n",
    "data_train = data_train_df.values\n",
    "labels_train = labels_train_df.values\n",
    "\n",
    "## Store the feature names in a list\n",
    "train_features_names = list(data_train_df.keys())\n",
    "\n",
    "print('Shape of training data: {train_shp1}'.format(train_shp1=data_train.shape))\n",
    "print('Shape of training labels: {train_shp2}'.format(train_shp2=data_train.shape))\n",
    "print('List of training Features:', train_features_names)\n",
    "print('Shape of test data:', test_data.shape)"
   ]
  },
  {
   "cell_type": "code",
   "execution_count": 11,
   "metadata": {},
   "outputs": [
    {
     "name": "stdout",
     "output_type": "stream",
     "text": [
      "['ARSON' 'ASSAULT' 'BAD CHECKS' 'BRIBERY' 'BURGLARY']\n"
     ]
    }
   ],
   "source": [
    "## Preprocess the categorical data by encoding to numerical values\n",
    "enc = preprocessing.LabelEncoder()\n",
    "\n",
    "## Encode the output labels in training data set and store the class names \n",
    "labels_train_encoded = enc.fit_transform(np.ravel(labels_train.reshape(-1,1)))\n",
    "data_classes = enc.classes_\n",
    "\n",
    "print(data_classes[:5])\n"
   ]
  },
  {
   "cell_type": "code",
   "execution_count": 12,
   "metadata": {},
   "outputs": [],
   "source": [
    "# Define a data pre processing class\n",
    "\n",
    "class featureProcessor:\n",
    "    \"\"\" Data preprocessing \"\"\"\n",
    "    \n",
    "    def __init__(self,dataset,encode=0,encodeScheme='NULL'):\n",
    "        \"\"\"Create a new instance of the preprocessing object\n",
    "        Parameters: \n",
    "            dataset: Dataframe containig the data to be processed \n",
    "            encode : Binary [1: encode based on encodeScheme ; 0 : no encoding]\n",
    "        \"\"\"\n",
    "        self._dataset = dataset\n",
    "        self._encode = encode\n",
    "        self._encodeScheme = encodeScheme\n",
    "        self._dataencoders = {'oneHot': preprocessing.OneHotEncoder(),\n",
    "                          'ordinal': preprocessing.OrdinalEncoder()\n",
    "                         }\n",
    "        \n",
    "        ## Test for argument fidelity\n",
    "        if (self._encode and self._encodeScheme==\"NULL\"):\n",
    "            raise ValueError(\"encodeScheme can't be NULL when encode !=0\")\n",
    "        \n",
    "        if (self._encodeScheme not in self._dataencoders):\n",
    "            raise ValueError(\"{fm} is not a valid encoding scheme defined in featureProcessor\".format(fm=self._encodeScheme))\n",
    "        \n",
    "    def encodeData(self):\n",
    "        \"\"\"Encodes the data set based on chosen scheme\"\"\"    \n",
    "        enc = self._dataencoders[self._encodeScheme]\n",
    "        \n",
    "        # Encode independent variable data\n",
    "        \n",
    "        ## Suhas : Fix X & Y encoding by removing them from one hot encoder \n",
    "        \n",
    "        if self._encode:\n",
    "            enc.fit(self._dataset)\n",
    "            self._transformedDataset = enc.transform(self._dataset)\n",
    "        else:\n",
    "            self._transformedDataset = self._dataset\n",
    "            \n",
    "        # Encode outcome label data  \n",
    "          # Suhas : Add label encoder (not required to use one hot encoding)\n",
    "        \n",
    "        \n",
    "        \n",
    "        return self._transformedDataset\n",
    "    \n"
   ]
  },
  {
   "cell_type": "code",
   "execution_count": 20,
   "metadata": {},
   "outputs": [
    {
     "name": "stdout",
     "output_type": "stream",
     "text": [
      "(175610, 480988)\n",
      "(702439, 480988)\n",
      "(1000, 480988)\n"
     ]
    }
   ],
   "source": [
    "## Create an object of featureProcessor and encode the training data\n",
    "encodeScheme = 'oneHot' # use one Hot scheme\n",
    "encode = 1  # to encode or not to encode\n",
    "fp = featureProcessor(data_train,encode,encodeScheme)               \n",
    "data_train_encoded = fp.encodeData()\n",
    "\n",
    "# Shuffle the data using the format shared in class - first creating a list of shuffled indices\n",
    "random_seed = 1\n",
    "\n",
    "## Shuffle training data by applying shuffled indices\n",
    "#train_dev_data = train_dev_data[shuffle_index,:]\n",
    "#train_dev_labels = train_dev_labels[shuffle_index\n",
    "\n",
    "# Split into training, dev and mini training data sets\n",
    "train_data, dev_data, train_labels, dev_labels = train_test_split(\n",
    "        data_train_encoded, labels_train_encoded, test_size=0.20, random_state=random_seed)\n",
    "mini_train_data, mini_train_labels = train_data[:1000,:], train_labels[:1000]\n",
    "\n",
    "# Check shapes of all arrays\n",
    "\n",
    "print(dev_data.shape)\n",
    "print(train_data.shape)\n",
    "print(mini_train_data.shape)"
   ]
  },
  {
   "cell_type": "code",
   "execution_count": 8,
   "metadata": {},
   "outputs": [
    {
     "name": "stdout",
     "output_type": "stream",
     "text": [
      "Mean score from KNN with 1 neighbors: 0.23330106485963215\n"
     ]
    }
   ],
   "source": [
    "# baseline model is just a knn of 1 for just latitude and longitude\n",
    "neighbors = 1\n",
    "kn = KNeighborsClassifier(n_neighbors=neighbors)\n",
    "kn.fit(train_data, train_labels)\n",
    "\n",
    "# Create predicted values\n",
    "#preds_dev = kn.predict(dev_data)\n",
    "score = kn.score(dev_data, dev_labels)\n",
    "#proba = kn.predict_proba(dev_data)\n",
    "\n",
    "print('Mean score from KNN with {nn} neighbors: {score}'.format(nn=neighbors, score=score))"
   ]
  },
  {
   "cell_type": "code",
   "execution_count": 9,
   "metadata": {},
   "outputs": [],
   "source": [
    "## Run predictions on test data (need to encode before using)\n",
    "test_data_encoded = test_data\n",
    "for k in range(test_data.shape[1]):\n",
    "    test_data_encoded[:,k] = enc.fit_transform(np.ravel(test_data[:,k].reshape(-1,1)))\n",
    "preds = kn.predict(test_data_encoded)"
   ]
  },
  {
   "cell_type": "code",
   "execution_count": 10,
   "metadata": {},
   "outputs": [
    {
     "name": "stdout",
     "output_type": "stream",
     "text": [
      "sample submission shape (884262, 40)\n",
      "final shape (884262, 40)\n"
     ]
    }
   ],
   "source": [
    "## Print formatted output for submission CSV\n",
    "\n",
    "# Looking at format of output\n",
    "#print(sample_submission.head())\n",
    "print('sample submission shape', sample_submission.shape)\n",
    "\n",
    "# Now put results in a dataframe \n",
    "all_ids = test[\"Id\"].values\n",
    "\n",
    "# From encoded categories, get normal labels\n",
    "labeled_preds = [data_classes[i] for i in preds]\n",
    "\n",
    "# Make dateframe\n",
    "d = {'Id': all_ids, 'Label': labeled_preds}\n",
    "\n",
    "# Make the results dummy columns\n",
    "df = pd.DataFrame(data = d)\n",
    "results = pd.get_dummies(df, prefix=[''],prefix_sep = '')\n",
    "\n",
    "# To ensure we have all columns, copy data into the schema of sample_submission\n",
    "submission = pd.DataFrame().reindex_like(sample_submission).fillna(0).astype(int)\n",
    "\n",
    "col_names = list(results.columns.values)\n",
    "for col in col_names:\n",
    "    submission[col] = results[col]\n",
    "\n",
    "    \n",
    "print('final shape',submission.shape )\n",
    "## Save the predictions to submission CSV file\n",
    "submission.to_csv('baseline_submission.csv', index = False)\n",
    "\n",
    "#print(submission)"
   ]
  },
  {
   "cell_type": "code",
   "execution_count": null,
   "metadata": {},
   "outputs": [],
   "source": []
  }
 ],
 "metadata": {
  "anaconda-cloud": {},
  "kernelspec": {
   "display_name": "Python 3",
   "language": "python",
   "name": "python3"
  },
  "language_info": {
   "codemirror_mode": {
    "name": "ipython",
    "version": 3
   },
   "file_extension": ".py",
   "mimetype": "text/x-python",
   "name": "python",
   "nbconvert_exporter": "python",
   "pygments_lexer": "ipython3",
   "version": "3.7.2"
  }
 },
 "nbformat": 4,
 "nbformat_minor": 1
}
