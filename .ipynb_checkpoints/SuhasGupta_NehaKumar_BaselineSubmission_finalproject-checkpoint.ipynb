{
 "cells": [
  {
   "cell_type": "markdown",
   "metadata": {},
   "source": [
    "#  MIDS W207 \n",
    "\n",
    "## Authors: Neha Kumar, Suhas Gupta\n",
    "## Submission Data: 04/06/2019 "
   ]
  },
  {
   "cell_type": "code",
   "execution_count": 1,
   "metadata": {},
   "outputs": [],
   "source": [
    "# General libraries.\n",
    "import numpy as np\n",
    "import matplotlib.pyplot as plt\n",
    "import pandas as pd\n",
    "import seaborn as sns\n",
    "import requests\n",
    "import json\n",
    "from geopy.geocoders import Nominatim\n",
    "from geopy.extra.rate_limiter import RateLimiter\n",
    "import time\n",
    "\n",
    "# SK-learn libraries for learning.\n",
    "from sklearn import preprocessing\n",
    "from sklearn.pipeline import Pipeline\n",
    "from sklearn.neighbors import KNeighborsClassifier\n",
    "from sklearn.linear_model import LogisticRegression\n",
    "from sklearn.tree import DecisionTreeClassifier\n",
    "from sklearn.naive_bayes import BernoulliNB\n",
    "from sklearn.naive_bayes import MultinomialNB\n",
    "from sklearn.model_selection import GridSearchCV\n",
    "from sklearn.model_selection import train_test_split\n",
    "\n",
    "# SK-learn libraries for evaluation.\n",
    "from sklearn.metrics import confusion_matrix\n",
    "from sklearn import metrics\n",
    "from sklearn.metrics import classification_report\n",
    "\n",
    "# This tells matplotlib not to try opening a new window for each plot.\n",
    "%matplotlib inline\n",
    "# Set the figure size for seaborn plots\n",
    "sns.set(rc={'figure.figsize':(15,10)})"
   ]
  },
  {
   "cell_type": "markdown",
   "metadata": {},
   "source": [
    "We selected the SF Crime competition\n",
    "\n",
    "https://www.kaggle.com/c/sf-crime/data"
   ]
  },
  {
   "cell_type": "code",
   "execution_count": 2,
   "metadata": {
    "scrolled": false
   },
   "outputs": [],
   "source": [
    "## Import CSV files into pandas data frames\n",
    "\n",
    "train = pd.read_csv('train.csv')\n",
    "test = pd.read_csv('test.csv')\n",
    "sample_submission = pd.read_csv('sampleSubmission.csv')\n"
   ]
  },
  {
   "cell_type": "code",
   "execution_count": 3,
   "metadata": {},
   "outputs": [
    {
     "data": {
      "text/html": [
       "<div>\n",
       "<style scoped>\n",
       "    .dataframe tbody tr th:only-of-type {\n",
       "        vertical-align: middle;\n",
       "    }\n",
       "\n",
       "    .dataframe tbody tr th {\n",
       "        vertical-align: top;\n",
       "    }\n",
       "\n",
       "    .dataframe thead th {\n",
       "        text-align: right;\n",
       "    }\n",
       "</style>\n",
       "<table border=\"1\" class=\"dataframe\">\n",
       "  <thead>\n",
       "    <tr style=\"text-align: right;\">\n",
       "      <th></th>\n",
       "      <th>Dates</th>\n",
       "      <th>Category</th>\n",
       "      <th>Descript</th>\n",
       "      <th>DayOfWeek</th>\n",
       "      <th>PdDistrict</th>\n",
       "      <th>Resolution</th>\n",
       "      <th>Address</th>\n",
       "      <th>X</th>\n",
       "      <th>Y</th>\n",
       "    </tr>\n",
       "  </thead>\n",
       "  <tbody>\n",
       "    <tr>\n",
       "      <th>0</th>\n",
       "      <td>2015-05-13 23:53:00</td>\n",
       "      <td>WARRANTS</td>\n",
       "      <td>WARRANT ARREST</td>\n",
       "      <td>Wednesday</td>\n",
       "      <td>NORTHERN</td>\n",
       "      <td>ARREST, BOOKED</td>\n",
       "      <td>OAK ST / LAGUNA ST</td>\n",
       "      <td>-122.425892</td>\n",
       "      <td>37.774599</td>\n",
       "    </tr>\n",
       "    <tr>\n",
       "      <th>1</th>\n",
       "      <td>2015-05-13 23:53:00</td>\n",
       "      <td>OTHER OFFENSES</td>\n",
       "      <td>TRAFFIC VIOLATION ARREST</td>\n",
       "      <td>Wednesday</td>\n",
       "      <td>NORTHERN</td>\n",
       "      <td>ARREST, BOOKED</td>\n",
       "      <td>OAK ST / LAGUNA ST</td>\n",
       "      <td>-122.425892</td>\n",
       "      <td>37.774599</td>\n",
       "    </tr>\n",
       "    <tr>\n",
       "      <th>2</th>\n",
       "      <td>2015-05-13 23:33:00</td>\n",
       "      <td>OTHER OFFENSES</td>\n",
       "      <td>TRAFFIC VIOLATION ARREST</td>\n",
       "      <td>Wednesday</td>\n",
       "      <td>NORTHERN</td>\n",
       "      <td>ARREST, BOOKED</td>\n",
       "      <td>VANNESS AV / GREENWICH ST</td>\n",
       "      <td>-122.424363</td>\n",
       "      <td>37.800414</td>\n",
       "    </tr>\n",
       "    <tr>\n",
       "      <th>3</th>\n",
       "      <td>2015-05-13 23:30:00</td>\n",
       "      <td>LARCENY/THEFT</td>\n",
       "      <td>GRAND THEFT FROM LOCKED AUTO</td>\n",
       "      <td>Wednesday</td>\n",
       "      <td>NORTHERN</td>\n",
       "      <td>NONE</td>\n",
       "      <td>1500 Block of LOMBARD ST</td>\n",
       "      <td>-122.426995</td>\n",
       "      <td>37.800873</td>\n",
       "    </tr>\n",
       "    <tr>\n",
       "      <th>4</th>\n",
       "      <td>2015-05-13 23:30:00</td>\n",
       "      <td>LARCENY/THEFT</td>\n",
       "      <td>GRAND THEFT FROM LOCKED AUTO</td>\n",
       "      <td>Wednesday</td>\n",
       "      <td>PARK</td>\n",
       "      <td>NONE</td>\n",
       "      <td>100 Block of BRODERICK ST</td>\n",
       "      <td>-122.438738</td>\n",
       "      <td>37.771541</td>\n",
       "    </tr>\n",
       "  </tbody>\n",
       "</table>\n",
       "</div>"
      ],
      "text/plain": [
       "                 Dates        Category                      Descript  \\\n",
       "0  2015-05-13 23:53:00        WARRANTS                WARRANT ARREST   \n",
       "1  2015-05-13 23:53:00  OTHER OFFENSES      TRAFFIC VIOLATION ARREST   \n",
       "2  2015-05-13 23:33:00  OTHER OFFENSES      TRAFFIC VIOLATION ARREST   \n",
       "3  2015-05-13 23:30:00   LARCENY/THEFT  GRAND THEFT FROM LOCKED AUTO   \n",
       "4  2015-05-13 23:30:00   LARCENY/THEFT  GRAND THEFT FROM LOCKED AUTO   \n",
       "\n",
       "   DayOfWeek PdDistrict      Resolution                    Address  \\\n",
       "0  Wednesday   NORTHERN  ARREST, BOOKED         OAK ST / LAGUNA ST   \n",
       "1  Wednesday   NORTHERN  ARREST, BOOKED         OAK ST / LAGUNA ST   \n",
       "2  Wednesday   NORTHERN  ARREST, BOOKED  VANNESS AV / GREENWICH ST   \n",
       "3  Wednesday   NORTHERN            NONE   1500 Block of LOMBARD ST   \n",
       "4  Wednesday       PARK            NONE  100 Block of BRODERICK ST   \n",
       "\n",
       "            X          Y  \n",
       "0 -122.425892  37.774599  \n",
       "1 -122.425892  37.774599  \n",
       "2 -122.424363  37.800414  \n",
       "3 -122.426995  37.800873  \n",
       "4 -122.438738  37.771541  "
      ]
     },
     "execution_count": 3,
     "metadata": {},
     "output_type": "execute_result"
    }
   ],
   "source": [
    "## Lets look at the train data frame\n",
    "train[:5]"
   ]
  },
  {
   "cell_type": "code",
   "execution_count": 4,
   "metadata": {},
   "outputs": [
    {
     "data": {
      "text/html": [
       "<div>\n",
       "<style scoped>\n",
       "    .dataframe tbody tr th:only-of-type {\n",
       "        vertical-align: middle;\n",
       "    }\n",
       "\n",
       "    .dataframe tbody tr th {\n",
       "        vertical-align: top;\n",
       "    }\n",
       "\n",
       "    .dataframe thead th {\n",
       "        text-align: right;\n",
       "    }\n",
       "</style>\n",
       "<table border=\"1\" class=\"dataframe\">\n",
       "  <thead>\n",
       "    <tr style=\"text-align: right;\">\n",
       "      <th></th>\n",
       "      <th>Id</th>\n",
       "      <th>Dates</th>\n",
       "      <th>DayOfWeek</th>\n",
       "      <th>PdDistrict</th>\n",
       "      <th>Address</th>\n",
       "      <th>X</th>\n",
       "      <th>Y</th>\n",
       "    </tr>\n",
       "  </thead>\n",
       "  <tbody>\n",
       "    <tr>\n",
       "      <th>0</th>\n",
       "      <td>0</td>\n",
       "      <td>2015-05-10 23:59:00</td>\n",
       "      <td>Sunday</td>\n",
       "      <td>BAYVIEW</td>\n",
       "      <td>2000 Block of THOMAS AV</td>\n",
       "      <td>-122.399588</td>\n",
       "      <td>37.735051</td>\n",
       "    </tr>\n",
       "    <tr>\n",
       "      <th>1</th>\n",
       "      <td>1</td>\n",
       "      <td>2015-05-10 23:51:00</td>\n",
       "      <td>Sunday</td>\n",
       "      <td>BAYVIEW</td>\n",
       "      <td>3RD ST / REVERE AV</td>\n",
       "      <td>-122.391523</td>\n",
       "      <td>37.732432</td>\n",
       "    </tr>\n",
       "    <tr>\n",
       "      <th>2</th>\n",
       "      <td>2</td>\n",
       "      <td>2015-05-10 23:50:00</td>\n",
       "      <td>Sunday</td>\n",
       "      <td>NORTHERN</td>\n",
       "      <td>2000 Block of GOUGH ST</td>\n",
       "      <td>-122.426002</td>\n",
       "      <td>37.792212</td>\n",
       "    </tr>\n",
       "    <tr>\n",
       "      <th>3</th>\n",
       "      <td>3</td>\n",
       "      <td>2015-05-10 23:45:00</td>\n",
       "      <td>Sunday</td>\n",
       "      <td>INGLESIDE</td>\n",
       "      <td>4700 Block of MISSION ST</td>\n",
       "      <td>-122.437394</td>\n",
       "      <td>37.721412</td>\n",
       "    </tr>\n",
       "    <tr>\n",
       "      <th>4</th>\n",
       "      <td>4</td>\n",
       "      <td>2015-05-10 23:45:00</td>\n",
       "      <td>Sunday</td>\n",
       "      <td>INGLESIDE</td>\n",
       "      <td>4700 Block of MISSION ST</td>\n",
       "      <td>-122.437394</td>\n",
       "      <td>37.721412</td>\n",
       "    </tr>\n",
       "  </tbody>\n",
       "</table>\n",
       "</div>"
      ],
      "text/plain": [
       "   Id                Dates DayOfWeek PdDistrict                   Address  \\\n",
       "0   0  2015-05-10 23:59:00    Sunday    BAYVIEW   2000 Block of THOMAS AV   \n",
       "1   1  2015-05-10 23:51:00    Sunday    BAYVIEW        3RD ST / REVERE AV   \n",
       "2   2  2015-05-10 23:50:00    Sunday   NORTHERN    2000 Block of GOUGH ST   \n",
       "3   3  2015-05-10 23:45:00    Sunday  INGLESIDE  4700 Block of MISSION ST   \n",
       "4   4  2015-05-10 23:45:00    Sunday  INGLESIDE  4700 Block of MISSION ST   \n",
       "\n",
       "            X          Y  \n",
       "0 -122.399588  37.735051  \n",
       "1 -122.391523  37.732432  \n",
       "2 -122.426002  37.792212  \n",
       "3 -122.437394  37.721412  \n",
       "4 -122.437394  37.721412  "
      ]
     },
     "execution_count": 4,
     "metadata": {},
     "output_type": "execute_result"
    }
   ],
   "source": [
    "## Look at the test data frame \n",
    "test[:5]"
   ]
  },
  {
   "cell_type": "markdown",
   "metadata": {},
   "source": [
    "(from Kaggle)\n",
    "## Data fields\n",
    "- Dates - timestamp of the crime incident\n",
    "- Category - category of the crime incident (only in train.csv). This is the target variable you are going to predict.\n",
    "- Descript - detailed description of the crime incident (only in train.csv)\n",
    "- DayOfWeek - the day of the week\n",
    "- PdDistrict - name of the Police Department District\n",
    "- Resolution - how the crime incident was resolved (only in train.csv)\n",
    "- Address - the approximate street address of the crime incident \n",
    "- X - Longitude\n",
    "- Y - Latitude\n",
    "\n",
    "The variables we can use to generate the model will need to be in both the train and test dataset. This gives us:\n",
    "- Dates\n",
    "- DayOfWeek\n",
    "- PdDistrict\n",
    "- Address\n",
    "- X\n",
    "- Y"
   ]
  },
  {
   "cell_type": "markdown",
   "metadata": {},
   "source": [
    "Let us look at a quick summary of the dataset provided by Kaggle to check if there are any missing/NULL values in the data."
   ]
  },
  {
   "cell_type": "code",
   "execution_count": 5,
   "metadata": {
    "scrolled": true
   },
   "outputs": [
    {
     "name": "stdout",
     "output_type": "stream",
     "text": [
      "Training data set\n",
      "..................\n",
      "<class 'pandas.core.frame.DataFrame'>\n",
      "RangeIndex: 878049 entries, 0 to 878048\n",
      "Data columns (total 9 columns):\n",
      "Dates         878049 non-null object\n",
      "Category      878049 non-null object\n",
      "Descript      878049 non-null object\n",
      "DayOfWeek     878049 non-null object\n",
      "PdDistrict    878049 non-null object\n",
      "Resolution    878049 non-null object\n",
      "Address       878049 non-null object\n",
      "X             878049 non-null float64\n",
      "Y             878049 non-null float64\n",
      "dtypes: float64(2), object(7)\n",
      "memory usage: 60.3+ MB\n",
      "None\n",
      "\n",
      "Test data set\n",
      "..................\n",
      "<class 'pandas.core.frame.DataFrame'>\n",
      "RangeIndex: 884262 entries, 0 to 884261\n",
      "Data columns (total 7 columns):\n",
      "Id            884262 non-null int64\n",
      "Dates         884262 non-null object\n",
      "DayOfWeek     884262 non-null object\n",
      "PdDistrict    884262 non-null object\n",
      "Address       884262 non-null object\n",
      "X             884262 non-null float64\n",
      "Y             884262 non-null float64\n",
      "dtypes: float64(2), int64(1), object(4)\n",
      "memory usage: 47.2+ MB\n",
      "None\n"
     ]
    }
   ],
   "source": [
    "print('Training data set')\n",
    "print('..................')\n",
    "print(train.info())\n",
    "print('\\nTest data set')\n",
    "print('..................')\n",
    "print(test.info())"
   ]
  },
  {
   "cell_type": "markdown",
   "metadata": {},
   "source": [
    "- The output above shows that there are no missing values in the Kaggle datasets for both training and test data. Thus we do not need to account for missing values in our EDA and model development.\n",
    "\n",
    "- We can also see from above, that all the variables except geographical coordinates (X,Y) are categorical. Thus we will need to perform feature encoding to enable the use of sklearn's modeling and prediction algorithms."
   ]
  },
  {
   "cell_type": "markdown",
   "metadata": {},
   "source": [
    "First let us examine the outcome variable \"Category\""
   ]
  },
  {
   "cell_type": "code",
   "execution_count": 6,
   "metadata": {
    "scrolled": true
   },
   "outputs": [
    {
     "data": {
      "text/plain": [
       "[Text(0,0,'WARRANTS'),\n",
       " Text(0,0,'OTHER OFFENSES'),\n",
       " Text(0,0,'LARCENY/THEFT'),\n",
       " Text(0,0,'VEHICLE THEFT'),\n",
       " Text(0,0,'VANDALISM'),\n",
       " Text(0,0,'NON-CRIMINAL'),\n",
       " Text(0,0,'ROBBERY'),\n",
       " Text(0,0,'ASSAULT'),\n",
       " Text(0,0,'WEAPON LAWS'),\n",
       " Text(0,0,'BURGLARY'),\n",
       " Text(0,0,'SUSPICIOUS OCC'),\n",
       " Text(0,0,'DRUNKENNESS'),\n",
       " Text(0,0,'FORGERY/COUNTERFEITING'),\n",
       " Text(0,0,'DRUG/NARCOTIC'),\n",
       " Text(0,0,'STOLEN PROPERTY'),\n",
       " Text(0,0,'SECONDARY CODES'),\n",
       " Text(0,0,'TRESPASS'),\n",
       " Text(0,0,'MISSING PERSON'),\n",
       " Text(0,0,'FRAUD'),\n",
       " Text(0,0,'KIDNAPPING'),\n",
       " Text(0,0,'RUNAWAY'),\n",
       " Text(0,0,'DRIVING UNDER THE INFLUENCE'),\n",
       " Text(0,0,'SEX OFFENSES FORCIBLE'),\n",
       " Text(0,0,'PROSTITUTION'),\n",
       " Text(0,0,'DISORDERLY CONDUCT'),\n",
       " Text(0,0,'ARSON'),\n",
       " Text(0,0,'FAMILY OFFENSES'),\n",
       " Text(0,0,'LIQUOR LAWS'),\n",
       " Text(0,0,'BRIBERY'),\n",
       " Text(0,0,'EMBEZZLEMENT'),\n",
       " Text(0,0,'SUICIDE'),\n",
       " Text(0,0,'LOITERING'),\n",
       " Text(0,0,'SEX OFFENSES NON FORCIBLE'),\n",
       " Text(0,0,'EXTORTION'),\n",
       " Text(0,0,'GAMBLING'),\n",
       " Text(0,0,'BAD CHECKS'),\n",
       " Text(0,0,'TREA'),\n",
       " Text(0,0,'RECOVERED VEHICLE'),\n",
       " Text(0,0,'PORNOGRAPHY/OBSCENE MAT')]"
      ]
     },
     "execution_count": 6,
     "metadata": {},
     "output_type": "execute_result"
    },
    {
     "data": {
      "image/png": "[encoded data removed]",
      "text/plain": [
       "<Figure size 432x288 with 1 Axes>"
      ]
     },
     "metadata": {},
     "output_type": "display_data"
    }
   ],
   "source": [
    "g = sns.countplot(data = train, x = 'Category',orient='h')\n",
    "g.set_xticklabels(g.get_xticklabels(),rotation=90)"
   ]
  },
  {
   "cell_type": "markdown",
   "metadata": {},
   "source": [
    "The above plot shows the frequency distribution of the outcome variable **Category**. The distribution might appear to be skewed but this is expected since the outcome variable is categorical and cannot be sorted in a numerical order. We can see that the maximum frequency crime cateogry is **LARCENY/THEFT** followed by **OTHER OFFSENSES** and **NON-CRIMINAL**. Thus if the training data is unbiased and randomly distributed, we can expect a good accuracy score by just predicting outcome of 45% LARCENY, 35% OTHER and 20% NON-CRIMINAL in our test outcome vector. We will later see how this strategy performs as a prediction model."
   ]
  },
  {
   "cell_type": "markdown",
   "metadata": {},
   "source": [
    "As an additional note, we notice that some categories have very poor representation (particularly on the right hand sdie of this graph). This immediately discards KNN as a viable modeling option, as it would bias reponses to those that are over-represented (and have a larger number of neighbors)."
   ]
  },
  {
   "cell_type": "code",
   "execution_count": 7,
   "metadata": {
    "scrolled": true
   },
   "outputs": [
    {
     "data": {
      "text/html": [
       "<div>\n",
       "<style scoped>\n",
       "    .dataframe tbody tr th:only-of-type {\n",
       "        vertical-align: middle;\n",
       "    }\n",
       "\n",
       "    .dataframe tbody tr th {\n",
       "        vertical-align: top;\n",
       "    }\n",
       "\n",
       "    .dataframe thead th {\n",
       "        text-align: right;\n",
       "    }\n",
       "</style>\n",
       "<table border=\"1\" class=\"dataframe\">\n",
       "  <thead>\n",
       "    <tr style=\"text-align: right;\">\n",
       "      <th></th>\n",
       "      <th>Dates</th>\n",
       "      <th>Category</th>\n",
       "      <th>Descript</th>\n",
       "      <th>DayOfWeek</th>\n",
       "      <th>PdDistrict</th>\n",
       "      <th>Resolution</th>\n",
       "      <th>Address</th>\n",
       "      <th>X</th>\n",
       "      <th>Y</th>\n",
       "    </tr>\n",
       "  </thead>\n",
       "  <tbody>\n",
       "    <tr>\n",
       "      <th>count</th>\n",
       "      <td>878049</td>\n",
       "      <td>878049</td>\n",
       "      <td>878049</td>\n",
       "      <td>878049</td>\n",
       "      <td>878049</td>\n",
       "      <td>878049</td>\n",
       "      <td>878049</td>\n",
       "      <td>878049.000000</td>\n",
       "      <td>878049.000000</td>\n",
       "    </tr>\n",
       "    <tr>\n",
       "      <th>unique</th>\n",
       "      <td>389257</td>\n",
       "      <td>39</td>\n",
       "      <td>879</td>\n",
       "      <td>7</td>\n",
       "      <td>10</td>\n",
       "      <td>17</td>\n",
       "      <td>23228</td>\n",
       "      <td>NaN</td>\n",
       "      <td>NaN</td>\n",
       "    </tr>\n",
       "    <tr>\n",
       "      <th>top</th>\n",
       "      <td>2011-01-01 00:01:00</td>\n",
       "      <td>LARCENY/THEFT</td>\n",
       "      <td>GRAND THEFT FROM LOCKED AUTO</td>\n",
       "      <td>Friday</td>\n",
       "      <td>SOUTHERN</td>\n",
       "      <td>NONE</td>\n",
       "      <td>800 Block of BRYANT ST</td>\n",
       "      <td>NaN</td>\n",
       "      <td>NaN</td>\n",
       "    </tr>\n",
       "    <tr>\n",
       "      <th>freq</th>\n",
       "      <td>185</td>\n",
       "      <td>174900</td>\n",
       "      <td>60022</td>\n",
       "      <td>133734</td>\n",
       "      <td>157182</td>\n",
       "      <td>526790</td>\n",
       "      <td>26533</td>\n",
       "      <td>NaN</td>\n",
       "      <td>NaN</td>\n",
       "    </tr>\n",
       "    <tr>\n",
       "      <th>mean</th>\n",
       "      <td>NaN</td>\n",
       "      <td>NaN</td>\n",
       "      <td>NaN</td>\n",
       "      <td>NaN</td>\n",
       "      <td>NaN</td>\n",
       "      <td>NaN</td>\n",
       "      <td>NaN</td>\n",
       "      <td>-122.422616</td>\n",
       "      <td>37.771020</td>\n",
       "    </tr>\n",
       "    <tr>\n",
       "      <th>std</th>\n",
       "      <td>NaN</td>\n",
       "      <td>NaN</td>\n",
       "      <td>NaN</td>\n",
       "      <td>NaN</td>\n",
       "      <td>NaN</td>\n",
       "      <td>NaN</td>\n",
       "      <td>NaN</td>\n",
       "      <td>0.030354</td>\n",
       "      <td>0.456893</td>\n",
       "    </tr>\n",
       "    <tr>\n",
       "      <th>min</th>\n",
       "      <td>NaN</td>\n",
       "      <td>NaN</td>\n",
       "      <td>NaN</td>\n",
       "      <td>NaN</td>\n",
       "      <td>NaN</td>\n",
       "      <td>NaN</td>\n",
       "      <td>NaN</td>\n",
       "      <td>-122.513642</td>\n",
       "      <td>37.707879</td>\n",
       "    </tr>\n",
       "    <tr>\n",
       "      <th>25%</th>\n",
       "      <td>NaN</td>\n",
       "      <td>NaN</td>\n",
       "      <td>NaN</td>\n",
       "      <td>NaN</td>\n",
       "      <td>NaN</td>\n",
       "      <td>NaN</td>\n",
       "      <td>NaN</td>\n",
       "      <td>-122.432952</td>\n",
       "      <td>37.752427</td>\n",
       "    </tr>\n",
       "    <tr>\n",
       "      <th>50%</th>\n",
       "      <td>NaN</td>\n",
       "      <td>NaN</td>\n",
       "      <td>NaN</td>\n",
       "      <td>NaN</td>\n",
       "      <td>NaN</td>\n",
       "      <td>NaN</td>\n",
       "      <td>NaN</td>\n",
       "      <td>-122.416420</td>\n",
       "      <td>37.775421</td>\n",
       "    </tr>\n",
       "    <tr>\n",
       "      <th>75%</th>\n",
       "      <td>NaN</td>\n",
       "      <td>NaN</td>\n",
       "      <td>NaN</td>\n",
       "      <td>NaN</td>\n",
       "      <td>NaN</td>\n",
       "      <td>NaN</td>\n",
       "      <td>NaN</td>\n",
       "      <td>-122.406959</td>\n",
       "      <td>37.784369</td>\n",
       "    </tr>\n",
       "    <tr>\n",
       "      <th>max</th>\n",
       "      <td>NaN</td>\n",
       "      <td>NaN</td>\n",
       "      <td>NaN</td>\n",
       "      <td>NaN</td>\n",
       "      <td>NaN</td>\n",
       "      <td>NaN</td>\n",
       "      <td>NaN</td>\n",
       "      <td>-120.500000</td>\n",
       "      <td>90.000000</td>\n",
       "    </tr>\n",
       "  </tbody>\n",
       "</table>\n",
       "</div>"
      ],
      "text/plain": [
       "                      Dates       Category                      Descript  \\\n",
       "count                878049         878049                        878049   \n",
       "unique               389257             39                           879   \n",
       "top     2011-01-01 00:01:00  LARCENY/THEFT  GRAND THEFT FROM LOCKED AUTO   \n",
       "freq                    185         174900                         60022   \n",
       "mean                    NaN            NaN                           NaN   \n",
       "std                     NaN            NaN                           NaN   \n",
       "min                     NaN            NaN                           NaN   \n",
       "25%                     NaN            NaN                           NaN   \n",
       "50%                     NaN            NaN                           NaN   \n",
       "75%                     NaN            NaN                           NaN   \n",
       "max                     NaN            NaN                           NaN   \n",
       "\n",
       "       DayOfWeek PdDistrict Resolution                 Address              X  \\\n",
       "count     878049     878049     878049                  878049  878049.000000   \n",
       "unique         7         10         17                   23228            NaN   \n",
       "top       Friday   SOUTHERN       NONE  800 Block of BRYANT ST            NaN   \n",
       "freq      133734     157182     526790                   26533            NaN   \n",
       "mean         NaN        NaN        NaN                     NaN    -122.422616   \n",
       "std          NaN        NaN        NaN                     NaN       0.030354   \n",
       "min          NaN        NaN        NaN                     NaN    -122.513642   \n",
       "25%          NaN        NaN        NaN                     NaN    -122.432952   \n",
       "50%          NaN        NaN        NaN                     NaN    -122.416420   \n",
       "75%          NaN        NaN        NaN                     NaN    -122.406959   \n",
       "max          NaN        NaN        NaN                     NaN    -120.500000   \n",
       "\n",
       "                    Y  \n",
       "count   878049.000000  \n",
       "unique            NaN  \n",
       "top               NaN  \n",
       "freq              NaN  \n",
       "mean        37.771020  \n",
       "std          0.456893  \n",
       "min         37.707879  \n",
       "25%         37.752427  \n",
       "50%         37.775421  \n",
       "75%         37.784369  \n",
       "max         90.000000  "
      ]
     },
     "execution_count": 7,
     "metadata": {},
     "output_type": "execute_result"
    }
   ],
   "source": [
    "# Plot freq distributio, box plots and scatter plots of category versus independent variables \n",
    "\n",
    "cat_column_list = train.select_dtypes(include = 'object').columns.values\n",
    "num_column_list = train.select_dtypes(include = 'float64').columns.values\n",
    "\n",
    "train.describe(include='all')"
   ]
  },
  {
   "cell_type": "code",
   "execution_count": 26,
   "metadata": {},
   "outputs": [],
   "source": [
    "# Create a copy of the training dataset for feature engineering\n",
    "\n",
    "train_v2 = train.copy()\n",
    "test_v2 = test.copy()"
   ]
  },
  {
   "cell_type": "code",
   "execution_count": 30,
   "metadata": {},
   "outputs": [
    {
     "data": {
      "image/png": "[encoded data removed]",
      "text/plain": [
       "<Figure size 432x288 with 1 Axes>"
      ]
     },
     "metadata": {},
     "output_type": "display_data"
    }
   ],
   "source": [
    "# Look at just the year in the Dates column\n",
    "year_vals = (train_v2['Dates'].str.split('-').str[0]).values\n",
    "(np.unique(year_vals))\n",
    "g = sns.countplot(year_vals)\n",
    "\n",
    "train_v2['year'] = train_v2['Dates'].str.split('-').str[0]\n",
    "test_v2['year'] = test_v2['Dates'].str.split('-').str[0]"
   ]
  },
  {
   "cell_type": "markdown",
   "metadata": {},
   "source": [
    "All the years appear to be evenly distributed in the data set, i.e. there is no distinction boundary apparent in the crime categories from just the year data."
   ]
  },
  {
   "cell_type": "code",
   "execution_count": 29,
   "metadata": {},
   "outputs": [
    {
     "data": {
      "image/png": "[encoded data removed]",
      "text/plain": [
       "<Figure size 432x288 with 1 Axes>"
      ]
     },
     "metadata": {},
     "output_type": "display_data"
    }
   ],
   "source": [
    "# Look at just the month in the Dates column\n",
    "month_vals = (train['Dates'].str.split('-').str[1]).values\n",
    "(np.unique(month_vals))\n",
    "g = sns.countplot(month_vals)\n",
    "\n",
    "train_v2['month'] = train_v2['Dates'].str.split('-').str[1]\n",
    "test_v2['month'] = test_v2['Dates'].str.split('-').str[1]"
   ]
  },
  {
   "cell_type": "code",
   "execution_count": 31,
   "metadata": {},
   "outputs": [
    {
     "data": {
      "text/html": [
       "<div>\n",
       "<style scoped>\n",
       "    .dataframe tbody tr th:only-of-type {\n",
       "        vertical-align: middle;\n",
       "    }\n",
       "\n",
       "    .dataframe tbody tr th {\n",
       "        vertical-align: top;\n",
       "    }\n",
       "\n",
       "    .dataframe thead th {\n",
       "        text-align: right;\n",
       "    }\n",
       "</style>\n",
       "<table border=\"1\" class=\"dataframe\">\n",
       "  <thead>\n",
       "    <tr style=\"text-align: right;\">\n",
       "      <th></th>\n",
       "      <th>Id</th>\n",
       "      <th>Dates</th>\n",
       "      <th>DayOfWeek</th>\n",
       "      <th>PdDistrict</th>\n",
       "      <th>Address</th>\n",
       "      <th>X</th>\n",
       "      <th>Y</th>\n",
       "      <th>month</th>\n",
       "      <th>year</th>\n",
       "    </tr>\n",
       "  </thead>\n",
       "  <tbody>\n",
       "    <tr>\n",
       "      <th>0</th>\n",
       "      <td>0</td>\n",
       "      <td>2015-05-10 23:59:00</td>\n",
       "      <td>Sunday</td>\n",
       "      <td>BAYVIEW</td>\n",
       "      <td>2000 Block of THOMAS AV</td>\n",
       "      <td>-122.399588</td>\n",
       "      <td>37.735051</td>\n",
       "      <td>05</td>\n",
       "      <td>2015</td>\n",
       "    </tr>\n",
       "    <tr>\n",
       "      <th>1</th>\n",
       "      <td>1</td>\n",
       "      <td>2015-05-10 23:51:00</td>\n",
       "      <td>Sunday</td>\n",
       "      <td>BAYVIEW</td>\n",
       "      <td>3RD ST / REVERE AV</td>\n",
       "      <td>-122.391523</td>\n",
       "      <td>37.732432</td>\n",
       "      <td>05</td>\n",
       "      <td>2015</td>\n",
       "    </tr>\n",
       "    <tr>\n",
       "      <th>2</th>\n",
       "      <td>2</td>\n",
       "      <td>2015-05-10 23:50:00</td>\n",
       "      <td>Sunday</td>\n",
       "      <td>NORTHERN</td>\n",
       "      <td>2000 Block of GOUGH ST</td>\n",
       "      <td>-122.426002</td>\n",
       "      <td>37.792212</td>\n",
       "      <td>05</td>\n",
       "      <td>2015</td>\n",
       "    </tr>\n",
       "    <tr>\n",
       "      <th>3</th>\n",
       "      <td>3</td>\n",
       "      <td>2015-05-10 23:45:00</td>\n",
       "      <td>Sunday</td>\n",
       "      <td>INGLESIDE</td>\n",
       "      <td>4700 Block of MISSION ST</td>\n",
       "      <td>-122.437394</td>\n",
       "      <td>37.721412</td>\n",
       "      <td>05</td>\n",
       "      <td>2015</td>\n",
       "    </tr>\n",
       "    <tr>\n",
       "      <th>4</th>\n",
       "      <td>4</td>\n",
       "      <td>2015-05-10 23:45:00</td>\n",
       "      <td>Sunday</td>\n",
       "      <td>INGLESIDE</td>\n",
       "      <td>4700 Block of MISSION ST</td>\n",
       "      <td>-122.437394</td>\n",
       "      <td>37.721412</td>\n",
       "      <td>05</td>\n",
       "      <td>2015</td>\n",
       "    </tr>\n",
       "  </tbody>\n",
       "</table>\n",
       "</div>"
      ],
      "text/plain": [
       "   Id                Dates DayOfWeek PdDistrict                   Address  \\\n",
       "0   0  2015-05-10 23:59:00    Sunday    BAYVIEW   2000 Block of THOMAS AV   \n",
       "1   1  2015-05-10 23:51:00    Sunday    BAYVIEW        3RD ST / REVERE AV   \n",
       "2   2  2015-05-10 23:50:00    Sunday   NORTHERN    2000 Block of GOUGH ST   \n",
       "3   3  2015-05-10 23:45:00    Sunday  INGLESIDE  4700 Block of MISSION ST   \n",
       "4   4  2015-05-10 23:45:00    Sunday  INGLESIDE  4700 Block of MISSION ST   \n",
       "\n",
       "            X          Y month  year  \n",
       "0 -122.399588  37.735051    05  2015  \n",
       "1 -122.391523  37.732432    05  2015  \n",
       "2 -122.426002  37.792212    05  2015  \n",
       "3 -122.437394  37.721412    05  2015  \n",
       "4 -122.437394  37.721412    05  2015  "
      ]
     },
     "execution_count": 31,
     "metadata": {},
     "output_type": "execute_result"
    }
   ],
   "source": [
    "test_v2[:5]"
   ]
  },
  {
   "cell_type": "code",
   "execution_count": 33,
   "metadata": {},
   "outputs": [
    {
     "data": {
      "image/png": "[encoded data removed]",
      "text/plain": [
       "<Figure size 432x288 with 1 Axes>"
      ]
     },
     "metadata": {},
     "output_type": "display_data"
    }
   ],
   "source": [
    "# Look at just the hour in the Dates column\n",
    "hour_vals = pd.to_datetime(train['Dates'],infer_datetime_format=True).dt.hour\n",
    "(np.unique(hour_vals))\n",
    "g = sns.countplot(hour_vals)\n",
    "\n",
    "train_v2['hour'] = pd.to_datetime(train_v2['Dates'],infer_datetime_format=True).dt.hour\n",
    "test_v2['hour'] = pd.to_datetime(test_v2['Dates'],infer_datetime_format=True).dt.hour"
   ]
  },
  {
   "cell_type": "markdown",
   "metadata": {},
   "source": [
    "To get the Zip Codes, we first tried to use geopy's reverse geocode mapping to get the full address (With the zipcode) from the lat/long coordinates. However, we were hitting into a \"too many requests\" error. Best practices recommend we make 1 request per second. As our training dataset has about 800k records, running this API will take close to 10 days. \n",
    "\n",
    "As a result, we pivoted to another strategy. Using the information here https://community.periscopedata.com/t/q5kqgg/us-zip-codes-with-latitudelongitude, we got a CSV with all of the lat/long coordinates cooresponding to each zip code. We then used k neearest neighbors with this CSV as the training dataset (with KNN = 1) to find the zip code whose lat/long coordinate is closest to the crime locatiom.\n",
    "\n",
    "As a caveat, this assumes that zip codes are circular regions (when in reality they are irregularly shaped). However, this approximation runs much faster than using an API, so we will use this way of determining zip codes."
   ]
  },
  {
   "cell_type": "code",
   "execution_count": 34,
   "metadata": {},
   "outputs": [
    {
     "name": "stdout",
     "output_type": "stream",
     "text": [
      "       zip_code   latitude   longitude\n",
      "39798     94101  37.784827 -122.727802\n",
      "39799     94102  37.779278 -122.416582\n",
      "39800     94103  37.775678 -122.412131\n",
      "39801     94104  37.790728 -122.401732\n",
      "39802     94105  37.789595 -122.395631\n"
     ]
    },
    {
     "data": {
      "text/plain": [
       "<matplotlib.collections.PathCollection at 0x1a7e8726d8>"
      ]
     },
     "execution_count": 34,
     "metadata": {},
     "output_type": "execute_result"
    },
    {
     "data": {
      "image/png": "[encoded data removed]",
      "text/plain": [
       "<Figure size 432x288 with 1 Axes>"
      ]
     },
     "metadata": {},
     "output_type": "display_data"
    }
   ],
   "source": [
    "zips = pd.read_csv('zip_codes_states.csv')\n",
    "sf_zips = zips[zips['city'] == 'San Francisco'][['zip_code','latitude','longitude']]\n",
    "\n",
    "# Plotting the SF Zip code midpoints with some crime locations to ensure that the data pulled in via CSV makes ense\n",
    "print(sf_zips[:5])\n",
    "plt.scatter(sf_zips['longitude'],sf_zips['latitude'])\n",
    "demo = train[:100]\n",
    "plt.scatter(demo['X'],demo['Y'])"
   ]
  },
  {
   "cell_type": "code",
   "execution_count": 35,
   "metadata": {},
   "outputs": [
    {
     "name": "stdout",
     "output_type": "stream",
     "text": [
      "                 Dates        Category                      Descript  \\\n",
      "0  2015-05-13 23:53:00        WARRANTS                WARRANT ARREST   \n",
      "1  2015-05-13 23:53:00  OTHER OFFENSES      TRAFFIC VIOLATION ARREST   \n",
      "2  2015-05-13 23:33:00  OTHER OFFENSES      TRAFFIC VIOLATION ARREST   \n",
      "3  2015-05-13 23:30:00   LARCENY/THEFT  GRAND THEFT FROM LOCKED AUTO   \n",
      "4  2015-05-13 23:30:00   LARCENY/THEFT  GRAND THEFT FROM LOCKED AUTO   \n",
      "\n",
      "   DayOfWeek PdDistrict      Resolution                    Address  \\\n",
      "0  Wednesday   NORTHERN  ARREST, BOOKED         OAK ST / LAGUNA ST   \n",
      "1  Wednesday   NORTHERN  ARREST, BOOKED         OAK ST / LAGUNA ST   \n",
      "2  Wednesday   NORTHERN  ARREST, BOOKED  VANNESS AV / GREENWICH ST   \n",
      "3  Wednesday   NORTHERN            NONE   1500 Block of LOMBARD ST   \n",
      "4  Wednesday       PARK            NONE  100 Block of BRODERICK ST   \n",
      "\n",
      "            X          Y month  year  hour  zipcode  \n",
      "0 -122.425892  37.774599    05  2015    23    94102  \n",
      "1 -122.425892  37.774599    05  2015    23    94102  \n",
      "2 -122.424363  37.800414    05  2015    23    94109  \n",
      "3 -122.426995  37.800873    05  2015    23    94109  \n",
      "4 -122.438738  37.771541    05  2015    23    94117  \n",
      "   Id                Dates DayOfWeek PdDistrict                   Address  \\\n",
      "0   0  2015-05-10 23:59:00    Sunday    BAYVIEW   2000 Block of THOMAS AV   \n",
      "1   1  2015-05-10 23:51:00    Sunday    BAYVIEW        3RD ST / REVERE AV   \n",
      "2   2  2015-05-10 23:50:00    Sunday   NORTHERN    2000 Block of GOUGH ST   \n",
      "3   3  2015-05-10 23:45:00    Sunday  INGLESIDE  4700 Block of MISSION ST   \n",
      "4   4  2015-05-10 23:45:00    Sunday  INGLESIDE  4700 Block of MISSION ST   \n",
      "\n",
      "            X          Y month  year  hour  zipcode  \n",
      "0 -122.399588  37.735051    05  2015    23    94124  \n",
      "1 -122.391523  37.732432    05  2015    23    94124  \n",
      "2 -122.426002  37.792212    05  2015    23    94109  \n",
      "3 -122.437394  37.721412    05  2015    23    94112  \n",
      "4 -122.437394  37.721412    05  2015    23    94112  \n"
     ]
    }
   ],
   "source": [
    "# Building a KNN Model with n_neighbors = 1 on the lat/long coordinates\n",
    "zip_features = sf_zips[['longitude','latitude']]\n",
    "zip_features.columns = ['X', 'Y']\n",
    "zip_train = zip_features.values\n",
    "zip_train_labels = sf_zips['zip_code'].values\n",
    "\n",
    "zip_testtrain = train[['X','Y']].values\n",
    "\n",
    "knn_zip = KNeighborsClassifier(n_neighbors = 1)\n",
    "pred_zip = knn_zip.fit(zip_train, zip_train_labels).predict(zip_testtrain)\n",
    "\n",
    "# Here, we put our predicted zip code into the training data frame\n",
    "train_v2['zipcode'] = pred_zip\n",
    "print(train_v2[:5])\n",
    "\n",
    "# Doing the same for the test data\n",
    "zip_testtest = test_v2[['X','Y']].values\n",
    "pred_zip = knn_zip.fit(zip_train, zip_train_labels).predict(zip_testtest)\n",
    "test_v2['zipcode'] = pred_zip\n",
    "print(test_v2[:5])"
   ]
  },
  {
   "cell_type": "code",
   "execution_count": 36,
   "metadata": {},
   "outputs": [
    {
     "data": {
      "image/png": "[encoded data removed]",
      "text/plain": [
       "<Figure size 432x288 with 1 Axes>"
      ]
     },
     "metadata": {},
     "output_type": "display_data"
    }
   ],
   "source": [
    "# Look at the distribution of zip codes\n",
    "zips = train_v2['zipcode'].values\n",
    "(np.unique(zips))\n",
    "g = sns.countplot(zips)"
   ]
  },
  {
   "cell_type": "code",
   "execution_count": 38,
   "metadata": {},
   "outputs": [
    {
     "name": "stdout",
     "output_type": "stream",
     "text": [
      "   Unnamed: 0        Date                              Holiday\n",
      "0           0  2010-12-31                       New Year's Day\n",
      "1           1  2011-01-17  Birthday of Martin Luther King, Jr.\n",
      "2           2  2011-02-21                Washington's Birthday\n",
      "3           3  2011-05-30                         Memorial Day\n",
      "4           4  2011-07-04                     Independence Day\n",
      "The proportion of crime records on US recognized holidays is 0.028657853946647625\n",
      "The proportion of crime records NOT on US recognized holidays is 0.9713421460533523\n",
      "                 Dates        Category                      Descript  \\\n",
      "0  2015-05-13 23:53:00        WARRANTS                WARRANT ARREST   \n",
      "1  2015-05-13 23:53:00  OTHER OFFENSES      TRAFFIC VIOLATION ARREST   \n",
      "2  2015-05-13 23:33:00  OTHER OFFENSES      TRAFFIC VIOLATION ARREST   \n",
      "3  2015-05-13 23:30:00   LARCENY/THEFT  GRAND THEFT FROM LOCKED AUTO   \n",
      "4  2015-05-13 23:30:00   LARCENY/THEFT  GRAND THEFT FROM LOCKED AUTO   \n",
      "\n",
      "   DayOfWeek PdDistrict      Resolution                    Address  \\\n",
      "0  Wednesday   NORTHERN  ARREST, BOOKED         OAK ST / LAGUNA ST   \n",
      "1  Wednesday   NORTHERN  ARREST, BOOKED         OAK ST / LAGUNA ST   \n",
      "2  Wednesday   NORTHERN  ARREST, BOOKED  VANNESS AV / GREENWICH ST   \n",
      "3  Wednesday   NORTHERN            NONE   1500 Block of LOMBARD ST   \n",
      "4  Wednesday       PARK            NONE  100 Block of BRODERICK ST   \n",
      "\n",
      "            X          Y month  year  hour  zipcode  is_holiday  \n",
      "0 -122.425892  37.774599    05  2015    23    94102           0  \n",
      "1 -122.425892  37.774599    05  2015    23    94102           0  \n",
      "2 -122.424363  37.800414    05  2015    23    94109           0  \n",
      "3 -122.426995  37.800873    05  2015    23    94109           0  \n",
      "4 -122.438738  37.771541    05  2015    23    94117           0  \n",
      "   Id                Dates DayOfWeek PdDistrict                   Address  \\\n",
      "0   0  2015-05-10 23:59:00    Sunday    BAYVIEW   2000 Block of THOMAS AV   \n",
      "1   1  2015-05-10 23:51:00    Sunday    BAYVIEW        3RD ST / REVERE AV   \n",
      "2   2  2015-05-10 23:50:00    Sunday   NORTHERN    2000 Block of GOUGH ST   \n",
      "3   3  2015-05-10 23:45:00    Sunday  INGLESIDE  4700 Block of MISSION ST   \n",
      "4   4  2015-05-10 23:45:00    Sunday  INGLESIDE  4700 Block of MISSION ST   \n",
      "\n",
      "            X          Y month  year  hour  zipcode  is_holiday  \n",
      "0 -122.399588  37.735051    05  2015    23    94124           0  \n",
      "1 -122.391523  37.732432    05  2015    23    94124           0  \n",
      "2 -122.426002  37.792212    05  2015    23    94109           0  \n",
      "3 -122.437394  37.721412    05  2015    23    94112           0  \n",
      "4 -122.437394  37.721412    05  2015    23    94112           0  \n"
     ]
    }
   ],
   "source": [
    "# Checking for US Holidays\n",
    "\n",
    "# Load in holidays dataframe (source: Kaggle)\n",
    "holidays = pd.read_csv('usholidays.csv')\n",
    "print(holidays[:5])\n",
    "\n",
    "# Make is_holiday flag\n",
    "dates_train = (train_v2['Dates'].str.split(' ').str[0])\n",
    "dates_test = (test_v2['Dates'].str.split(' ').str[0])\n",
    "\n",
    "train_v2['is_holiday'] = dates_train.isin(holidays.Date).astype(int)\n",
    "test_v2['is_holiday'] = dates_test.isin(holidays.Date).astype(int)\n",
    "\n",
    "\n",
    "proportion_holidays = train_v2['is_holiday'].sum() / train_v2.shape[0]\n",
    "print('The proportion of crime records on US recognized holidays is', proportion_holidays)\n",
    "print('The proportion of crime records NOT on US recognized holidays is', 1 - proportion_holidays)\n",
    "print(train_v2[:5])\n",
    "print(test_v2[:5])\n"
   ]
  },
  {
   "cell_type": "code",
   "execution_count": 39,
   "metadata": {},
   "outputs": [],
   "source": [
    "class createTestTrainData:\n",
    "    '''\n",
    "        Parameters: \n",
    "            trainDataFrame: Pandas DF containing training data\n",
    "            testDataFrame: Pandas DF containing test data\n",
    "            outcome : [String] Predicted variable name in the data frame\n",
    "            removeCategories: [List] Categories to be removed from the training data frame to match test data shape\n",
    "            trainDataEncoded: Numpy data array containing encoded feature set for training data\n",
    "            trainlabelsEncoded: Numpy data array containing encoded dataset for training labels\n",
    "            mini_size: Size of the mini training data and label set to create\n",
    "            r_seed: Random seed for test train split \n",
    "            t_size: Size of dev dataset\n",
    "            shuffle: Boolean indicating shuffling of data for test train split\n",
    "            \n",
    "        Methods: \n",
    "            getDataSets(): Converts the pandas data frames for test and training data to numpy arrays for modeling\n",
    "            testTrainSplit(): Splits dataset into training and development data sets         \n",
    "\n",
    "    '''\n",
    "    def __init__(self,trainDataFrame=pd.DataFrame(),testDataFrame=pd.DataFrame(),outcome='Category',\n",
    "                 removeCategories=['Category','Descript','Resolution'],\n",
    "                 trainDataEncoded=[],trainlabelsEncoded=[], \n",
    "                 mini_size = 1000, r_seed = 1, t_size = 0.20, shuffle=True):\n",
    "        \n",
    "        # Parameters for data set creation\n",
    "        self._trainDataFrame = trainDataFrame\n",
    "        self._testDataFrame = testDataFrame\n",
    "        self._remCats = removeCategories  # categories to remove from the training and fitting datasets\n",
    "        self._labelCat = outcome # define the outcome category\n",
    "        \n",
    "        # Parameters for test train data split\n",
    "        self._r_seed = r_seed\n",
    "        self._shuffle = shuffle\n",
    "        self._t_size = t_size\n",
    "        self._mini_size = mini_size\n",
    "        self._encodedData = trainDataEncoded\n",
    "        self._encodedLabels = trainlabelsEncoded\n",
    "        \n",
    "    def getDataSets(self):\n",
    "        \"\"\" Process pandas dataframe and return numpy arrays \"\"\"\n",
    "        \n",
    "        data_train_df = self._trainDataFrame.drop(self._remCats,axis=1)\n",
    "        labels_train_df = pd.DataFrame(self._trainDataFrame, columns = [self._labelCat])\n",
    "\n",
    "        ## Replace Dates column by just its year numbers\n",
    "        #data_train_df['Dates'] =  (train['Dates'].str.split('-').str[0]).values\n",
    "\n",
    "        ## Convert data frame to numpy arrays\n",
    "        data_train = data_train_df.values\n",
    "        labels_train = labels_train_df.values\n",
    "        ## Store the feature names in a list\n",
    "        train_features_names = list(data_train_df.keys())\n",
    "        ## Remove ID column from test data\n",
    "        test_data = self._testDataFrame.drop(['Id'],axis=1).values\n",
    "        \n",
    "        return data_train,labels_train,test_data,train_features_names\n",
    "    \n",
    "    def testTrainSplit(self):\n",
    "        \"\"\" Split into training, dev and mini training data sets \"\"\"\n",
    "        train_data, dev_data, train_labels, dev_labels = train_test_split(self._encodedData, self._encodedLabels,test_size = self._t_size, random_state = self._r_seed,shuffle=self._shuffle)\n",
    "        mini_train_data, mini_train_labels = train_data[:self._mini_size], train_labels[:self._mini_size]\n",
    "        return train_data, dev_data, mini_train_data, train_labels, dev_labels, mini_train_labels\n",
    "    "
   ]
  },
  {
   "cell_type": "code",
   "execution_count": 40,
   "metadata": {},
   "outputs": [],
   "source": [
    "# Define a data pre processing class\n",
    "\n",
    "class featureProcessor:\n",
    "    '''\n",
    "        Parameters: \n",
    "            dataset: Numpy array containing data with features and samples \n",
    "            encode: Boolean indicating encoding of data\n",
    "            encodeScheme: String value indicating scheme to use for encoding \n",
    " \n",
    "        Methods: \n",
    "            encodeData(): Encodes the data using encodeScheme and returns transformed datasets\n",
    "            encodeLabels(): Encodes the labels using encodeScheme and returns transformed label sets and class names\n",
    "\n",
    "    '''\n",
    "    \n",
    "    def __init__(self,dataset,labelset,encode=0,dataencodeScheme='oneHot',labelEncodeScheme='label'):\n",
    "        \"\"\"Create a new instance of the preprocessing object\n",
    "        Parameters: \n",
    "            dataset: Dataframe containig the data to be processed \n",
    "            encode : Binary [1: encode based on encodeScheme ; 0 : no encoding]\n",
    "        \"\"\"\n",
    "        self._dataset = dataset\n",
    "        self._labelset = labelset\n",
    "        self._encode = encode\n",
    "        self._dataEncodeScheme = dataEncodeScheme\n",
    "        self._labelEncodeScheme = labelEncodeScheme\n",
    "        self._dataencoders = {'oneHot': preprocessing.OneHotEncoder(),\n",
    "                          'ordinal': preprocessing.OrdinalEncoder()\n",
    "                         }\n",
    "        self._labelencoders = {'label': preprocessing.LabelEncoder(),\n",
    "                          \n",
    "                         }\n",
    "        \n",
    "        ## Test for argument fidelity\n",
    "        if (self._encode and (self._dataEncodeScheme==\"NULL\" or self._labelEncodeScheme==\"NULL\")):\n",
    "            raise ValueError(\"encode schemes for data or labels can't be NULL when encode !=0\")     \n",
    "        if (self._dataEncodeScheme not in self._dataencoders):\n",
    "            raise ValueError(\"{fm} is not a valid encoding scheme defined in featureProcessor\".format(fm=self._dataEncodeScheme))\n",
    "        if (self._labelEncodeScheme not in self._labelencoders):\n",
    "            raise ValueError(\"{fm} is not a valid encoding scheme defined in featureProcessor\".format(fm=self._labelEncodeScheme))\n",
    "\n",
    "    def encodeData(self):\n",
    "        '''Suhas : Fix X & Y encoding by removing them from one hot encoder'''\n",
    "        \"\"\"Encodes the data set based on chosen scheme\"\"\"    \n",
    "        enc = self._dataencoders[self._dataEncodeScheme]\n",
    "        # Encode independent variable data        \n",
    "        if self._encode:\n",
    "            transformedDataset = enc.fit_transform(self._dataset)\n",
    "        else:\n",
    "            transformedDataset = self._dataset\n",
    "        return transformedDataset\n",
    "    \n",
    "    def encodeLabels(self):        \n",
    "        # Encode label data\n",
    "        enc = self._labelencoders[self._labelEncodeScheme]\n",
    "        if self._encode:\n",
    "            transformedLabelset = enc.fit_transform(np.ravel(self._labelset.reshape(-1,1)))\n",
    "            data_classes = enc.classes_\n",
    "        else:\n",
    "            transformedLabelset = self._labelset\n",
    "            data_classes = np.unique(transformedLabelset)\n",
    "        return transformedLabelset,data_classes\n",
    "        \n",
    "        "
   ]
  },
  {
   "cell_type": "code",
   "execution_count": 41,
   "metadata": {},
   "outputs": [
    {
     "name": "stdout",
     "output_type": "stream",
     "text": [
      "Shape of training data: (878049, 6)\n",
      "Shape of training labels: (878049, 1)\n",
      "List of pruned training features: ['Dates', 'DayOfWeek', 'PdDistrict', 'Address', 'X', 'Y']\n",
      "Shape of test data: (884262, 6)\n"
     ]
    }
   ],
   "source": [
    "''' Import the data frames into numpy arrays and remove extraneous categories \n",
    "    Outcome Variable: Category [This is what we will predict and it forms a separate array]\n",
    "'''\n",
    "removeCats = ['Category','Descript','Resolution']\n",
    "outcomeLabel = 'Category' \n",
    "importdata = createTestTrainData(trainDataFrame=train,testDataFrame=test,outcome=outcomeLabel,removeCategories=removeCats)\n",
    "data_train,labels_train,test_data,train_features_names = importdata.getDataSets()\n",
    "\n",
    "# Check shape of all arrays\n",
    "print('Shape of training data: {train_shp1}'.format(train_shp1=data_train.shape))\n",
    "print('Shape of training labels: {train_shp2}'.format(train_shp2=labels_train.shape))\n",
    "print('List of pruned training features:', train_features_names)\n",
    "print('Shape of test data:', test_data.shape)"
   ]
  },
  {
   "cell_type": "code",
   "execution_count": 44,
   "metadata": {},
   "outputs": [
    {
     "name": "stdout",
     "output_type": "stream",
     "text": [
      "Shape of training data: (878049, 7)\n",
      "Shape of training labels: (878049, 1)\n",
      "List of pruned training features: ['DayOfWeek', 'PdDistrict', 'month', 'year', 'hour', 'zipcode', 'is_holiday']\n",
      "Shape of test data: (884262, 11)\n"
     ]
    }
   ],
   "source": [
    "''' FOR v2 DATA: Import the data frames into numpy arrays and remove extraneous categories \n",
    "    Outcome Variable: Category [This is what we will predict and it forms a separate array]\n",
    "'''\n",
    "removeCats_v2 = ['Category','Descript','Resolution', 'Dates','Address','X','Y']\n",
    "outcomeLabel = 'Category' \n",
    "importdata_v2 = createTestTrainData(trainDataFrame=train_v2,testDataFrame=test_v2,outcome=outcomeLabel,removeCategories=removeCats_v2)\n",
    "data_train_v2,labels_train_v2,test_data_v2,train_features_names_v2 = importdata_v2.getDataSets()\n",
    "\n",
    "# Check shape of all arrays\n",
    "print('Shape of training data: {train_shp1}'.format(train_shp1=data_train_v2.shape))\n",
    "print('Shape of training labels: {train_shp2}'.format(train_shp2=labels_train_v2.shape))\n",
    "print('List of pruned training features:', train_features_names_v2)\n",
    "print('Shape of test data:', test_data_v2.shape)"
   ]
  },
  {
   "cell_type": "code",
   "execution_count": 45,
   "metadata": {
    "scrolled": false
   },
   "outputs": [
    {
     "name": "stdout",
     "output_type": "stream",
     "text": [
      "['ARSON' 'ASSAULT' 'BAD CHECKS' 'BRIBERY' 'BURGLARY']\n",
      "(878049,)\n",
      "(39,)\n",
      "(175610, 480988)\n",
      "(702439, 480988)\n",
      "(1000, 480988)\n"
     ]
    }
   ],
   "source": [
    "\n",
    "''' Encoded data using one Hot Encoding'''\n",
    "dataEncodeScheme = 'oneHot' # use one Hot scheme\n",
    "labelEncodeScheme  = 'label' # use label encoder (category to ordered numeric)\n",
    "encode = 1  # to encode or not to encode\n",
    "fp = featureProcessor(data_train,labels_train,encode,dataEncodeScheme,labelEncodeScheme)               \n",
    "data_train_encoded = fp.encodeData()\n",
    "labels_train_encoded, data_classes = fp.encodeLabels()\n",
    "print(data_classes[:5])\n",
    "\n",
    "'''Split data in train, dev and mini_train dataset for training and validating models'''\n",
    "random_seed = 1\n",
    "dev_size = 0.20 # Set dev data set size to 20%\n",
    "shuffle = True # Shuffle the data based on random seed\n",
    "mini_dataset_size = 1000\n",
    "splitData = createTestTrainData(trainDataEncoded = data_train_encoded,trainlabelsEncoded=labels_train_encoded, \n",
    "                 mini_size = mini_dataset_size, r_seed=random_seed, t_size = dev_size, shuffle=shuffle)\n",
    "train_data, dev_data, mini_train_data, train_labels, dev_labels, mini_train_labels = splitData.testTrainSplit()\n",
    "\n",
    "# Check shapes of all arrays\n",
    "print(labels_train_encoded.shape)\n",
    "print(data_classes.shape)\n",
    "print(dev_data.shape)\n",
    "print(train_data.shape)\n",
    "print(mini_train_data.shape)"
   ]
  },
  {
   "cell_type": "code",
   "execution_count": 46,
   "metadata": {},
   "outputs": [
    {
     "name": "stdout",
     "output_type": "stream",
     "text": [
      "['ARSON' 'ASSAULT' 'BAD CHECKS' 'BRIBERY' 'BURGLARY']\n",
      "(878049,)\n",
      "(39,)\n",
      "(175610, 95)\n",
      "(702439, 95)\n",
      "(1000, 95)\n"
     ]
    }
   ],
   "source": [
    "\n",
    "''' FOR V2 DATA: Encoded data using one Hot Encoding'''\n",
    "dataEncodeScheme = 'oneHot' # use one Hot scheme\n",
    "labelEncodeScheme  = 'label' # use label encoder (category to ordered numeric)\n",
    "encode = 1  # to encode or not to encode\n",
    "fp_v2 = featureProcessor(data_train_v2,labels_train_v2,encode,dataEncodeScheme,labelEncodeScheme)               \n",
    "data_train_encoded_v2 = fp_v2.encodeData()\n",
    "labels_train_encoded_v2, data_classes_v2 = fp_v2.encodeLabels()\n",
    "print(data_classes_v2[:5])\n",
    "\n",
    "'''Split data in train, dev and mini_train dataset for training and validating models'''\n",
    "random_seed = 1\n",
    "dev_size = 0.20 # Set dev data set size to 20%\n",
    "shuffle = True # Shuffle the data based on random seed\n",
    "mini_dataset_size = 1000\n",
    "splitData_v2 = createTestTrainData(trainDataEncoded = data_train_encoded_v2,trainlabelsEncoded=labels_train_encoded_v2, \n",
    "                 mini_size = mini_dataset_size, r_seed=random_seed, t_size = dev_size, shuffle=shuffle)\n",
    "train_data_v2, dev_data_v2, mini_train_data_v2, train_labels_v2, dev_labels_v2, mini_train_labels_v2 = splitData_v2.testTrainSplit()\n",
    "\n",
    "# Check shapes of all arrays\n",
    "print(labels_train_encoded_v2.shape)\n",
    "print(data_classes_v2.shape)\n",
    "print(dev_data_v2.shape)\n",
    "print(train_data_v2.shape)\n",
    "print(mini_train_data_v2.shape)"
   ]
  },
  {
   "cell_type": "markdown",
   "metadata": {},
   "source": [
    "## Multinomial Naive Bayes¶\n"
   ]
  },
  {
   "cell_type": "code",
   "execution_count": 16,
   "metadata": {
    "scrolled": true
   },
   "outputs": [
    {
     "name": "stdout",
     "output_type": "stream",
     "text": [
      "The best value for alpha is: {'alpha': 1.0}\n"
     ]
    },
    {
     "name": "stderr",
     "output_type": "stream",
     "text": [
      "/usr/local/lib/python3.7/site-packages/sklearn/linear_model/sag.py:334: ConvergenceWarning: The max_iter was reached which means the coef_ did not converge\n",
      "  \"the coef_ did not converge\", ConvergenceWarning)\n"
     ]
    }
   ],
   "source": [
    "mnb = MultinomialNB()\n",
    "alphas = {'alpha': [0.0000001, 0.000001, 0.00001, 0.0001, 0.001, 0.01, 0.1, 0.5, 1.0, 2.0, 10.0]}\n",
    "mnb_cv = GridSearchCV(estimator = mnb, param_grid = alphas, cv = 3, scoring = 'f1_micro', n_jobs=-1)\n",
    "nb = mnb_cv.fit(train_data, train_labels)"
   ]
  },
  {
   "cell_type": "code",
   "execution_count": 47,
   "metadata": {},
   "outputs": [],
   "source": [
    "# For V2 data\n",
    "\n",
    "mnb_v2 = MultinomialNB()\n",
    "alphas = {'alpha': [0.0000001, 0.000001, 0.00001, 0.0001, 0.001, 0.01, 0.1, 0.5, 1.0, 2.0, 10.0]}\n",
    "mnb_v2_cv = GridSearchCV(estimator = mnb_v2, param_grid = alphas, cv = 3, scoring = 'f1_micro', n_jobs=-1)\n",
    "nb_v2 = mnb_v2_cv.fit(train_data_v2, train_labels_v2)"
   ]
  },
  {
   "cell_type": "code",
   "execution_count": 46,
   "metadata": {},
   "outputs": [
    {
     "name": "stdout",
     "output_type": "stream",
     "text": [
      "The best value for alpha is: 1.0\n",
      "Best score from grid search on training data set:0.2854\n"
     ]
    }
   ],
   "source": [
    "print('The best value for alpha is:', nb.best_params_['alpha'])\n",
    "print('Best score from grid search on training data set:{fm}'.format(fm=round(nb.best_score_,4)))"
   ]
  },
  {
   "cell_type": "code",
   "execution_count": 48,
   "metadata": {},
   "outputs": [
    {
     "name": "stdout",
     "output_type": "stream",
     "text": [
      "The best value for alpha (with feature engineering) is: 10.0\n",
      "Best score from grid search on training data set (with feature engineering):0.2319\n"
     ]
    }
   ],
   "source": [
    "# For V2 data\n",
    "\n",
    "print('The best value for alpha (with feature engineering) is:', nb_v2.best_params_['alpha'])\n",
    "print('Best score from grid search on training data set (with feature engineering):{fm}'.format(fm=round(nb_v2.best_score_,4)))\n"
   ]
  },
  {
   "cell_type": "code",
   "execution_count": 49,
   "metadata": {},
   "outputs": [
    {
     "name": "stdout",
     "output_type": "stream",
     "text": [
      "The F1 score for a Multinomial Native Bayes model is 0.2907\n"
     ]
    }
   ],
   "source": [
    "best_alpha = nb.best_params_['alpha']\n",
    "mnb_optimized = MultinomialNB(alpha = best_alpha)\n",
    "pred_labels = mnb_optimized.fit(train_data, train_labels).predict(dev_data)\n",
    "mnb_score = metrics.f1_score(dev_labels, pred_labels, average = 'micro')\n",
    "print('The F1 score for a Multinomial Native Bayes model is {fm}'.format(fm=round(mnb_score,4)))"
   ]
  },
  {
   "cell_type": "code",
   "execution_count": 52,
   "metadata": {},
   "outputs": [
    {
     "name": "stdout",
     "output_type": "stream",
     "text": [
      "The F1 score for a Multinomial Native Bayes model (with feature engineering) is 0.2318\n"
     ]
    }
   ],
   "source": [
    "# For V2 data\n",
    "\n",
    "best_alpha_v2 = nb_v2.best_params_['alpha']\n",
    "mnb_v2_optimized = MultinomialNB(alpha = best_alpha_v2)\n",
    "pred_labels_v2 = mnb_v2_optimized.fit(train_data_v2, train_labels_v2).predict(dev_data_v2)\n",
    "mnb_v2_score = metrics.f1_score(dev_labels_v2, pred_labels_v2, average = 'micro')\n",
    "print('The F1 score for a Multinomial Native Bayes model (with feature engineering) is {fm}'.format(fm=round(mnb_v2_score,4)))"
   ]
  },
  {
   "cell_type": "markdown",
   "metadata": {},
   "source": [
    "## Logistic Regression¶\n"
   ]
  },
  {
   "cell_type": "markdown",
   "metadata": {},
   "source": [
    "### L1 Logistic Regression¶\n"
   ]
  },
  {
   "cell_type": "code",
   "execution_count": 51,
   "metadata": {},
   "outputs": [
    {
     "name": "stderr",
     "output_type": "stream",
     "text": [
      "/usr/local/lib/python3.7/site-packages/sklearn/linear_model/sag.py:334: ConvergenceWarning: The max_iter was reached which means the coef_ did not converge\n",
      "  \"the coef_ did not converge\", ConvergenceWarning)\n"
     ]
    },
    {
     "name": "stdout",
     "output_type": "stream",
     "text": [
      "The F1 score for a Logistic Regression model (using L1 errors) is 0.2688912932065372\n"
     ]
    }
   ],
   "source": [
    "best_c = 0.1\n",
    "best_solver = 'saga'\n",
    "tol = 0.01\n",
    "iterations = 10\n",
    "penalty = 'l1'\n",
    "multiclass = 'multinomial'\n",
    "\n",
    "lr_l1_optimized = LogisticRegression(C = best_c, solver=best_solver,penalty=penalty, multi_class=multiclass,  \n",
    "                                     random_state = random_seed, max_iter=iterations, tol = tol,n_jobs=-1)\n",
    "pred_labels = lr_l1_optimized.fit(train_data, train_labels).predict(dev_data)\n",
    "l1_score = metrics.f1_score(dev_labels, pred_labels, average = 'micro')\n"
   ]
  },
  {
   "cell_type": "code",
   "execution_count": 55,
   "metadata": {},
   "outputs": [
    {
     "name": "stdout",
     "output_type": "stream",
     "text": [
      "The F1 score for a Logistic Regression model (using L1 errors) is 0.2688912932065372\n"
     ]
    }
   ],
   "source": [
    "print('The F1 score for a Logistic Regression model (using L1 errors) is %s'% (l1_score))"
   ]
  },
  {
   "cell_type": "code",
   "execution_count": 56,
   "metadata": {},
   "outputs": [
    {
     "ename": "NameError",
     "evalue": "name 'l1' is not defined",
     "output_type": "error",
     "traceback": [
      "\u001b[0;31m---------------------------------------------------------------------------\u001b[0m",
      "\u001b[0;31mNameError\u001b[0m                                 Traceback (most recent call last)",
      "\u001b[0;32m<ipython-input-56-eb10757ae371>\u001b[0m in \u001b[0;36m<module>\u001b[0;34m\u001b[0m\n\u001b[0;32m----> 1\u001b[0;31m \u001b[0mbest_c\u001b[0m \u001b[0;34m=\u001b[0m \u001b[0ml1\u001b[0m\u001b[0;34m.\u001b[0m\u001b[0mbest_params_\u001b[0m\u001b[0;34m[\u001b[0m\u001b[0;34m'C'\u001b[0m\u001b[0;34m]\u001b[0m\u001b[0;34m\u001b[0m\u001b[0;34m\u001b[0m\u001b[0m\n\u001b[0m\u001b[1;32m      2\u001b[0m \u001b[0mbest_solver\u001b[0m \u001b[0;34m=\u001b[0m \u001b[0ml1\u001b[0m\u001b[0;34m.\u001b[0m\u001b[0mbest_params_\u001b[0m\u001b[0;34m[\u001b[0m\u001b[0;34m'solver'\u001b[0m\u001b[0;34m]\u001b[0m\u001b[0;34m\u001b[0m\u001b[0;34m\u001b[0m\u001b[0m\n\u001b[1;32m      3\u001b[0m \u001b[0;34m\u001b[0m\u001b[0m\n\u001b[1;32m      4\u001b[0m \u001b[0mlr_l1_optimized\u001b[0m \u001b[0;34m=\u001b[0m \u001b[0mLogisticRegression\u001b[0m\u001b[0;34m(\u001b[0m\u001b[0mC\u001b[0m \u001b[0;34m=\u001b[0m \u001b[0mbest_c\u001b[0m\u001b[0;34m,\u001b[0m \u001b[0msolver\u001b[0m \u001b[0;34m=\u001b[0m \u001b[0mbest_solver\u001b[0m\u001b[0;34m,\u001b[0m \u001b[0mpenalty\u001b[0m\u001b[0;34m=\u001b[0m\u001b[0;34m'l1'\u001b[0m\u001b[0;34m,\u001b[0m \u001b[0mmulti_class\u001b[0m\u001b[0;34m=\u001b[0m\u001b[0;34m'multinomial'\u001b[0m\u001b[0;34m,\u001b[0m  \u001b[0mrandom_state\u001b[0m \u001b[0;34m=\u001b[0m \u001b[0;36m123\u001b[0m\u001b[0;34m,\u001b[0m \u001b[0mmax_iter\u001b[0m\u001b[0;34m=\u001b[0m\u001b[0;36m100\u001b[0m\u001b[0;34m,\u001b[0m \u001b[0mtol\u001b[0m \u001b[0;34m=\u001b[0m \u001b[0;36m0.001\u001b[0m\u001b[0;34m)\u001b[0m\u001b[0;34m\u001b[0m\u001b[0;34m\u001b[0m\u001b[0m\n\u001b[1;32m      5\u001b[0m \u001b[0mpred_labels\u001b[0m \u001b[0;34m=\u001b[0m \u001b[0mlr_l1_optimized\u001b[0m\u001b[0;34m.\u001b[0m\u001b[0mfit\u001b[0m\u001b[0;34m(\u001b[0m\u001b[0mtrain_data\u001b[0m\u001b[0;34m,\u001b[0m \u001b[0mtrain_labels\u001b[0m\u001b[0;34m)\u001b[0m\u001b[0;34m.\u001b[0m\u001b[0mpredict\u001b[0m\u001b[0;34m(\u001b[0m\u001b[0mdev_data\u001b[0m\u001b[0;34m)\u001b[0m\u001b[0;34m\u001b[0m\u001b[0;34m\u001b[0m\u001b[0m\n",
      "\u001b[0;31mNameError\u001b[0m: name 'l1' is not defined"
     ]
    }
   ],
   "source": [
    "best_c = l1.best_params_['C']\n",
    "best_solver = l1.best_params_['solver']\n",
    "\n",
    "lr_l1_optimized = LogisticRegression(C = best_c, solver = best_solver, penalty='l1', multi_class='multinomial',  random_state = 123, max_iter=100, tol = 0.001)\n",
    "pred_labels = lr_l1_optimized.fit(train_data, train_labels).predict(dev_data)\n",
    "l1_score = metrics.f1_score(dev_labels, pred_labels, average = 'micro')\n",
    "print('The F1 score for a Logistic Regression model (using L1 errors) is %s'% (l1_score))"
   ]
  },
  {
   "cell_type": "markdown",
   "metadata": {},
   "source": [
    "### L2 Logistic Regression¶\n"
   ]
  },
  {
   "cell_type": "code",
   "execution_count": 57,
   "metadata": {},
   "outputs": [
    {
     "name": "stdout",
     "output_type": "stream",
     "text": [
      "Fitting 3 folds for each of 21 candidates, totalling 63 fits\n"
     ]
    },
    {
     "name": "stderr",
     "output_type": "stream",
     "text": [
      "[Parallel(n_jobs=-1)]: Using backend LokyBackend with 12 concurrent workers.\n",
      "[Parallel(n_jobs=-1)]: Done   1 tasks      | elapsed: 15.6min\n",
      "[Parallel(n_jobs=-1)]: Done   2 tasks      | elapsed: 15.6min\n",
      "[Parallel(n_jobs=-1)]: Done   3 tasks      | elapsed: 15.6min\n",
      "[Parallel(n_jobs=-1)]: Done   4 tasks      | elapsed: 15.6min\n",
      "[Parallel(n_jobs=-1)]: Done   5 tasks      | elapsed: 15.6min\n",
      "[Parallel(n_jobs=-1)]: Done   6 tasks      | elapsed: 15.6min\n",
      "[Parallel(n_jobs=-1)]: Done   7 tasks      | elapsed: 15.6min\n",
      "[Parallel(n_jobs=-1)]: Done   8 tasks      | elapsed: 15.6min\n",
      "[Parallel(n_jobs=-1)]: Done   9 tasks      | elapsed: 15.6min\n",
      "[Parallel(n_jobs=-1)]: Done  10 tasks      | elapsed: 15.6min\n",
      "[Parallel(n_jobs=-1)]: Done  11 tasks      | elapsed: 15.6min\n",
      "[Parallel(n_jobs=-1)]: Done  12 tasks      | elapsed: 15.6min\n",
      "[Parallel(n_jobs=-1)]: Done  13 tasks      | elapsed: 15.6min\n",
      "[Parallel(n_jobs=-1)]: Done  14 tasks      | elapsed: 15.6min\n",
      "[Parallel(n_jobs=-1)]: Done  15 tasks      | elapsed: 15.6min\n",
      "[Parallel(n_jobs=-1)]: Done  16 tasks      | elapsed: 15.6min\n",
      "[Parallel(n_jobs=-1)]: Done  17 tasks      | elapsed: 15.6min\n",
      "[Parallel(n_jobs=-1)]: Done  18 tasks      | elapsed: 15.6min\n",
      "[Parallel(n_jobs=-1)]: Done  19 tasks      | elapsed: 15.6min\n",
      "[Parallel(n_jobs=-1)]: Done  20 tasks      | elapsed: 15.6min\n",
      "[Parallel(n_jobs=-1)]: Done  21 tasks      | elapsed: 15.6min\n",
      "[Parallel(n_jobs=-1)]: Done  22 tasks      | elapsed: 15.6min\n",
      "[Parallel(n_jobs=-1)]: Done  23 tasks      | elapsed: 15.6min\n",
      "[Parallel(n_jobs=-1)]: Done  24 tasks      | elapsed: 15.6min\n"
     ]
    },
    {
     "ename": "KeyboardInterrupt",
     "evalue": "",
     "output_type": "error",
     "traceback": [
      "\u001b[0;31m---------------------------------------------------------------------------\u001b[0m",
      "\u001b[0;31mKeyboardInterrupt\u001b[0m                         Traceback (most recent call last)",
      "\u001b[0;32m<ipython-input-57-ed0f395c3294>\u001b[0m in \u001b[0;36m<module>\u001b[0;34m\u001b[0m\n\u001b[1;32m      5\u001b[0m \u001b[0;34m\u001b[0m\u001b[0m\n\u001b[1;32m      6\u001b[0m \u001b[0mlr_l2_cv\u001b[0m \u001b[0;34m=\u001b[0m \u001b[0mGridSearchCV\u001b[0m\u001b[0;34m(\u001b[0m\u001b[0mestimator\u001b[0m \u001b[0;34m=\u001b[0m \u001b[0mlr_l2\u001b[0m\u001b[0;34m,\u001b[0m \u001b[0mparam_grid\u001b[0m \u001b[0;34m=\u001b[0m \u001b[0mcv_params\u001b[0m\u001b[0;34m,\u001b[0m \u001b[0mcv\u001b[0m \u001b[0;34m=\u001b[0m \u001b[0;36m3\u001b[0m\u001b[0;34m,\u001b[0m \u001b[0mscoring\u001b[0m \u001b[0;34m=\u001b[0m \u001b[0;34m'f1_micro'\u001b[0m\u001b[0;34m,\u001b[0m \u001b[0mn_jobs\u001b[0m \u001b[0;34m=\u001b[0m \u001b[0;34m-\u001b[0m\u001b[0;36m1\u001b[0m\u001b[0;34m,\u001b[0m \u001b[0mverbose\u001b[0m \u001b[0;34m=\u001b[0m \u001b[0;36m10\u001b[0m\u001b[0;34m)\u001b[0m\u001b[0;34m\u001b[0m\u001b[0;34m\u001b[0m\u001b[0m\n\u001b[0;32m----> 7\u001b[0;31m \u001b[0ml2\u001b[0m \u001b[0;34m=\u001b[0m \u001b[0mlr_l2_cv\u001b[0m\u001b[0;34m.\u001b[0m\u001b[0mfit\u001b[0m\u001b[0;34m(\u001b[0m\u001b[0mtrain_data\u001b[0m\u001b[0;34m,\u001b[0m \u001b[0mtrain_labels\u001b[0m\u001b[0;34m)\u001b[0m\u001b[0;34m\u001b[0m\u001b[0;34m\u001b[0m\u001b[0m\n\u001b[0m\u001b[1;32m      8\u001b[0m \u001b[0mprint\u001b[0m\u001b[0;34m(\u001b[0m\u001b[0;34m'The best parameters for Logistic Regression (using L2 errors) are:'\u001b[0m\u001b[0;34m,\u001b[0m \u001b[0ml2\u001b[0m\u001b[0;34m.\u001b[0m\u001b[0mbest_params_\u001b[0m\u001b[0;34m)\u001b[0m\u001b[0;34m\u001b[0m\u001b[0;34m\u001b[0m\u001b[0m\n",
      "\u001b[0;32m/usr/local/lib/python3.7/site-packages/sklearn/model_selection/_search.py\u001b[0m in \u001b[0;36mfit\u001b[0;34m(self, X, y, groups, **fit_params)\u001b[0m\n\u001b[1;32m    720\u001b[0m                 \u001b[0;32mreturn\u001b[0m \u001b[0mresults_container\u001b[0m\u001b[0;34m[\u001b[0m\u001b[0;36m0\u001b[0m\u001b[0;34m]\u001b[0m\u001b[0;34m\u001b[0m\u001b[0;34m\u001b[0m\u001b[0m\n\u001b[1;32m    721\u001b[0m \u001b[0;34m\u001b[0m\u001b[0m\n\u001b[0;32m--> 722\u001b[0;31m             \u001b[0mself\u001b[0m\u001b[0;34m.\u001b[0m\u001b[0m_run_search\u001b[0m\u001b[0;34m(\u001b[0m\u001b[0mevaluate_candidates\u001b[0m\u001b[0;34m)\u001b[0m\u001b[0;34m\u001b[0m\u001b[0;34m\u001b[0m\u001b[0m\n\u001b[0m\u001b[1;32m    723\u001b[0m \u001b[0;34m\u001b[0m\u001b[0m\n\u001b[1;32m    724\u001b[0m         \u001b[0mresults\u001b[0m \u001b[0;34m=\u001b[0m \u001b[0mresults_container\u001b[0m\u001b[0;34m[\u001b[0m\u001b[0;36m0\u001b[0m\u001b[0;34m]\u001b[0m\u001b[0;34m\u001b[0m\u001b[0;34m\u001b[0m\u001b[0m\n",
      "\u001b[0;32m/usr/local/lib/python3.7/site-packages/sklearn/model_selection/_search.py\u001b[0m in \u001b[0;36m_run_search\u001b[0;34m(self, evaluate_candidates)\u001b[0m\n\u001b[1;32m   1189\u001b[0m     \u001b[0;32mdef\u001b[0m \u001b[0m_run_search\u001b[0m\u001b[0;34m(\u001b[0m\u001b[0mself\u001b[0m\u001b[0;34m,\u001b[0m \u001b[0mevaluate_candidates\u001b[0m\u001b[0;34m)\u001b[0m\u001b[0;34m:\u001b[0m\u001b[0;34m\u001b[0m\u001b[0;34m\u001b[0m\u001b[0m\n\u001b[1;32m   1190\u001b[0m         \u001b[0;34m\"\"\"Search all candidates in param_grid\"\"\"\u001b[0m\u001b[0;34m\u001b[0m\u001b[0;34m\u001b[0m\u001b[0m\n\u001b[0;32m-> 1191\u001b[0;31m         \u001b[0mevaluate_candidates\u001b[0m\u001b[0;34m(\u001b[0m\u001b[0mParameterGrid\u001b[0m\u001b[0;34m(\u001b[0m\u001b[0mself\u001b[0m\u001b[0;34m.\u001b[0m\u001b[0mparam_grid\u001b[0m\u001b[0;34m)\u001b[0m\u001b[0;34m)\u001b[0m\u001b[0;34m\u001b[0m\u001b[0;34m\u001b[0m\u001b[0m\n\u001b[0m\u001b[1;32m   1192\u001b[0m \u001b[0;34m\u001b[0m\u001b[0m\n\u001b[1;32m   1193\u001b[0m \u001b[0;34m\u001b[0m\u001b[0m\n",
      "\u001b[0;32m/usr/local/lib/python3.7/site-packages/sklearn/model_selection/_search.py\u001b[0m in \u001b[0;36mevaluate_candidates\u001b[0;34m(candidate_params)\u001b[0m\n\u001b[1;32m    709\u001b[0m                                \u001b[0;32mfor\u001b[0m \u001b[0mparameters\u001b[0m\u001b[0;34m,\u001b[0m \u001b[0;34m(\u001b[0m\u001b[0mtrain\u001b[0m\u001b[0;34m,\u001b[0m \u001b[0mtest\u001b[0m\u001b[0;34m)\u001b[0m\u001b[0;34m\u001b[0m\u001b[0;34m\u001b[0m\u001b[0m\n\u001b[1;32m    710\u001b[0m                                in product(candidate_params,\n\u001b[0;32m--> 711\u001b[0;31m                                           cv.split(X, y, groups)))\n\u001b[0m\u001b[1;32m    712\u001b[0m \u001b[0;34m\u001b[0m\u001b[0m\n\u001b[1;32m    713\u001b[0m                 \u001b[0mall_candidate_params\u001b[0m\u001b[0;34m.\u001b[0m\u001b[0mextend\u001b[0m\u001b[0;34m(\u001b[0m\u001b[0mcandidate_params\u001b[0m\u001b[0;34m)\u001b[0m\u001b[0;34m\u001b[0m\u001b[0;34m\u001b[0m\u001b[0m\n",
      "\u001b[0;32m/usr/local/lib/python3.7/site-packages/sklearn/externals/joblib/parallel.py\u001b[0m in \u001b[0;36m__call__\u001b[0;34m(self, iterable)\u001b[0m\n\u001b[1;32m    928\u001b[0m \u001b[0;34m\u001b[0m\u001b[0m\n\u001b[1;32m    929\u001b[0m             \u001b[0;32mwith\u001b[0m \u001b[0mself\u001b[0m\u001b[0;34m.\u001b[0m\u001b[0m_backend\u001b[0m\u001b[0;34m.\u001b[0m\u001b[0mretrieval_context\u001b[0m\u001b[0;34m(\u001b[0m\u001b[0;34m)\u001b[0m\u001b[0;34m:\u001b[0m\u001b[0;34m\u001b[0m\u001b[0;34m\u001b[0m\u001b[0m\n\u001b[0;32m--> 930\u001b[0;31m                 \u001b[0mself\u001b[0m\u001b[0;34m.\u001b[0m\u001b[0mretrieve\u001b[0m\u001b[0;34m(\u001b[0m\u001b[0;34m)\u001b[0m\u001b[0;34m\u001b[0m\u001b[0;34m\u001b[0m\u001b[0m\n\u001b[0m\u001b[1;32m    931\u001b[0m             \u001b[0;31m# Make sure that we get a last message telling us we are done\u001b[0m\u001b[0;34m\u001b[0m\u001b[0;34m\u001b[0m\u001b[0;34m\u001b[0m\u001b[0m\n\u001b[1;32m    932\u001b[0m             \u001b[0melapsed_time\u001b[0m \u001b[0;34m=\u001b[0m \u001b[0mtime\u001b[0m\u001b[0;34m.\u001b[0m\u001b[0mtime\u001b[0m\u001b[0;34m(\u001b[0m\u001b[0;34m)\u001b[0m \u001b[0;34m-\u001b[0m \u001b[0mself\u001b[0m\u001b[0;34m.\u001b[0m\u001b[0m_start_time\u001b[0m\u001b[0;34m\u001b[0m\u001b[0;34m\u001b[0m\u001b[0m\n",
      "\u001b[0;32m/usr/local/lib/python3.7/site-packages/sklearn/externals/joblib/parallel.py\u001b[0m in \u001b[0;36mretrieve\u001b[0;34m(self)\u001b[0m\n\u001b[1;32m    831\u001b[0m             \u001b[0;32mtry\u001b[0m\u001b[0;34m:\u001b[0m\u001b[0;34m\u001b[0m\u001b[0;34m\u001b[0m\u001b[0m\n\u001b[1;32m    832\u001b[0m                 \u001b[0;32mif\u001b[0m \u001b[0mgetattr\u001b[0m\u001b[0;34m(\u001b[0m\u001b[0mself\u001b[0m\u001b[0;34m.\u001b[0m\u001b[0m_backend\u001b[0m\u001b[0;34m,\u001b[0m \u001b[0;34m'supports_timeout'\u001b[0m\u001b[0;34m,\u001b[0m \u001b[0;32mFalse\u001b[0m\u001b[0;34m)\u001b[0m\u001b[0;34m:\u001b[0m\u001b[0;34m\u001b[0m\u001b[0;34m\u001b[0m\u001b[0m\n\u001b[0;32m--> 833\u001b[0;31m                     \u001b[0mself\u001b[0m\u001b[0;34m.\u001b[0m\u001b[0m_output\u001b[0m\u001b[0;34m.\u001b[0m\u001b[0mextend\u001b[0m\u001b[0;34m(\u001b[0m\u001b[0mjob\u001b[0m\u001b[0;34m.\u001b[0m\u001b[0mget\u001b[0m\u001b[0;34m(\u001b[0m\u001b[0mtimeout\u001b[0m\u001b[0;34m=\u001b[0m\u001b[0mself\u001b[0m\u001b[0;34m.\u001b[0m\u001b[0mtimeout\u001b[0m\u001b[0;34m)\u001b[0m\u001b[0;34m)\u001b[0m\u001b[0;34m\u001b[0m\u001b[0;34m\u001b[0m\u001b[0m\n\u001b[0m\u001b[1;32m    834\u001b[0m                 \u001b[0;32melse\u001b[0m\u001b[0;34m:\u001b[0m\u001b[0;34m\u001b[0m\u001b[0;34m\u001b[0m\u001b[0m\n\u001b[1;32m    835\u001b[0m                     \u001b[0mself\u001b[0m\u001b[0;34m.\u001b[0m\u001b[0m_output\u001b[0m\u001b[0;34m.\u001b[0m\u001b[0mextend\u001b[0m\u001b[0;34m(\u001b[0m\u001b[0mjob\u001b[0m\u001b[0;34m.\u001b[0m\u001b[0mget\u001b[0m\u001b[0;34m(\u001b[0m\u001b[0;34m)\u001b[0m\u001b[0;34m)\u001b[0m\u001b[0;34m\u001b[0m\u001b[0;34m\u001b[0m\u001b[0m\n",
      "\u001b[0;32m/usr/local/lib/python3.7/site-packages/sklearn/externals/joblib/_parallel_backends.py\u001b[0m in \u001b[0;36mwrap_future_result\u001b[0;34m(future, timeout)\u001b[0m\n\u001b[1;32m    519\u001b[0m         AsyncResults.get from multiprocessing.\"\"\"\n\u001b[1;32m    520\u001b[0m         \u001b[0;32mtry\u001b[0m\u001b[0;34m:\u001b[0m\u001b[0;34m\u001b[0m\u001b[0;34m\u001b[0m\u001b[0m\n\u001b[0;32m--> 521\u001b[0;31m             \u001b[0;32mreturn\u001b[0m \u001b[0mfuture\u001b[0m\u001b[0;34m.\u001b[0m\u001b[0mresult\u001b[0m\u001b[0;34m(\u001b[0m\u001b[0mtimeout\u001b[0m\u001b[0;34m=\u001b[0m\u001b[0mtimeout\u001b[0m\u001b[0;34m)\u001b[0m\u001b[0;34m\u001b[0m\u001b[0;34m\u001b[0m\u001b[0m\n\u001b[0m\u001b[1;32m    522\u001b[0m         \u001b[0;32mexcept\u001b[0m \u001b[0mLokyTimeoutError\u001b[0m\u001b[0;34m:\u001b[0m\u001b[0;34m\u001b[0m\u001b[0;34m\u001b[0m\u001b[0m\n\u001b[1;32m    523\u001b[0m             \u001b[0;32mraise\u001b[0m \u001b[0mTimeoutError\u001b[0m\u001b[0;34m(\u001b[0m\u001b[0;34m)\u001b[0m\u001b[0;34m\u001b[0m\u001b[0;34m\u001b[0m\u001b[0m\n",
      "\u001b[0;32m/usr/local/Cellar/python/3.7.2_1/Frameworks/Python.framework/Versions/3.7/lib/python3.7/concurrent/futures/_base.py\u001b[0m in \u001b[0;36mresult\u001b[0;34m(self, timeout)\u001b[0m\n\u001b[1;32m    425\u001b[0m                 \u001b[0;32mreturn\u001b[0m \u001b[0mself\u001b[0m\u001b[0;34m.\u001b[0m\u001b[0m__get_result\u001b[0m\u001b[0;34m(\u001b[0m\u001b[0;34m)\u001b[0m\u001b[0;34m\u001b[0m\u001b[0;34m\u001b[0m\u001b[0m\n\u001b[1;32m    426\u001b[0m \u001b[0;34m\u001b[0m\u001b[0m\n\u001b[0;32m--> 427\u001b[0;31m             \u001b[0mself\u001b[0m\u001b[0;34m.\u001b[0m\u001b[0m_condition\u001b[0m\u001b[0;34m.\u001b[0m\u001b[0mwait\u001b[0m\u001b[0;34m(\u001b[0m\u001b[0mtimeout\u001b[0m\u001b[0;34m)\u001b[0m\u001b[0;34m\u001b[0m\u001b[0;34m\u001b[0m\u001b[0m\n\u001b[0m\u001b[1;32m    428\u001b[0m \u001b[0;34m\u001b[0m\u001b[0m\n\u001b[1;32m    429\u001b[0m             \u001b[0;32mif\u001b[0m \u001b[0mself\u001b[0m\u001b[0;34m.\u001b[0m\u001b[0m_state\u001b[0m \u001b[0;32min\u001b[0m \u001b[0;34m[\u001b[0m\u001b[0mCANCELLED\u001b[0m\u001b[0;34m,\u001b[0m \u001b[0mCANCELLED_AND_NOTIFIED\u001b[0m\u001b[0;34m]\u001b[0m\u001b[0;34m:\u001b[0m\u001b[0;34m\u001b[0m\u001b[0;34m\u001b[0m\u001b[0m\n",
      "\u001b[0;32m/usr/local/Cellar/python/3.7.2_1/Frameworks/Python.framework/Versions/3.7/lib/python3.7/threading.py\u001b[0m in \u001b[0;36mwait\u001b[0;34m(self, timeout)\u001b[0m\n\u001b[1;32m    294\u001b[0m         \u001b[0;32mtry\u001b[0m\u001b[0;34m:\u001b[0m    \u001b[0;31m# restore state no matter what (e.g., KeyboardInterrupt)\u001b[0m\u001b[0;34m\u001b[0m\u001b[0;34m\u001b[0m\u001b[0m\n\u001b[1;32m    295\u001b[0m             \u001b[0;32mif\u001b[0m \u001b[0mtimeout\u001b[0m \u001b[0;32mis\u001b[0m \u001b[0;32mNone\u001b[0m\u001b[0;34m:\u001b[0m\u001b[0;34m\u001b[0m\u001b[0;34m\u001b[0m\u001b[0m\n\u001b[0;32m--> 296\u001b[0;31m                 \u001b[0mwaiter\u001b[0m\u001b[0;34m.\u001b[0m\u001b[0macquire\u001b[0m\u001b[0;34m(\u001b[0m\u001b[0;34m)\u001b[0m\u001b[0;34m\u001b[0m\u001b[0;34m\u001b[0m\u001b[0m\n\u001b[0m\u001b[1;32m    297\u001b[0m                 \u001b[0mgotit\u001b[0m \u001b[0;34m=\u001b[0m \u001b[0;32mTrue\u001b[0m\u001b[0;34m\u001b[0m\u001b[0;34m\u001b[0m\u001b[0m\n\u001b[1;32m    298\u001b[0m             \u001b[0;32melse\u001b[0m\u001b[0;34m:\u001b[0m\u001b[0;34m\u001b[0m\u001b[0;34m\u001b[0m\u001b[0m\n",
      "\u001b[0;31mKeyboardInterrupt\u001b[0m: "
     ]
    }
   ],
   "source": [
    "lr_l2 = LogisticRegression(penalty='l2', multi_class='multinomial',  random_state = 123, max_iter=100, tol = 0.001)\n",
    "\n",
    "cv_params = {'C': [0.00001, 0.0001, 0.001, 0.01, 0.1, 1.0, 10.0], \n",
    "            'solver' : ['newton-cg','sag','lbfgs']}\n",
    "\n",
    "lr_l2_cv = GridSearchCV(estimator = lr_l2, param_grid = cv_params, cv = 3, scoring = 'f1_micro', n_jobs = -1, verbose = 10)\n",
    "l2 = lr_l2_cv.fit(train_data, train_labels)\n",
    "print('The best parameters for Logistic Regression (using L2 errors) are:', l2.best_params_)"
   ]
  },
  {
   "cell_type": "markdown",
   "metadata": {},
   "source": [
    "## KNN"
   ]
  },
  {
   "cell_type": "code",
   "execution_count": null,
   "metadata": {},
   "outputs": [],
   "source": [
    "# baseline model is just a knn of 1 for just latitude and longitude\n",
    "neighbors = 1\n",
    "kn = KNeighborsClassifier(n_neighbors=neighbors)\n",
    "kn.fit(train_data, train_labels)\n",
    "\n",
    "# Create predicted values\n",
    "#preds_dev = kn.predict(dev_data)\n",
    "score = kn.score(dev_data, dev_labels)\n",
    "#proba = kn.predict_proba(dev_data)\n",
    "\n",
    "print('Mean score from KNN with {nn} neighbors: {score}'.format(nn=neighbors, score=score))"
   ]
  },
  {
   "cell_type": "markdown",
   "metadata": {},
   "source": [
    "## Decision trees"
   ]
  },
  {
   "cell_type": "code",
   "execution_count": 24,
   "metadata": {},
   "outputs": [
    {
     "name": "stdout",
     "output_type": "stream",
     "text": [
      "Fitting 3 folds for each of 32 candidates, totalling 96 fits\n"
     ]
    },
    {
     "name": "stderr",
     "output_type": "stream",
     "text": [
      "[Parallel(n_jobs=-1)]: Using backend LokyBackend with 12 concurrent workers.\n",
      "[Parallel(n_jobs=-1)]: Done  26 tasks      | elapsed: 12.1min\n",
      "[Parallel(n_jobs=-1)]: Done  96 out of  96 | elapsed: 33.2min finished\n"
     ]
    }
   ],
   "source": [
    "parameters={'min_samples_split' : range(10,50,5),'max_depth': range(2,10,2)}\n",
    "clf_tree=DecisionTreeClassifier()\n",
    "clf=GridSearchCV(clf_tree,parameters,cv=3,n_jobs=-1,verbose=1)\n",
    "clf_optim  = clf.fit(train_data,train_labels)"
   ]
  },
  {
   "cell_type": "code",
   "execution_count": 38,
   "metadata": {},
   "outputs": [
    {
     "name": "stdout",
     "output_type": "stream",
     "text": [
      "{'max_depth': 8, 'min_samples_split': 15}\n",
      "0.2324813969611596\n"
     ]
    }
   ],
   "source": [
    "print(clf.cv_results_['params'][clf.best_index_])\n",
    "print(clf_optim.best_score_)\n"
   ]
  },
  {
   "cell_type": "code",
   "execution_count": null,
   "metadata": {},
   "outputs": [],
   "source": [
    "## Run predictions on test data (need to encode before using)\n",
    "test_data_encoded = test_data\n",
    "for k in range(test_data.shape[1]):\n",
    "    test_data_encoded[:,k] = enc.fit_transform(np.ravel(test_data[:,k].reshape(-1,1)))\n",
    "preds = kn.predict(test_data_encoded)"
   ]
  },
  {
   "cell_type": "code",
   "execution_count": null,
   "metadata": {},
   "outputs": [],
   "source": [
    "## Print formatted output for submission CSV\n",
    "\n",
    "# Looking at format of output\n",
    "#print(sample_submission.head())\n",
    "print('sample submission shape', sample_submission.shape)\n",
    "\n",
    "# Now put results in a dataframe \n",
    "all_ids = test[\"Id\"].values\n",
    "\n",
    "# From encoded categories, get normal labels\n",
    "labeled_preds = [data_classes[i] for i in preds]\n",
    "\n",
    "# Make dateframe\n",
    "d = {'Id': all_ids, 'Label': labeled_preds}\n",
    "\n",
    "# Make the results dummy columns\n",
    "df = pd.DataFrame(data = d)\n",
    "results = pd.get_dummies(df, prefix=[''],prefix_sep = '')\n",
    "\n",
    "# To ensure we have all columns, copy data into the schema of sample_submission\n",
    "submission = pd.DataFrame().reindex_like(sample_submission).fillna(0).astype(int)\n",
    "\n",
    "col_names = list(results.columns.values)\n",
    "for col in col_names:\n",
    "    submission[col] = results[col]\n",
    "\n",
    "    \n",
    "print('final shape',submission.shape )\n",
    "## Save the predictions to submission CSV file\n",
    "submission.to_csv('baseline_submission.csv', index = False)\n",
    "\n",
    "#print(submission)"
   ]
  },
  {
   "cell_type": "code",
   "execution_count": 61,
   "metadata": {},
   "outputs": [],
   "source": [
    "# Making a baseline submission that just takes the most frequent-occurring crime, and predicting all crimes in the test data frame are of that label\n",
    "\n",
    "submission_no_ml = pd.DataFrame().reindex_like(sample_submission).fillna(0).astype(int)\n",
    "submission_no_ml['LARCENY/THEFT'] = 1\n",
    "submission_no_ml.to_csv('baseline_submission_2.csv', index = False)"
   ]
  },
  {
   "cell_type": "code",
   "execution_count": null,
   "metadata": {},
   "outputs": [],
   "source": []
  }
 ],
 "metadata": {
  "anaconda-cloud": {},
  "kernelspec": {
   "display_name": "Python 3",
   "language": "python",
   "name": "python3"
  },
  "language_info": {
   "codemirror_mode": {
    "name": "ipython",
    "version": 3
   },
   "file_extension": ".py",
   "mimetype": "text/x-python",
   "name": "python",
   "nbconvert_exporter": "python",
   "pygments_lexer": "ipython3",
   "version": "3.6.8"
  }
 },
 "nbformat": 4,
 "nbformat_minor": 1
}
