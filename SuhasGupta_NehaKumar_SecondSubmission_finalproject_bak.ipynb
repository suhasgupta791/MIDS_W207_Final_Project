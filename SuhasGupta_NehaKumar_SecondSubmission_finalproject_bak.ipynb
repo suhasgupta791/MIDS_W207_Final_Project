{
 "cells": [
  {
   "cell_type": "markdown",
   "metadata": {},
   "source": [
    "#  MIDS W207 \n",
    "\n",
    "## Authors: Neha Kumar, Suhas Gupta\n",
    "## Submission Date: 04/06/2019 "
   ]
  },
  {
   "cell_type": "markdown",
   "metadata": {},
   "source": [
    "# Problem Description\n",
    "\n",
    "We are given a set of training data from Kaggle (https://www.kaggle.com/c/sf-crime/leaderboard) and a set of test data. Given the features in the test data, we need to classify the type of crime. The fields in the dataset are summarized below. Primarily, our dataset is comprised of location and temporal data (where and when was the crime created). Note that there are some datasets that cannot be used for training the model, as they are not accessible to the test model (such as the Descript and Resolution parameters), though we can definitely look to these fields in our error analysis.\n",
    "\n",
    "Additionally, we plan on using feature engineering to extract useful parameters from the termporal and location data, further detailed below. This, in conjunction with using classification-based models, will aid us in producing a model with the smallest log-loss score (the evaluation criteria for this Kaggle competition)"
   ]
  },
  {
   "cell_type": "markdown",
   "metadata": {},
   "source": [
    "## Competition data set details from Kaggle\n",
    "\n",
    "### Data fields\n",
    "- Dates - timestamp of the crime incident\n",
    "- Category - category of the crime incident (only in train.csv). This is the target variable you are going to predict.\n",
    "- Descript - detailed description of the crime incident (only in train.csv)\n",
    "- DayOfWeek - the day of the week\n",
    "- PdDistrict - name of the Police Department District\n",
    "- Resolution - how the crime incident was resolved (only in train.csv)\n",
    "- Address - the approximate street address of the crime incident \n",
    "- X - Longitude\n",
    "- Y - Latitude\n",
    "\n",
    "The variables we can use to generate the model will need to be in both the train and test dataset. This gives us:\n",
    "- Dates\n",
    "- DayOfWeek\n",
    "- PdDistrict\n",
    "- Address\n",
    "- X\n",
    "- Y"
   ]
  },
  {
   "cell_type": "code",
   "execution_count": 33,
   "metadata": {},
   "outputs": [],
   "source": [
    "# General libraries.\n",
    "import numpy as np\n",
    "import matplotlib.pyplot as plt\n",
    "import pandas as pd\n",
    "import seaborn as sns\n",
    "import requests\n",
    "import json\n",
    "from geopy.geocoders import Nominatim\n",
    "from geopy.extra.rate_limiter import RateLimiter\n",
    "import time\n",
    "\n",
    "# SK-learn libraries for learning and preprocessing\n",
    "from sklearn import preprocessing\n",
    "from sklearn.pipeline import Pipeline\n",
    "from sklearn.neighbors import KNeighborsClassifier\n",
    "from sklearn.linear_model import LogisticRegression\n",
    "from sklearn.tree import DecisionTreeClassifier\n",
    "from sklearn.naive_bayes import BernoulliNB\n",
    "from sklearn.naive_bayes import GaussianNB\n",
    "from sklearn.naive_bayes import MultinomialNB\n",
    "from sklearn.ensemble import RandomForestClassifier\n",
    "from sklearn.ensemble import AdaBoostClassifier\n",
    "from sklearn.model_selection import GridSearchCV\n",
    "from sklearn.model_selection import train_test_split\n",
    "from sklearn.compose import ColumnTransformer\n",
    "from sklearn.decomposition import PCA\n",
    "from sklearn.decomposition import TruncatedSVD\n",
    "from sklearn.feature_selection import SelectFromModel\n",
    "\n",
    "# Libraries for imbalanced classes\n",
    "import imblearn \n",
    "from imblearn.under_sampling import RandomUnderSampler\n",
    "from imblearn.over_sampling import RandomOverSampler\n",
    "\n",
    "# SK-learn libraries for evaluation.\n",
    "from sklearn.metrics import confusion_matrix\n",
    "from sklearn import metrics\n",
    "from sklearn.metrics import classification_report\n",
    "from sklearn.metrics import accuracy_score\n",
    "from sklearn.metrics import log_loss\n",
    "\n",
    "# This tells matplotlib not to try opening a new window for each plot.\n",
    "%matplotlib inline\n",
    "# Set the figure size for seaborn plots\n",
    "sns.set(rc={'figure.figsize':(15,15)})"
   ]
  },
  {
   "cell_type": "markdown",
   "metadata": {},
   "source": [
    "We selected the SF Crime competition\n",
    "\n",
    "https://www.kaggle.com/c/sf-crime/data"
   ]
  },
  {
   "cell_type": "markdown",
   "metadata": {},
   "source": [
    "## Data Import and EDA"
   ]
  },
  {
   "cell_type": "code",
   "execution_count": 34,
   "metadata": {},
   "outputs": [],
   "source": [
    "# Define a data pre processing class\n",
    "\n",
    "class import_EDA:\n",
    "    '''\n",
    "        Parameters: \n",
    "        Methods: \n",
    "          \n",
    "    '''\n",
    "    def __init__(self,trainCSV='./train.csv',testCSV='./test.csv'):\n",
    "        \"\"\"Create a new instance of the data import and EDA class object\n",
    "        Parameters:\n",
    "            trainCSV: CSV file containing training data \n",
    "            testCSV: CSV file containing test data used by Kaggle for model evaluation\n",
    "            \n",
    "        \"\"\"\n",
    "        self._trainCSV = trainCSV\n",
    "        self._testCSV = testCSV\n",
    "        self._train = pd.DataFrame()\n",
    "        self._test = pd.DataFrame()\n",
    "\n",
    "    def importToPandas(self):\n",
    "        '''Import the CSV files and return pandas data frames'''\n",
    "        self._train=pd.read_csv(self._trainCSV)\n",
    "        self._test=pd.read_csv(self._testCSV)\n",
    "        return self._train,self._test\n",
    "    \n",
    "    def displayDataFrame(self,dataFrame,rows=5):\n",
    "        #dataFrame.style.format()\n",
    "        display(dataFrame[:rows])\n",
    "        \n",
    "    def featureDiff(self,train,test):\n",
    "        diff = set(train.columns) - set(test.columns)\n",
    "        return diff\n",
    "    \n",
    "    def plotDFDistribution(self,dataFrame,categoryName):\n",
    "        plt.figure(figsize=(15,15))\n",
    "        g = sns.countplot(data = dataFrame, x = categoryName,orient='h',)\n",
    "        plt.ylabel(\"Total Count\")\n",
    "        plot_obj = plt.xticks(rotation=90)\n",
    "        return plot_obj\n",
    "    \n",
    "    def plotDistGrid(self,dataFrame,plot_list,rows,cols):\n",
    "        counter = 0\n",
    "        fig, axs = plt.subplots(ncols=cols,nrows=rows,figsize=(25,25))\n",
    "        if len(plot_list)<rows*cols: # if the plot list is odd then duplicate the last plot and then delete\n",
    "            new_plot_list = plot_list.copy()\n",
    "            new_plot_list.append(plot_list[-1])\n",
    "        else:\n",
    "            new_plot_list = plot_list\n",
    "        for row in range(0,rows):\n",
    "            for col in range(0,cols):\n",
    "                sns.countplot(data = dataFrame, x = new_plot_list[counter],orient='h',ax=axs[row,col])\n",
    "                axs[row,col].tick_params(axis='x', rotation=90)\n",
    "                counter+=1\n",
    "        if len(plot_list)<rows*cols:\n",
    "            fig.delaxes(ax = axs[rows-1,cols-1])\n",
    "            axs[rows-1,cols-2]\n",
    "        return fig,axs\n",
    "    \n",
    "    def plotColdist(self,dataFrame,colName):  \n",
    "        '''Plot colName data grouped by day of the week and hour of the day'''\n",
    "        fig, axes = plt.subplots(nrows=8, ncols=5, sharex=False, sharey=False, figsize = (15, 15))\n",
    "        plt.subplots_adjust(top = 1.1)\n",
    "        \n",
    "        all_categories = dataFrame[colName].value_counts().index.tolist()\n",
    "        for category in range(len(all_categories)):\n",
    "            my_cat = all_categories[category]\n",
    "            df = dataFrame.loc[dataFrame[colName] == my_cat,:]\n",
    "            df = df.groupby(['Hour','DayOfWeek']).count()['X']\n",
    "            df = df.reset_index(level='Hour').reset_index(level = 'DayOfWeek')\n",
    "            df = df.pivot(index='Hour', columns='DayOfWeek', values='X').reset_index()\n",
    "\n",
    "            ax = plt.subplot(8, 5, category + 1)  \n",
    "            hour = df['Hour'].values \n",
    "            days = ['Sunday','Monday','Tuesday','Wednesday','Thursday','Friday','Saturday']\n",
    "            colors = ['red','orange','yellow','green','blue','purple','pink']\n",
    "\n",
    "            for i in range(len(days)):\n",
    "                if days[i] in df.columns:\n",
    "                    ax.plot(hour,df[days[i]].values, colors[i])\n",
    "            ax.set_title(my_cat)\n",
    "            \n",
    "        return ax\n",
    "\n",
    "    def describeData(self,dataFrame):\n",
    "        # Find if there are any NA values in the data frame columns \n",
    "        if(dataFrame.isnull().values.any()):\n",
    "            null_values_bool = 0\n",
    "        else:\n",
    "            null_values_bool = 1\n",
    "        row_count = len(dataFrame)\n",
    "        dataTypes = dataFrame.dtypes\n",
    "        return null_values_bool,row_count,dataTypes\n",
    "   \n",
    "    def splitDate(self,train,test):\n",
    "        '''This method will import new data frames if not passed from function call\n",
    "           and split the date column in year, month, hour, minutes'''\n",
    "        \n",
    "        # Get years\n",
    "        train['Year'] = (pd.to_numeric(train['Dates'].str.split('-').str[0])).astype('int16')\n",
    "        test['Year'] = (pd.to_numeric(test['Dates'].str.split('-').str[0])).astype('int16')\n",
    "        \n",
    "        # Get months\n",
    "        train['Month'] = (pd.to_numeric(train['Dates'].str.split('-').str[1])).astype('int8')\n",
    "        test['Month'] = (pd.to_numeric(test['Dates'].str.split('-').str[1])).astype('int8')\n",
    "       \n",
    "        # Get day\n",
    "        train['DayOfMonth'] = pd.to_numeric(train['Dates'].str.split(' ').str[0].str.split('-').str[2]).astype('int8')\n",
    "        test['DayOfMonth'] = pd.to_numeric(test['Dates'].str.split(' ').str[0].str.split('-').str[2]).astype('int8')\n",
    "       \n",
    "        # Get hour of the day\n",
    "        train['Hour'] = (pd.to_datetime(train['Dates'],infer_datetime_format=True).dt.hour).astype('float64')\n",
    "        test['Hour'] = (pd.to_datetime(test['Dates'],infer_datetime_format=True).dt.hour).astype('float64')\n",
    "        \n",
    "        # Get minutes of the hour\n",
    "        train['Minutes'] = pd.to_numeric(train['Dates'].str.split(' ').str[1].str.split(':').str[1]).astype('int8')\n",
    "        test['Minutes'] = pd.to_numeric(test['Dates'].str.split(' ').str[1].str.split(':').str[1]).astype('int8')\n",
    "        \n",
    "        return train, test\n",
    "    \n",
    "    def generateZipCodes(self,dataFrame,zip_list):\n",
    "        # Building a KNN Model with n_neighbors = 1 on the lat/long coordinates\n",
    "        zip_features = zip_list[['longitude','latitude']]\n",
    "        zip_features.columns = ['X', 'Y']\n",
    "        zip_data = zip_features.values\n",
    "        zip_labels = zip_list['zip_code'].values\n",
    "        zip_prediction_set = dataFrame[['X','Y']].values\n",
    "\n",
    "        knn_zip = KNeighborsClassifier(n_neighbors = 1)\n",
    "        predictions = knn_zip.fit(zip_data, zip_labels).predict(zip_prediction_set)\n",
    "\n",
    "        # Add the generated zip codes to the data frame\n",
    "        dataFrame['Zipcode'] = predictions\n",
    "        return dataFrame\n",
    "    \n",
    "    def addUSHolidays(self,dataFrame):\n",
    "        '''Check for US holidays based on the Dates and add a boolean feature indicating a holiday or not'''\n",
    "        # Checking for US Holidays\n",
    "        # Load in holidays dataframe (source: https://www.kaggle.com/gsnehaa21/federal-holidays-usa-19662020)\n",
    "        holidays = pd.read_csv('./usholidays.csv')\n",
    "\n",
    "        # Make is_holiday flag\n",
    "        dates_train = (dataFrame['Dates'].str.split(' ').str[0])\n",
    "        dataFrame['is_holiday'] = dates_train.isin(holidays.Date).astype('int8')\n",
    "        proportion_holidays = dataFrame['is_holiday'].sum() / dataFrame.shape[0]\n",
    "\n",
    "        return dataFrame\n"
   ]
  },
  {
   "cell_type": "code",
   "execution_count": 35,
   "metadata": {},
   "outputs": [],
   "source": [
    "# Create importData_EDA object\n",
    "dataImport = import_EDA()\n",
    "train,test = dataImport.importToPandas()\n",
    "sample_submission = pd.read_csv('sampleSubmission.csv')"
   ]
  },
  {
   "cell_type": "code",
   "execution_count": 36,
   "metadata": {},
   "outputs": [
    {
     "name": "stdout",
     "output_type": "stream",
     "text": [
      "Number of rows in training dataset:878049\n",
      "Number of rows in test dataset:884262\n",
      "No NULL values in the training dataset\n",
      "No NULL values in the test dataset\n",
      "\n",
      "------------- Data Types[Training Data]-----------------\n",
      "\n",
      "Dates          object\n",
      "Category       object\n",
      "Descript       object\n",
      "DayOfWeek      object\n",
      "PdDistrict     object\n",
      "Resolution     object\n",
      "Address        object\n",
      "X             float64\n",
      "Y             float64\n",
      "dtype: object\n",
      "\n",
      "------------- Data Types[Test Data]-----------------\n",
      "\n",
      "Id              int64\n",
      "Dates          object\n",
      "DayOfWeek      object\n",
      "PdDistrict     object\n",
      "Address        object\n",
      "X             float64\n",
      "Y             float64\n",
      "dtype: object\n"
     ]
    }
   ],
   "source": [
    "# Check if the training of test sets have any NULL values\n",
    "null_train,count_train,dTypes_train= dataImport.describeData(train)\n",
    "null_test,count_test,dTypes_test = dataImport.describeData(test)\n",
    "\n",
    "print(\"Number of rows in training dataset:{fm}\".format(fm=count_train))\n",
    "print(\"Number of rows in test dataset:{fm}\".format(fm=count_test))\n",
    "\n",
    "if(null_train==0):\n",
    "    print(\"NULL values found in the training dataset\")\n",
    "else:\n",
    "    print(\"No NULL values in the training dataset\") \n",
    "\n",
    "if(null_test==0):\n",
    "     print(\"NULL values found in the test dataset\") \n",
    "else:\n",
    "    print(\"No NULL values in the test dataset\")\n",
    "    \n",
    "print(\"\\n------------- Data Types[Training Data]-----------------\\n\")\n",
    "print(dTypes_train)\n",
    "\n",
    "print(\"\\n------------- Data Types[Test Data]-----------------\\n\")\n",
    "print(dTypes_test)"
   ]
  },
  {
   "cell_type": "markdown",
   "metadata": {},
   "source": [
    "- The output above shows that there are no missing values in the Kaggle datasets for both training and test data. Thus we do not need to account for missing values in our EDA and model development.\n",
    "\n",
    "- We can also see from above, that all the variables except geographical coordinates (X,Y) are categorical. Thus we will need to perform feature encoding to enable the use of sklearn's modeling and prediction algorithms."
   ]
  },
  {
   "cell_type": "code",
   "execution_count": 37,
   "metadata": {
    "scrolled": false
   },
   "outputs": [
    {
     "name": "stdout",
     "output_type": "stream",
     "text": [
      "------------------------------------------- Top 5 rows in training dataset ------------------------------------------\n",
      "---------------------------------------------------------------------------------------------------------------------\n"
     ]
    },
    {
     "data": {
      "text/html": [
       "<div>\n",
       "<style scoped>\n",
       "    .dataframe tbody tr th:only-of-type {\n",
       "        vertical-align: middle;\n",
       "    }\n",
       "\n",
       "    .dataframe tbody tr th {\n",
       "        vertical-align: top;\n",
       "    }\n",
       "\n",
       "    .dataframe thead th {\n",
       "        text-align: right;\n",
       "    }\n",
       "</style>\n",
       "<table border=\"1\" class=\"dataframe\">\n",
       "  <thead>\n",
       "    <tr style=\"text-align: right;\">\n",
       "      <th></th>\n",
       "      <th>Dates</th>\n",
       "      <th>Category</th>\n",
       "      <th>Descript</th>\n",
       "      <th>DayOfWeek</th>\n",
       "      <th>PdDistrict</th>\n",
       "      <th>Resolution</th>\n",
       "      <th>Address</th>\n",
       "      <th>X</th>\n",
       "      <th>Y</th>\n",
       "    </tr>\n",
       "  </thead>\n",
       "  <tbody>\n",
       "    <tr>\n",
       "      <th>0</th>\n",
       "      <td>2015-05-13 23:53:00</td>\n",
       "      <td>WARRANTS</td>\n",
       "      <td>WARRANT ARREST</td>\n",
       "      <td>Wednesday</td>\n",
       "      <td>NORTHERN</td>\n",
       "      <td>ARREST, BOOKED</td>\n",
       "      <td>OAK ST / LAGUNA ST</td>\n",
       "      <td>-122.425892</td>\n",
       "      <td>37.774599</td>\n",
       "    </tr>\n",
       "    <tr>\n",
       "      <th>1</th>\n",
       "      <td>2015-05-13 23:53:00</td>\n",
       "      <td>OTHER OFFENSES</td>\n",
       "      <td>TRAFFIC VIOLATION ARREST</td>\n",
       "      <td>Wednesday</td>\n",
       "      <td>NORTHERN</td>\n",
       "      <td>ARREST, BOOKED</td>\n",
       "      <td>OAK ST / LAGUNA ST</td>\n",
       "      <td>-122.425892</td>\n",
       "      <td>37.774599</td>\n",
       "    </tr>\n",
       "    <tr>\n",
       "      <th>2</th>\n",
       "      <td>2015-05-13 23:33:00</td>\n",
       "      <td>OTHER OFFENSES</td>\n",
       "      <td>TRAFFIC VIOLATION ARREST</td>\n",
       "      <td>Wednesday</td>\n",
       "      <td>NORTHERN</td>\n",
       "      <td>ARREST, BOOKED</td>\n",
       "      <td>VANNESS AV / GREENWICH ST</td>\n",
       "      <td>-122.424363</td>\n",
       "      <td>37.800414</td>\n",
       "    </tr>\n",
       "    <tr>\n",
       "      <th>3</th>\n",
       "      <td>2015-05-13 23:30:00</td>\n",
       "      <td>LARCENY/THEFT</td>\n",
       "      <td>GRAND THEFT FROM LOCKED AUTO</td>\n",
       "      <td>Wednesday</td>\n",
       "      <td>NORTHERN</td>\n",
       "      <td>NONE</td>\n",
       "      <td>1500 Block of LOMBARD ST</td>\n",
       "      <td>-122.426995</td>\n",
       "      <td>37.800873</td>\n",
       "    </tr>\n",
       "    <tr>\n",
       "      <th>4</th>\n",
       "      <td>2015-05-13 23:30:00</td>\n",
       "      <td>LARCENY/THEFT</td>\n",
       "      <td>GRAND THEFT FROM LOCKED AUTO</td>\n",
       "      <td>Wednesday</td>\n",
       "      <td>PARK</td>\n",
       "      <td>NONE</td>\n",
       "      <td>100 Block of BRODERICK ST</td>\n",
       "      <td>-122.438738</td>\n",
       "      <td>37.771541</td>\n",
       "    </tr>\n",
       "  </tbody>\n",
       "</table>\n",
       "</div>"
      ],
      "text/plain": [
       "                 Dates        Category                      Descript  \\\n",
       "0  2015-05-13 23:53:00        WARRANTS                WARRANT ARREST   \n",
       "1  2015-05-13 23:53:00  OTHER OFFENSES      TRAFFIC VIOLATION ARREST   \n",
       "2  2015-05-13 23:33:00  OTHER OFFENSES      TRAFFIC VIOLATION ARREST   \n",
       "3  2015-05-13 23:30:00   LARCENY/THEFT  GRAND THEFT FROM LOCKED AUTO   \n",
       "4  2015-05-13 23:30:00   LARCENY/THEFT  GRAND THEFT FROM LOCKED AUTO   \n",
       "\n",
       "   DayOfWeek PdDistrict      Resolution                    Address  \\\n",
       "0  Wednesday   NORTHERN  ARREST, BOOKED         OAK ST / LAGUNA ST   \n",
       "1  Wednesday   NORTHERN  ARREST, BOOKED         OAK ST / LAGUNA ST   \n",
       "2  Wednesday   NORTHERN  ARREST, BOOKED  VANNESS AV / GREENWICH ST   \n",
       "3  Wednesday   NORTHERN            NONE   1500 Block of LOMBARD ST   \n",
       "4  Wednesday       PARK            NONE  100 Block of BRODERICK ST   \n",
       "\n",
       "            X          Y  \n",
       "0 -122.425892  37.774599  \n",
       "1 -122.425892  37.774599  \n",
       "2 -122.424363  37.800414  \n",
       "3 -122.426995  37.800873  \n",
       "4 -122.438738  37.771541  "
      ]
     },
     "metadata": {},
     "output_type": "display_data"
    },
    {
     "name": "stdout",
     "output_type": "stream",
     "text": [
      "\n",
      "--------------------------------------------- Top 5 rows in test dataset --------------------------------------------\n",
      "---------------------------------------------------------------------------------------------------------------------\n",
      "\n"
     ]
    },
    {
     "data": {
      "text/html": [
       "<div>\n",
       "<style scoped>\n",
       "    .dataframe tbody tr th:only-of-type {\n",
       "        vertical-align: middle;\n",
       "    }\n",
       "\n",
       "    .dataframe tbody tr th {\n",
       "        vertical-align: top;\n",
       "    }\n",
       "\n",
       "    .dataframe thead th {\n",
       "        text-align: right;\n",
       "    }\n",
       "</style>\n",
       "<table border=\"1\" class=\"dataframe\">\n",
       "  <thead>\n",
       "    <tr style=\"text-align: right;\">\n",
       "      <th></th>\n",
       "      <th>Id</th>\n",
       "      <th>Dates</th>\n",
       "      <th>DayOfWeek</th>\n",
       "      <th>PdDistrict</th>\n",
       "      <th>Address</th>\n",
       "      <th>X</th>\n",
       "      <th>Y</th>\n",
       "    </tr>\n",
       "  </thead>\n",
       "  <tbody>\n",
       "    <tr>\n",
       "      <th>0</th>\n",
       "      <td>0</td>\n",
       "      <td>2015-05-10 23:59:00</td>\n",
       "      <td>Sunday</td>\n",
       "      <td>BAYVIEW</td>\n",
       "      <td>2000 Block of THOMAS AV</td>\n",
       "      <td>-122.399588</td>\n",
       "      <td>37.735051</td>\n",
       "    </tr>\n",
       "    <tr>\n",
       "      <th>1</th>\n",
       "      <td>1</td>\n",
       "      <td>2015-05-10 23:51:00</td>\n",
       "      <td>Sunday</td>\n",
       "      <td>BAYVIEW</td>\n",
       "      <td>3RD ST / REVERE AV</td>\n",
       "      <td>-122.391523</td>\n",
       "      <td>37.732432</td>\n",
       "    </tr>\n",
       "    <tr>\n",
       "      <th>2</th>\n",
       "      <td>2</td>\n",
       "      <td>2015-05-10 23:50:00</td>\n",
       "      <td>Sunday</td>\n",
       "      <td>NORTHERN</td>\n",
       "      <td>2000 Block of GOUGH ST</td>\n",
       "      <td>-122.426002</td>\n",
       "      <td>37.792212</td>\n",
       "    </tr>\n",
       "    <tr>\n",
       "      <th>3</th>\n",
       "      <td>3</td>\n",
       "      <td>2015-05-10 23:45:00</td>\n",
       "      <td>Sunday</td>\n",
       "      <td>INGLESIDE</td>\n",
       "      <td>4700 Block of MISSION ST</td>\n",
       "      <td>-122.437394</td>\n",
       "      <td>37.721412</td>\n",
       "    </tr>\n",
       "    <tr>\n",
       "      <th>4</th>\n",
       "      <td>4</td>\n",
       "      <td>2015-05-10 23:45:00</td>\n",
       "      <td>Sunday</td>\n",
       "      <td>INGLESIDE</td>\n",
       "      <td>4700 Block of MISSION ST</td>\n",
       "      <td>-122.437394</td>\n",
       "      <td>37.721412</td>\n",
       "    </tr>\n",
       "  </tbody>\n",
       "</table>\n",
       "</div>"
      ],
      "text/plain": [
       "   Id                Dates DayOfWeek PdDistrict                   Address  \\\n",
       "0   0  2015-05-10 23:59:00    Sunday    BAYVIEW   2000 Block of THOMAS AV   \n",
       "1   1  2015-05-10 23:51:00    Sunday    BAYVIEW        3RD ST / REVERE AV   \n",
       "2   2  2015-05-10 23:50:00    Sunday   NORTHERN    2000 Block of GOUGH ST   \n",
       "3   3  2015-05-10 23:45:00    Sunday  INGLESIDE  4700 Block of MISSION ST   \n",
       "4   4  2015-05-10 23:45:00    Sunday  INGLESIDE  4700 Block of MISSION ST   \n",
       "\n",
       "            X          Y  \n",
       "0 -122.399588  37.735051  \n",
       "1 -122.391523  37.732432  \n",
       "2 -122.426002  37.792212  \n",
       "3 -122.437394  37.721412  \n",
       "4 -122.437394  37.721412  "
      ]
     },
     "metadata": {},
     "output_type": "display_data"
    },
    {
     "name": "stdout",
     "output_type": "stream",
     "text": [
      "\n",
      "-------------------------Features in training dataset not present in test dataset-------------------------\n",
      "\n",
      "{'Resolution', 'Descript', 'Category'}\n"
     ]
    }
   ],
   "source": [
    "## Lets look at the first samples in the data sets\n",
    "\n",
    "print(\"------------------------------------------- Top 5 rows in training dataset ------------------------------------------\")\n",
    "print(\"---------------------------------------------------------------------------------------------------------------------\")\n",
    "dataImport.displayDataFrame(train,5)\n",
    "\n",
    "print(\"\\n--------------------------------------------- Top 5 rows in test dataset --------------------------------------------\")\n",
    "print(\"---------------------------------------------------------------------------------------------------------------------\\n\")\n",
    "\n",
    "dataImport.displayDataFrame(test,5)\n",
    "\n",
    "print(\"\\n-------------------------Features in training dataset not present in test dataset-------------------------\\n\")\n",
    "diffFeatures = dataImport.featureDiff(train,test)\n",
    "print(diffFeatures)"
   ]
  },
  {
   "cell_type": "markdown",
   "metadata": {},
   "source": [
    "#### Let us look at the distribution of outcome variable \"Category\""
   ]
  },
  {
   "cell_type": "code",
   "execution_count": 38,
   "metadata": {
    "scrolled": false
   },
   "outputs": [
    {
     "data": {
      "image/png": "[encoded data removed]",
      "text/plain": [
       "<Figure size 1080x1080 with 1 Axes>"
      ]
     },
     "metadata": {},
     "output_type": "display_data"
    }
   ],
   "source": [
    "# Plot the distribution of the crime categories from the training data set\n",
    "tmp = dataImport.plotDFDistribution(train,'Category')"
   ]
  },
  {
   "cell_type": "markdown",
   "metadata": {},
   "source": [
    "The above plot shows the frequency distribution of the outcome variable **Category**. We can see that we have a heavy imbalance in the class counts. The most frequent crime cateogry is **LARCENY/THEFT** followed by **OTHER OFFSENSES** and **NON-CRIMINAL**. We will need to account for the heavy imbalance in our classes while choosing the appropriate training classifier model for our problem. A baseline model could just be one that predicts every outcome as LARCENY/THEFT."
   ]
  },
  {
   "cell_type": "code",
   "execution_count": 39,
   "metadata": {},
   "outputs": [],
   "source": [
    "# Create another instance of train,test data set for feature engineering\n",
    "dataImport_v2 = import_EDA()\n",
    "train_v2,test_v2= dataImport_v2.importToPandas()\n",
    "\n",
    "# Split the date category to years,hours,months\n",
    "train_v2,test_v2 = dataImport_v2.splitDate(train_v2,test_v2)"
   ]
  },
  {
   "cell_type": "markdown",
   "metadata": {},
   "source": [
    "As a first step to our feature engineering, we extract the elements of the date to make them more usable. Here, we extract the year, the month, the day of the month, hour, and minutes. The goal of this step is to see if there is any periodic behavior with these components of time. For example, crime rates can overall be stable year after year, but fluctuate sesonally or on an hourly basis throughout the day. These fluctuations will be captured if we extract the date parts from the timestamp rather than using the full timestamp given in the original dataset"
   ]
  },
  {
   "cell_type": "code",
   "execution_count": 40,
   "metadata": {
    "scrolled": true
   },
   "outputs": [
    {
     "name": "stdout",
     "output_type": "stream",
     "text": [
      "\n",
      "Training data set after date split\n",
      "\n"
     ]
    },
    {
     "data": {
      "text/html": [
       "<div>\n",
       "<style scoped>\n",
       "    .dataframe tbody tr th:only-of-type {\n",
       "        vertical-align: middle;\n",
       "    }\n",
       "\n",
       "    .dataframe tbody tr th {\n",
       "        vertical-align: top;\n",
       "    }\n",
       "\n",
       "    .dataframe thead th {\n",
       "        text-align: right;\n",
       "    }\n",
       "</style>\n",
       "<table border=\"1\" class=\"dataframe\">\n",
       "  <thead>\n",
       "    <tr style=\"text-align: right;\">\n",
       "      <th></th>\n",
       "      <th>Dates</th>\n",
       "      <th>Category</th>\n",
       "      <th>Descript</th>\n",
       "      <th>DayOfWeek</th>\n",
       "      <th>PdDistrict</th>\n",
       "      <th>Resolution</th>\n",
       "      <th>Address</th>\n",
       "      <th>X</th>\n",
       "      <th>Y</th>\n",
       "      <th>Year</th>\n",
       "      <th>Month</th>\n",
       "      <th>DayOfMonth</th>\n",
       "      <th>Hour</th>\n",
       "      <th>Minutes</th>\n",
       "    </tr>\n",
       "  </thead>\n",
       "  <tbody>\n",
       "    <tr>\n",
       "      <th>0</th>\n",
       "      <td>2015-05-13 23:53:00</td>\n",
       "      <td>WARRANTS</td>\n",
       "      <td>WARRANT ARREST</td>\n",
       "      <td>Wednesday</td>\n",
       "      <td>NORTHERN</td>\n",
       "      <td>ARREST, BOOKED</td>\n",
       "      <td>OAK ST / LAGUNA ST</td>\n",
       "      <td>-122.425892</td>\n",
       "      <td>37.774599</td>\n",
       "      <td>2015</td>\n",
       "      <td>5</td>\n",
       "      <td>13</td>\n",
       "      <td>23.0</td>\n",
       "      <td>53</td>\n",
       "    </tr>\n",
       "    <tr>\n",
       "      <th>1</th>\n",
       "      <td>2015-05-13 23:53:00</td>\n",
       "      <td>OTHER OFFENSES</td>\n",
       "      <td>TRAFFIC VIOLATION ARREST</td>\n",
       "      <td>Wednesday</td>\n",
       "      <td>NORTHERN</td>\n",
       "      <td>ARREST, BOOKED</td>\n",
       "      <td>OAK ST / LAGUNA ST</td>\n",
       "      <td>-122.425892</td>\n",
       "      <td>37.774599</td>\n",
       "      <td>2015</td>\n",
       "      <td>5</td>\n",
       "      <td>13</td>\n",
       "      <td>23.0</td>\n",
       "      <td>53</td>\n",
       "    </tr>\n",
       "    <tr>\n",
       "      <th>2</th>\n",
       "      <td>2015-05-13 23:33:00</td>\n",
       "      <td>OTHER OFFENSES</td>\n",
       "      <td>TRAFFIC VIOLATION ARREST</td>\n",
       "      <td>Wednesday</td>\n",
       "      <td>NORTHERN</td>\n",
       "      <td>ARREST, BOOKED</td>\n",
       "      <td>VANNESS AV / GREENWICH ST</td>\n",
       "      <td>-122.424363</td>\n",
       "      <td>37.800414</td>\n",
       "      <td>2015</td>\n",
       "      <td>5</td>\n",
       "      <td>13</td>\n",
       "      <td>23.0</td>\n",
       "      <td>33</td>\n",
       "    </tr>\n",
       "    <tr>\n",
       "      <th>3</th>\n",
       "      <td>2015-05-13 23:30:00</td>\n",
       "      <td>LARCENY/THEFT</td>\n",
       "      <td>GRAND THEFT FROM LOCKED AUTO</td>\n",
       "      <td>Wednesday</td>\n",
       "      <td>NORTHERN</td>\n",
       "      <td>NONE</td>\n",
       "      <td>1500 Block of LOMBARD ST</td>\n",
       "      <td>-122.426995</td>\n",
       "      <td>37.800873</td>\n",
       "      <td>2015</td>\n",
       "      <td>5</td>\n",
       "      <td>13</td>\n",
       "      <td>23.0</td>\n",
       "      <td>30</td>\n",
       "    </tr>\n",
       "    <tr>\n",
       "      <th>4</th>\n",
       "      <td>2015-05-13 23:30:00</td>\n",
       "      <td>LARCENY/THEFT</td>\n",
       "      <td>GRAND THEFT FROM LOCKED AUTO</td>\n",
       "      <td>Wednesday</td>\n",
       "      <td>PARK</td>\n",
       "      <td>NONE</td>\n",
       "      <td>100 Block of BRODERICK ST</td>\n",
       "      <td>-122.438738</td>\n",
       "      <td>37.771541</td>\n",
       "      <td>2015</td>\n",
       "      <td>5</td>\n",
       "      <td>13</td>\n",
       "      <td>23.0</td>\n",
       "      <td>30</td>\n",
       "    </tr>\n",
       "  </tbody>\n",
       "</table>\n",
       "</div>"
      ],
      "text/plain": [
       "                 Dates        Category                      Descript  \\\n",
       "0  2015-05-13 23:53:00        WARRANTS                WARRANT ARREST   \n",
       "1  2015-05-13 23:53:00  OTHER OFFENSES      TRAFFIC VIOLATION ARREST   \n",
       "2  2015-05-13 23:33:00  OTHER OFFENSES      TRAFFIC VIOLATION ARREST   \n",
       "3  2015-05-13 23:30:00   LARCENY/THEFT  GRAND THEFT FROM LOCKED AUTO   \n",
       "4  2015-05-13 23:30:00   LARCENY/THEFT  GRAND THEFT FROM LOCKED AUTO   \n",
       "\n",
       "   DayOfWeek PdDistrict      Resolution                    Address  \\\n",
       "0  Wednesday   NORTHERN  ARREST, BOOKED         OAK ST / LAGUNA ST   \n",
       "1  Wednesday   NORTHERN  ARREST, BOOKED         OAK ST / LAGUNA ST   \n",
       "2  Wednesday   NORTHERN  ARREST, BOOKED  VANNESS AV / GREENWICH ST   \n",
       "3  Wednesday   NORTHERN            NONE   1500 Block of LOMBARD ST   \n",
       "4  Wednesday       PARK            NONE  100 Block of BRODERICK ST   \n",
       "\n",
       "            X          Y  Year  Month  DayOfMonth  Hour  Minutes  \n",
       "0 -122.425892  37.774599  2015      5          13  23.0       53  \n",
       "1 -122.425892  37.774599  2015      5          13  23.0       53  \n",
       "2 -122.424363  37.800414  2015      5          13  23.0       33  \n",
       "3 -122.426995  37.800873  2015      5          13  23.0       30  \n",
       "4 -122.438738  37.771541  2015      5          13  23.0       30  "
      ]
     },
     "metadata": {},
     "output_type": "display_data"
    },
    {
     "name": "stdout",
     "output_type": "stream",
     "text": [
      "\n",
      "Test data set after test split\n"
     ]
    },
    {
     "data": {
      "text/html": [
       "<div>\n",
       "<style scoped>\n",
       "    .dataframe tbody tr th:only-of-type {\n",
       "        vertical-align: middle;\n",
       "    }\n",
       "\n",
       "    .dataframe tbody tr th {\n",
       "        vertical-align: top;\n",
       "    }\n",
       "\n",
       "    .dataframe thead th {\n",
       "        text-align: right;\n",
       "    }\n",
       "</style>\n",
       "<table border=\"1\" class=\"dataframe\">\n",
       "  <thead>\n",
       "    <tr style=\"text-align: right;\">\n",
       "      <th></th>\n",
       "      <th>Id</th>\n",
       "      <th>Dates</th>\n",
       "      <th>DayOfWeek</th>\n",
       "      <th>PdDistrict</th>\n",
       "      <th>Address</th>\n",
       "      <th>X</th>\n",
       "      <th>Y</th>\n",
       "      <th>Year</th>\n",
       "      <th>Month</th>\n",
       "      <th>DayOfMonth</th>\n",
       "      <th>Hour</th>\n",
       "      <th>Minutes</th>\n",
       "    </tr>\n",
       "  </thead>\n",
       "  <tbody>\n",
       "    <tr>\n",
       "      <th>0</th>\n",
       "      <td>0</td>\n",
       "      <td>2015-05-10 23:59:00</td>\n",
       "      <td>Sunday</td>\n",
       "      <td>BAYVIEW</td>\n",
       "      <td>2000 Block of THOMAS AV</td>\n",
       "      <td>-122.399588</td>\n",
       "      <td>37.735051</td>\n",
       "      <td>2015</td>\n",
       "      <td>5</td>\n",
       "      <td>10</td>\n",
       "      <td>23.0</td>\n",
       "      <td>59</td>\n",
       "    </tr>\n",
       "    <tr>\n",
       "      <th>1</th>\n",
       "      <td>1</td>\n",
       "      <td>2015-05-10 23:51:00</td>\n",
       "      <td>Sunday</td>\n",
       "      <td>BAYVIEW</td>\n",
       "      <td>3RD ST / REVERE AV</td>\n",
       "      <td>-122.391523</td>\n",
       "      <td>37.732432</td>\n",
       "      <td>2015</td>\n",
       "      <td>5</td>\n",
       "      <td>10</td>\n",
       "      <td>23.0</td>\n",
       "      <td>51</td>\n",
       "    </tr>\n",
       "    <tr>\n",
       "      <th>2</th>\n",
       "      <td>2</td>\n",
       "      <td>2015-05-10 23:50:00</td>\n",
       "      <td>Sunday</td>\n",
       "      <td>NORTHERN</td>\n",
       "      <td>2000 Block of GOUGH ST</td>\n",
       "      <td>-122.426002</td>\n",
       "      <td>37.792212</td>\n",
       "      <td>2015</td>\n",
       "      <td>5</td>\n",
       "      <td>10</td>\n",
       "      <td>23.0</td>\n",
       "      <td>50</td>\n",
       "    </tr>\n",
       "    <tr>\n",
       "      <th>3</th>\n",
       "      <td>3</td>\n",
       "      <td>2015-05-10 23:45:00</td>\n",
       "      <td>Sunday</td>\n",
       "      <td>INGLESIDE</td>\n",
       "      <td>4700 Block of MISSION ST</td>\n",
       "      <td>-122.437394</td>\n",
       "      <td>37.721412</td>\n",
       "      <td>2015</td>\n",
       "      <td>5</td>\n",
       "      <td>10</td>\n",
       "      <td>23.0</td>\n",
       "      <td>45</td>\n",
       "    </tr>\n",
       "    <tr>\n",
       "      <th>4</th>\n",
       "      <td>4</td>\n",
       "      <td>2015-05-10 23:45:00</td>\n",
       "      <td>Sunday</td>\n",
       "      <td>INGLESIDE</td>\n",
       "      <td>4700 Block of MISSION ST</td>\n",
       "      <td>-122.437394</td>\n",
       "      <td>37.721412</td>\n",
       "      <td>2015</td>\n",
       "      <td>5</td>\n",
       "      <td>10</td>\n",
       "      <td>23.0</td>\n",
       "      <td>45</td>\n",
       "    </tr>\n",
       "  </tbody>\n",
       "</table>\n",
       "</div>"
      ],
      "text/plain": [
       "   Id                Dates DayOfWeek PdDistrict                   Address  \\\n",
       "0   0  2015-05-10 23:59:00    Sunday    BAYVIEW   2000 Block of THOMAS AV   \n",
       "1   1  2015-05-10 23:51:00    Sunday    BAYVIEW        3RD ST / REVERE AV   \n",
       "2   2  2015-05-10 23:50:00    Sunday   NORTHERN    2000 Block of GOUGH ST   \n",
       "3   3  2015-05-10 23:45:00    Sunday  INGLESIDE  4700 Block of MISSION ST   \n",
       "4   4  2015-05-10 23:45:00    Sunday  INGLESIDE  4700 Block of MISSION ST   \n",
       "\n",
       "            X          Y  Year  Month  DayOfMonth  Hour  Minutes  \n",
       "0 -122.399588  37.735051  2015      5          10  23.0       59  \n",
       "1 -122.391523  37.732432  2015      5          10  23.0       51  \n",
       "2 -122.426002  37.792212  2015      5          10  23.0       50  \n",
       "3 -122.437394  37.721412  2015      5          10  23.0       45  \n",
       "4 -122.437394  37.721412  2015      5          10  23.0       45  "
      ]
     },
     "metadata": {},
     "output_type": "display_data"
    }
   ],
   "source": [
    "print('\\nTraining data set after date split\\n')\n",
    "dataImport.displayDataFrame(train_v2,5)\n",
    "      \n",
    "print('\\nTest data set after test split')\n",
    "dataImport.displayDataFrame(test_v2,5)"
   ]
  },
  {
   "cell_type": "code",
   "execution_count": null,
   "metadata": {
    "scrolled": false
   },
   "outputs": [
    {
     "data": {
      "image/png": "[encoded data removed]",
      "text/plain": [
       "<Figure size 1800x1800 with 5 Axes>"
      ]
     },
     "metadata": {},
     "output_type": "display_data"
    }
   ],
   "source": [
    "plot_list = ['Year','Month','DayOfMonth','Hour','Minutes']\n",
    "fig,axs= dataImport_v2.plotDistGrid(train_v2,plot_list,3,2)"
   ]
  },
  {
   "cell_type": "markdown",
   "metadata": {},
   "source": [
    "- All the years appear to be evenly distributed in the data set, i.e. there is no distinction boundary apparent in the crime categories from just the year data.\n",
    "- Month:\n",
    "- Day:\n",
    "- Hour:"
   ]
  },
  {
   "cell_type": "markdown",
   "metadata": {},
   "source": [
    "### Adding zip codes to the feature set"
   ]
  },
  {
   "cell_type": "markdown",
   "metadata": {},
   "source": [
    "We wanted to add zipCode information as a way to group together locations that are close together. As the neighborhoods of SF are quite different from one another, we felt this would be a useful feature for our analysis\n",
    "\n",
    "To get the Zip Codes, we first tried to use geopy's reverse geocode mapping to get the full address (With the zipcode) from the lat/long coordinates. However, we were hitting into a \"too many requests\" error. Best practices recommend we make 1 request per second. As our training dataset has about 800k records, running this API will take close to 10 days. \n",
    "\n",
    "As a result, we pivoted to another strategy. Using the information here https://community.periscopedata.com/t/q5kqgg/us-zip-codes-with-latitudelongitude, we got a CSV with all of the lat/long coordinates cooresponding to each zip code. We then used k nearest neighbors with this CSV as the training dataset (with KNN = 1) to find the zip code whose lat/long coordinate is closest to the crime locatiom.\n",
    "\n",
    "As a caveat, this assumes that zip codes are circular regions (when in reality they are irregularly shaped). However, this approximation runs much faster than using an API, so we will use this way of determining zip codes."
   ]
  },
  {
   "cell_type": "code",
   "execution_count": null,
   "metadata": {
    "scrolled": false
   },
   "outputs": [
    {
     "name": "stdout",
     "output_type": "stream",
     "text": [
      "       zip_code   latitude   longitude\n",
      "39798     94101  37.784827 -122.727802\n",
      "39799     94102  37.779278 -122.416582\n",
      "39800     94103  37.775678 -122.412131\n",
      "39801     94104  37.790728 -122.401732\n",
      "39802     94105  37.789595 -122.395631\n"
     ]
    },
    {
     "data": {
      "text/plain": [
       "<matplotlib.collections.PathCollection at 0x140ec0710>"
      ]
     },
     "execution_count": 42,
     "metadata": {},
     "output_type": "execute_result"
    },
    {
     "data": {
      "image/png": "[encoded data removed]",
      "text/plain": [
       "<Figure size 1080x1080 with 1 Axes>"
      ]
     },
     "metadata": {},
     "output_type": "display_data"
    }
   ],
   "source": [
    "# Source of data https://community.periscopedata.com/t/q5kqgg/us-zip-codes-with-latitudelongitude\n",
    "zips = pd.read_csv('zip_codes_states.csv')\n",
    "sf_zips = zips[zips['city'] == 'San Francisco'][['zip_code','latitude','longitude']]\n",
    "\n",
    "# Plotting the SF Zip code midpoints with some crime locations to ensure that the data pulled in via CSV makes ense\n",
    "print(sf_zips[:5])\n",
    "plt.scatter(sf_zips['longitude'],sf_zips['latitude'])\n",
    "demo = train[:100]\n",
    "plt.scatter(demo['X'],demo['Y'])"
   ]
  },
  {
   "cell_type": "markdown",
   "metadata": {},
   "source": [
    "From the above, we see that the zip code center points (in blue) are in line with the first 100 features from our training dataset (green). This was a gut check to ensure that our zip code data that we imported in makes sense. Now we use KNN to generate the zip codes for our feature set"
   ]
  },
  {
   "cell_type": "code",
   "execution_count": null,
   "metadata": {},
   "outputs": [],
   "source": [
    "train_v2 = dataImport_v2.generateZipCodes(train_v2,sf_zips)\n",
    "test_v2 = dataImport_v2.generateZipCodes(test_v2,sf_zips)"
   ]
  },
  {
   "cell_type": "code",
   "execution_count": null,
   "metadata": {
    "scrolled": false
   },
   "outputs": [
    {
     "name": "stdout",
     "output_type": "stream",
     "text": [
      "\n",
      "Training data set after zipcode addition\n",
      "\n"
     ]
    },
    {
     "data": {
      "text/html": [
       "<div>\n",
       "<style scoped>\n",
       "    .dataframe tbody tr th:only-of-type {\n",
       "        vertical-align: middle;\n",
       "    }\n",
       "\n",
       "    .dataframe tbody tr th {\n",
       "        vertical-align: top;\n",
       "    }\n",
       "\n",
       "    .dataframe thead th {\n",
       "        text-align: right;\n",
       "    }\n",
       "</style>\n",
       "<table border=\"1\" class=\"dataframe\">\n",
       "  <thead>\n",
       "    <tr style=\"text-align: right;\">\n",
       "      <th></th>\n",
       "      <th>Dates</th>\n",
       "      <th>Category</th>\n",
       "      <th>Descript</th>\n",
       "      <th>DayOfWeek</th>\n",
       "      <th>PdDistrict</th>\n",
       "      <th>Resolution</th>\n",
       "      <th>Address</th>\n",
       "      <th>X</th>\n",
       "      <th>Y</th>\n",
       "      <th>Year</th>\n",
       "      <th>Month</th>\n",
       "      <th>DayOfMonth</th>\n",
       "      <th>Hour</th>\n",
       "      <th>Minutes</th>\n",
       "      <th>Zipcode</th>\n",
       "    </tr>\n",
       "  </thead>\n",
       "  <tbody>\n",
       "    <tr>\n",
       "      <th>0</th>\n",
       "      <td>2015-05-13 23:53:00</td>\n",
       "      <td>WARRANTS</td>\n",
       "      <td>WARRANT ARREST</td>\n",
       "      <td>Wednesday</td>\n",
       "      <td>NORTHERN</td>\n",
       "      <td>ARREST, BOOKED</td>\n",
       "      <td>OAK ST / LAGUNA ST</td>\n",
       "      <td>-122.425892</td>\n",
       "      <td>37.774599</td>\n",
       "      <td>2015</td>\n",
       "      <td>5</td>\n",
       "      <td>13</td>\n",
       "      <td>23.0</td>\n",
       "      <td>53</td>\n",
       "      <td>94102</td>\n",
       "    </tr>\n",
       "    <tr>\n",
       "      <th>1</th>\n",
       "      <td>2015-05-13 23:53:00</td>\n",
       "      <td>OTHER OFFENSES</td>\n",
       "      <td>TRAFFIC VIOLATION ARREST</td>\n",
       "      <td>Wednesday</td>\n",
       "      <td>NORTHERN</td>\n",
       "      <td>ARREST, BOOKED</td>\n",
       "      <td>OAK ST / LAGUNA ST</td>\n",
       "      <td>-122.425892</td>\n",
       "      <td>37.774599</td>\n",
       "      <td>2015</td>\n",
       "      <td>5</td>\n",
       "      <td>13</td>\n",
       "      <td>23.0</td>\n",
       "      <td>53</td>\n",
       "      <td>94102</td>\n",
       "    </tr>\n",
       "    <tr>\n",
       "      <th>2</th>\n",
       "      <td>2015-05-13 23:33:00</td>\n",
       "      <td>OTHER OFFENSES</td>\n",
       "      <td>TRAFFIC VIOLATION ARREST</td>\n",
       "      <td>Wednesday</td>\n",
       "      <td>NORTHERN</td>\n",
       "      <td>ARREST, BOOKED</td>\n",
       "      <td>VANNESS AV / GREENWICH ST</td>\n",
       "      <td>-122.424363</td>\n",
       "      <td>37.800414</td>\n",
       "      <td>2015</td>\n",
       "      <td>5</td>\n",
       "      <td>13</td>\n",
       "      <td>23.0</td>\n",
       "      <td>33</td>\n",
       "      <td>94109</td>\n",
       "    </tr>\n",
       "    <tr>\n",
       "      <th>3</th>\n",
       "      <td>2015-05-13 23:30:00</td>\n",
       "      <td>LARCENY/THEFT</td>\n",
       "      <td>GRAND THEFT FROM LOCKED AUTO</td>\n",
       "      <td>Wednesday</td>\n",
       "      <td>NORTHERN</td>\n",
       "      <td>NONE</td>\n",
       "      <td>1500 Block of LOMBARD ST</td>\n",
       "      <td>-122.426995</td>\n",
       "      <td>37.800873</td>\n",
       "      <td>2015</td>\n",
       "      <td>5</td>\n",
       "      <td>13</td>\n",
       "      <td>23.0</td>\n",
       "      <td>30</td>\n",
       "      <td>94109</td>\n",
       "    </tr>\n",
       "    <tr>\n",
       "      <th>4</th>\n",
       "      <td>2015-05-13 23:30:00</td>\n",
       "      <td>LARCENY/THEFT</td>\n",
       "      <td>GRAND THEFT FROM LOCKED AUTO</td>\n",
       "      <td>Wednesday</td>\n",
       "      <td>PARK</td>\n",
       "      <td>NONE</td>\n",
       "      <td>100 Block of BRODERICK ST</td>\n",
       "      <td>-122.438738</td>\n",
       "      <td>37.771541</td>\n",
       "      <td>2015</td>\n",
       "      <td>5</td>\n",
       "      <td>13</td>\n",
       "      <td>23.0</td>\n",
       "      <td>30</td>\n",
       "      <td>94117</td>\n",
       "    </tr>\n",
       "  </tbody>\n",
       "</table>\n",
       "</div>"
      ],
      "text/plain": [
       "                 Dates        Category                      Descript  \\\n",
       "0  2015-05-13 23:53:00        WARRANTS                WARRANT ARREST   \n",
       "1  2015-05-13 23:53:00  OTHER OFFENSES      TRAFFIC VIOLATION ARREST   \n",
       "2  2015-05-13 23:33:00  OTHER OFFENSES      TRAFFIC VIOLATION ARREST   \n",
       "3  2015-05-13 23:30:00   LARCENY/THEFT  GRAND THEFT FROM LOCKED AUTO   \n",
       "4  2015-05-13 23:30:00   LARCENY/THEFT  GRAND THEFT FROM LOCKED AUTO   \n",
       "\n",
       "   DayOfWeek PdDistrict      Resolution                    Address  \\\n",
       "0  Wednesday   NORTHERN  ARREST, BOOKED         OAK ST / LAGUNA ST   \n",
       "1  Wednesday   NORTHERN  ARREST, BOOKED         OAK ST / LAGUNA ST   \n",
       "2  Wednesday   NORTHERN  ARREST, BOOKED  VANNESS AV / GREENWICH ST   \n",
       "3  Wednesday   NORTHERN            NONE   1500 Block of LOMBARD ST   \n",
       "4  Wednesday       PARK            NONE  100 Block of BRODERICK ST   \n",
       "\n",
       "            X          Y  Year  Month  DayOfMonth  Hour  Minutes  Zipcode  \n",
       "0 -122.425892  37.774599  2015      5          13  23.0       53    94102  \n",
       "1 -122.425892  37.774599  2015      5          13  23.0       53    94102  \n",
       "2 -122.424363  37.800414  2015      5          13  23.0       33    94109  \n",
       "3 -122.426995  37.800873  2015      5          13  23.0       30    94109  \n",
       "4 -122.438738  37.771541  2015      5          13  23.0       30    94117  "
      ]
     },
     "metadata": {},
     "output_type": "display_data"
    },
    {
     "name": "stdout",
     "output_type": "stream",
     "text": [
      "\n",
      "Test data set after zipcode addition\n"
     ]
    },
    {
     "data": {
      "text/html": [
       "<div>\n",
       "<style scoped>\n",
       "    .dataframe tbody tr th:only-of-type {\n",
       "        vertical-align: middle;\n",
       "    }\n",
       "\n",
       "    .dataframe tbody tr th {\n",
       "        vertical-align: top;\n",
       "    }\n",
       "\n",
       "    .dataframe thead th {\n",
       "        text-align: right;\n",
       "    }\n",
       "</style>\n",
       "<table border=\"1\" class=\"dataframe\">\n",
       "  <thead>\n",
       "    <tr style=\"text-align: right;\">\n",
       "      <th></th>\n",
       "      <th>Id</th>\n",
       "      <th>Dates</th>\n",
       "      <th>DayOfWeek</th>\n",
       "      <th>PdDistrict</th>\n",
       "      <th>Address</th>\n",
       "      <th>X</th>\n",
       "      <th>Y</th>\n",
       "      <th>Year</th>\n",
       "      <th>Month</th>\n",
       "      <th>DayOfMonth</th>\n",
       "      <th>Hour</th>\n",
       "      <th>Minutes</th>\n",
       "      <th>Zipcode</th>\n",
       "    </tr>\n",
       "  </thead>\n",
       "  <tbody>\n",
       "    <tr>\n",
       "      <th>0</th>\n",
       "      <td>0</td>\n",
       "      <td>2015-05-10 23:59:00</td>\n",
       "      <td>Sunday</td>\n",
       "      <td>BAYVIEW</td>\n",
       "      <td>2000 Block of THOMAS AV</td>\n",
       "      <td>-122.399588</td>\n",
       "      <td>37.735051</td>\n",
       "      <td>2015</td>\n",
       "      <td>5</td>\n",
       "      <td>10</td>\n",
       "      <td>23.0</td>\n",
       "      <td>59</td>\n",
       "      <td>94124</td>\n",
       "    </tr>\n",
       "    <tr>\n",
       "      <th>1</th>\n",
       "      <td>1</td>\n",
       "      <td>2015-05-10 23:51:00</td>\n",
       "      <td>Sunday</td>\n",
       "      <td>BAYVIEW</td>\n",
       "      <td>3RD ST / REVERE AV</td>\n",
       "      <td>-122.391523</td>\n",
       "      <td>37.732432</td>\n",
       "      <td>2015</td>\n",
       "      <td>5</td>\n",
       "      <td>10</td>\n",
       "      <td>23.0</td>\n",
       "      <td>51</td>\n",
       "      <td>94124</td>\n",
       "    </tr>\n",
       "    <tr>\n",
       "      <th>2</th>\n",
       "      <td>2</td>\n",
       "      <td>2015-05-10 23:50:00</td>\n",
       "      <td>Sunday</td>\n",
       "      <td>NORTHERN</td>\n",
       "      <td>2000 Block of GOUGH ST</td>\n",
       "      <td>-122.426002</td>\n",
       "      <td>37.792212</td>\n",
       "      <td>2015</td>\n",
       "      <td>5</td>\n",
       "      <td>10</td>\n",
       "      <td>23.0</td>\n",
       "      <td>50</td>\n",
       "      <td>94109</td>\n",
       "    </tr>\n",
       "    <tr>\n",
       "      <th>3</th>\n",
       "      <td>3</td>\n",
       "      <td>2015-05-10 23:45:00</td>\n",
       "      <td>Sunday</td>\n",
       "      <td>INGLESIDE</td>\n",
       "      <td>4700 Block of MISSION ST</td>\n",
       "      <td>-122.437394</td>\n",
       "      <td>37.721412</td>\n",
       "      <td>2015</td>\n",
       "      <td>5</td>\n",
       "      <td>10</td>\n",
       "      <td>23.0</td>\n",
       "      <td>45</td>\n",
       "      <td>94112</td>\n",
       "    </tr>\n",
       "    <tr>\n",
       "      <th>4</th>\n",
       "      <td>4</td>\n",
       "      <td>2015-05-10 23:45:00</td>\n",
       "      <td>Sunday</td>\n",
       "      <td>INGLESIDE</td>\n",
       "      <td>4700 Block of MISSION ST</td>\n",
       "      <td>-122.437394</td>\n",
       "      <td>37.721412</td>\n",
       "      <td>2015</td>\n",
       "      <td>5</td>\n",
       "      <td>10</td>\n",
       "      <td>23.0</td>\n",
       "      <td>45</td>\n",
       "      <td>94112</td>\n",
       "    </tr>\n",
       "  </tbody>\n",
       "</table>\n",
       "</div>"
      ],
      "text/plain": [
       "   Id                Dates DayOfWeek PdDistrict                   Address  \\\n",
       "0   0  2015-05-10 23:59:00    Sunday    BAYVIEW   2000 Block of THOMAS AV   \n",
       "1   1  2015-05-10 23:51:00    Sunday    BAYVIEW        3RD ST / REVERE AV   \n",
       "2   2  2015-05-10 23:50:00    Sunday   NORTHERN    2000 Block of GOUGH ST   \n",
       "3   3  2015-05-10 23:45:00    Sunday  INGLESIDE  4700 Block of MISSION ST   \n",
       "4   4  2015-05-10 23:45:00    Sunday  INGLESIDE  4700 Block of MISSION ST   \n",
       "\n",
       "            X          Y  Year  Month  DayOfMonth  Hour  Minutes  Zipcode  \n",
       "0 -122.399588  37.735051  2015      5          10  23.0       59    94124  \n",
       "1 -122.391523  37.732432  2015      5          10  23.0       51    94124  \n",
       "2 -122.426002  37.792212  2015      5          10  23.0       50    94109  \n",
       "3 -122.437394  37.721412  2015      5          10  23.0       45    94112  \n",
       "4 -122.437394  37.721412  2015      5          10  23.0       45    94112  "
      ]
     },
     "metadata": {},
     "output_type": "display_data"
    }
   ],
   "source": [
    "print('\\nTraining data set after zipcode addition\\n')\n",
    "dataImport_v2.displayDataFrame(train_v2,5)\n",
    "      \n",
    "print('\\nTest data set after zipcode addition')\n",
    "dataImport_v2.displayDataFrame(test_v2,5)"
   ]
  },
  {
   "cell_type": "markdown",
   "metadata": {},
   "source": [
    "Let's look at the distribution of the generated zip codes in the training and test data sets"
   ]
  },
  {
   "cell_type": "code",
   "execution_count": null,
   "metadata": {},
   "outputs": [
    {
     "data": {
      "image/png": "[encoded data removed]",
      "text/plain": [
       "<Figure size 1080x1080 with 1 Axes>"
      ]
     },
     "metadata": {},
     "output_type": "display_data"
    }
   ],
   "source": [
    "g = dataImport_v2.plotDFDistribution(train_v2,'Zipcode')"
   ]
  },
  {
   "cell_type": "code",
   "execution_count": null,
   "metadata": {
    "scrolled": false
   },
   "outputs": [
    {
     "data": {
      "image/png": "[encoded data removed]",
      "text/plain": [
       "<Figure size 1080x1080 with 1 Axes>"
      ]
     },
     "metadata": {},
     "output_type": "display_data"
    }
   ],
   "source": [
    "g = dataImport_v2.plotDFDistribution(test_v2,'Zipcode')"
   ]
  },
  {
   "cell_type": "markdown",
   "metadata": {},
   "source": [
    "The zipcode distribution looks similar between training and test datasets"
   ]
  },
  {
   "cell_type": "code",
   "execution_count": null,
   "metadata": {
    "scrolled": false
   },
   "outputs": [],
   "source": [
    "ax = dataImport_v2.plotColdist(train_v2,'Category')"
   ]
  },
  {
   "cell_type": "markdown",
   "metadata": {},
   "source": [
    "Next, we want to add a marker on whether or not a day is a national holiday. We suspect this is a useful feature as more people are out and about / there are more tourists in San Francisco on national holidays. Thus, the crime patterns may differ on these days as opposed to other days. We used a Kaggle dataset of national holidays and compared the dates in the dataset to these holidays, adding a flag when a crime has occurred on a holiday."
   ]
  },
  {
   "cell_type": "code",
   "execution_count": null,
   "metadata": {
    "scrolled": true
   },
   "outputs": [],
   "source": [
    "train_v2 =  dataImport_v2.addUSHolidays(train_v2)\n",
    "test_v2 =  dataImport_v2.addUSHolidays(test_v2)\n",
    "\n",
    "print('\\nTraining data set after is_holiday addition\\n')\n",
    "dataImport_v2.displayDataFrame(train_v2,5)\n",
    "      \n",
    "print('\\nTest data set after is_holiday addition')\n",
    "dataImport_v2.displayDataFrame(test_v2,5)"
   ]
  },
  {
   "cell_type": "code",
   "execution_count": null,
   "metadata": {
    "scrolled": true
   },
   "outputs": [],
   "source": [
    "## Calculate fraction of crimes committed on holidays\n",
    "proportion_holidays = train_v2['is_holiday'].sum() / train_v2.shape[0]\n",
    "print('The proportion of crime records on US recognized holidays is {fm}%'.format(fm=100*round(proportion_holidays,5)))\n",
    "print('The proportion of crime records NOT on US recognized holidays is {fm}%'.format(fm=100*round(1 - proportion_holidays,5)))\n"
   ]
  },
  {
   "cell_type": "code",
   "execution_count": null,
   "metadata": {},
   "outputs": [],
   "source": [
    "## Deal with geo-coordinates\n",
    "# Remove latitude of 90 degress (this indicates north pole which points to incorrect data collection or recording)\n",
    "train_v2 = train_v2[train_v2.Y < 90]"
   ]
  },
  {
   "cell_type": "code",
   "execution_count": null,
   "metadata": {},
   "outputs": [],
   "source": [
    "dataImport_v2.displayDataFrame(train_v2)"
   ]
  },
  {
   "cell_type": "markdown",
   "metadata": {},
   "source": [
    "## Feature Engineering"
   ]
  },
  {
   "cell_type": "code",
   "execution_count": null,
   "metadata": {},
   "outputs": [],
   "source": [
    "class createTestTrainData:\n",
    "    '''\n",
    "        Parameters: \n",
    "            trainDataFrame: Pandas DF containing training data\n",
    "            testDataFrame: Pandas DF containing test data\n",
    "            outcome : [String] Predicted variable name in the data frame\n",
    "            removeCategories: [List] Categories to be removed from the training data frame to match test data shape\n",
    "            trainDataEncoded: Numpy data array containing encoded feature set for training data\n",
    "            trainlabelsEncoded: Numpy data array containing encoded dataset for training labels\n",
    "            mini_size: Size of the mini training data and label set to create\n",
    "            r_seed: Random seed for test train split \n",
    "            t_size: Size of dev dataset\n",
    "            shuffle: Boolean indicating shuffling of data for test train split\n",
    "            \n",
    "        Methods: \n",
    "            getDataSets(): Converts the pandas data frames for test and training data to numpy arrays for modeling\n",
    "            testTrainSplit(): Splits dataset into training and development data sets         \n",
    "\n",
    "    '''\n",
    "    def __init__(self,trainDataFrame=pd.DataFrame(),testDataFrame=pd.DataFrame(),outcome='Category',\n",
    "                 removeCategoriesTrain=['Category','Descript','Resolution'],\n",
    "                 removeCategoriesTest= ['Category','Descript','Resolution'],\n",
    "                 trainDataEncoded=[],trainlabelsEncoded=[], \n",
    "                 mini_size = 1000, r_seed = 1, t_size = 0.20, shuffle=True):\n",
    "        \n",
    "        # Parameters for data set creation\n",
    "        self._trainDataFrame = trainDataFrame\n",
    "        self._testDataFrame = testDataFrame\n",
    "        self._remCatsTrain = removeCategoriesTrain  # categories to remove from the training dataset\n",
    "        self._remCatsTest = removeCategoriesTest  # categories to remove from the test dataset\n",
    "\n",
    "        self._labelCat = outcome # define the outcome category\n",
    "        \n",
    "        # Parameters for test train data split\n",
    "        self._r_seed = r_seed\n",
    "        self._shuffle = shuffle\n",
    "        self._t_size = t_size\n",
    "        self._mini_size = mini_size\n",
    "        self._encodedData = trainDataEncoded\n",
    "        self._encodedLabels = trainlabelsEncoded\n",
    " \n",
    "    def getDataSets(self):\n",
    "        \"\"\" Process pandas dataframe and return numpy arrays \"\"\"\n",
    "        \n",
    "        data_train_df = self._trainDataFrame.drop(self._remCatsTrain,axis=1)\n",
    "        labels_train_df = pd.DataFrame(self._trainDataFrame, columns = [self._labelCat])\n",
    "\n",
    "        ## Convert data frame to numpy arrays\n",
    "        data_train = data_train_df.values\n",
    "        labels_train = labels_train_df.values\n",
    "        ## Store the feature names in a list\n",
    "        train_features_names = list(data_train_df.keys())\n",
    "        ## Remove ID column from test data\n",
    "        self._testDataFrame = self._testDataFrame.drop(self._remCatsTest,axis=1)\n",
    "        test_data = self._testDataFrame.values\n",
    "        test_feature_names = list(self._testDataFrame.keys())\n",
    "        \n",
    "        return data_train,labels_train,test_data,train_features_names,test_feature_names\n",
    "    \n",
    "    def testTrainSplit(self):\n",
    "        \"\"\" Split into training, dev and mini training data sets \"\"\"\n",
    "        train_data, dev_data, train_labels, dev_labels = train_test_split(self._encodedData, self._encodedLabels,test_size = self._t_size, random_state = self._r_seed,shuffle=self._shuffle)\n",
    "        mini_train_data, mini_train_labels = train_data[:self._mini_size], train_labels[:self._mini_size]\n",
    "        return train_data, dev_data, mini_train_data, train_labels, dev_labels, mini_train_labels\n",
    "    \n",
    "    def testTrainSplitBatches(self,num_batches,mini_size=100000):\n",
    "        \"\"\" Split into smaller random splits for ensemble model training \n",
    "            This method only return mini training data set and labels, dev data set and labels\"\"\"\n",
    "        mini_train_data = []\n",
    "        mini_train_labels= []\n",
    "        dev_data = []\n",
    "        dev_labels = []\n",
    "\n",
    "        for i in range(0,num_batches):\n",
    "        #     # Change the random seed to create random subsets\n",
    "            splitData = createTestTrainData(trainDataEncoded = data_train_encoded_v2,trainlabelsEncoded=labels_train_encoded_v2, \n",
    "                                                   mini_size = mini_size, r_seed=i*2, t_size = dev_size, shuffle=shuffle)\n",
    "            train_data, dev_data_tmp, mini_train_data_tmp, train_labels, dev_labels_tmp, mini_train_labels_tmp = splitData.testTrainSplit()\n",
    "            dev_data.append(dev_data_tmp)\n",
    "            dev_labels.append(dev_labels_tmp)\n",
    "            mini_train_data.append(mini_train_data_tmp)\n",
    "            mini_train_labels.append(mini_train_labels_tmp)\n",
    "\n",
    "        return mini_train_data,mini_train_labels,dev_data,dev_labels\n",
    "    "
   ]
  },
  {
   "cell_type": "code",
   "execution_count": null,
   "metadata": {},
   "outputs": [],
   "source": [
    "# Define a data pre processing class\n",
    "\n",
    "class featureProcessor:\n",
    "    '''\n",
    "        Parameters: \n",
    "            dataset: Numpy array containing data with features and samples \n",
    "            encode: Boolean indicating encoding of data\n",
    "            encodeScheme: String value indicating scheme to use for encoding \n",
    " \n",
    "        Methods: \n",
    "            encodeTrainData(): Encodes the data using encodeScheme and returns transformed datasets\n",
    "            encodeLabels(): Encodes the labels using encodeScheme and returns transformed label sets and class names\n",
    "\n",
    "    '''\n",
    "    \n",
    "    def __init__(self,encode=0,numericencodeScheme='MinMax',catencodeScheme='oneHot',labelEncodeScheme='label'):\n",
    "        \"\"\"Create a new instance of the preprocessing object\n",
    "        Parameters: \n",
    "            encode : Binary [1: encode based on encodeScheme ; 0 : no encoding]\n",
    "            dataencodeScheme: Scheme for encoding data set\n",
    "            labelEncodeScheme: Scheme for encoding label data\n",
    "        \"\"\"\n",
    "        self._encode = encode\n",
    "        self._numEncodeScheme = numericencodeScheme\n",
    "        self._catEncodeScheme = catEncodeScheme\n",
    "        self._labelEncodeScheme = labelEncodeScheme\n",
    "        self._numencoders ={'MinMax': preprocessing.MinMaxScaler(copy=True,feature_range=(0,1))}\n",
    "        self._catencoders = {'oneHot': preprocessing.OneHotEncoder(handle_unknown=\"ignore\")}\n",
    "        self._labelencoders = {'label': preprocessing.LabelEncoder()}\n",
    "        \n",
    "        ## Test for argument fidelity\n",
    "        if (self._encode and (self._catEncodeScheme==\"NULL\" or self._labelEncodeScheme==\"NULL\") or self._numEncodeScheme==\"NULL\"):\n",
    "            raise ValueError(\"encode schemes for data or labels can't be NULL when encode !=0\")     \n",
    "        if (self._numEncodeScheme not in self._numencoders):\n",
    "            raise ValueError(\"{fm} is not a valid encoding scheme defined in featureProcessor\".format(fm=self._numEncodeScheme))\n",
    "        if (self._catEncodeScheme not in self._catencoders):\n",
    "            raise ValueError(\"{fm} is not a valid encoding scheme defined in featureProcessor\".format(fm=self._catEncodeScheme))\n",
    "        if (self._labelEncodeScheme not in self._labelencoders):\n",
    "            raise ValueError(\"{fm} is not a valid encoding scheme defined in featureProcessor\".format(fm=self._labelEncodeScheme))\n",
    "\n",
    "    def columnTransform(self,num_features,cat_features):\n",
    "        '''Encode both categorical and numeric data'''\n",
    "        \n",
    "        # Numeric encoding setup\n",
    "        numeric_features = num_features\n",
    "        numeric_transformer = self._numencoders[self._numEncodeScheme]                                                           \n",
    "        \n",
    "        #Categorical encoding setup\n",
    "        categorical_features = cat_features\n",
    "        categorical_transformer = self._catencoders[self._catEncodeScheme]\n",
    "        \n",
    "        # Create an encoding pipeline\n",
    "        preprocessor = ColumnTransformer(\n",
    "            transformers=[\n",
    "                ('num', numeric_transformer, numeric_features),\n",
    "                ('cat', categorical_transformer, categorical_features)])\n",
    "    \n",
    "        return preprocessor\n",
    "    \n",
    "    def encodeData(self,trainData,testData,train_feature_names,):\n",
    "        # Define indeces for categorical and numerical features\n",
    "        num_features=[train_features_names_v2.index('X'),train_features_names_v2.index('Y')]\n",
    "        cat_features = [i for i,v in enumerate(train_features_names_v2) if i not in num_features]\n",
    "        if self._encode:\n",
    "            preprocessor = self.columnTransform(num_features,cat_features)\n",
    "            preprocessor = preprocessor.fit(trainData)\n",
    "            transformedDatasetTrain = preprocessor.transform(trainData)\n",
    "            transformedDatasetTest = preprocessor.transform(testData)\n",
    "        else:\n",
    "            transformedDatasetTrain = trainData\n",
    "            transformedDatasetTest = testData\n",
    "        \n",
    "        return transformedDatasetTrain,transformedDatasetTest\n",
    "    \n",
    "    def encodeLabels(self,labelset):        \n",
    "        # Encode label data\n",
    "        enc = self._labelencoders[self._labelEncodeScheme]\n",
    "        if self._encode:\n",
    "            transformedLabelset = enc.fit_transform(np.ravel(labelset.reshape(-1,1)))\n",
    "            data_classes = enc.classes_\n",
    "        else:\n",
    "            transformedLabelset = labelset\n",
    "            data_classes = np.unique(transformedLabelset)\n",
    "        return transformedLabelset,data_classes"
   ]
  },
  {
   "cell_type": "code",
   "execution_count": null,
   "metadata": {},
   "outputs": [],
   "source": [
    "''' FOR v2 DATA: Import the data frames into numpy arrays and remove extraneous categories \n",
    "    Outcome Variable: Category [This is what we will predict and it forms a separate array]\n",
    "'''\n",
    "removeCatsTrain_v2 = ['Category','Descript','Resolution', 'Dates']\n",
    "removeCatsTest_v2 = ['Id', 'Dates']\n",
    "\n",
    "outcomeLabel = 'Category' \n",
    "importdata_v2 = createTestTrainData(trainDataFrame=train_v2,testDataFrame=test_v2,outcome=outcomeLabel,\n",
    "                                    removeCategoriesTrain=removeCatsTrain_v2,removeCategoriesTest=removeCatsTest_v2)\n",
    "data_train_v2,labels_train_v2,test_data_v2,train_features_names_v2,test_feature_names_v2 = importdata_v2.getDataSets()\n",
    "\n",
    "# Check shape of all arrays\n",
    "print('Shape of training data: {train_shp1}'.format(train_shp1=data_train_v2.shape))\n",
    "print('Shape of training labels: {train_shp2}'.format(train_shp2=labels_train_v2.shape))\n",
    "print('List of training features:', train_features_names_v2)\n",
    "print('Shape of test data:', test_data_v2.shape)\n",
    "print('List of test features:', test_feature_names_v2)\n",
    "\n",
    "# Confirm that training and test data have same features at this stage\n",
    "assert train_features_names_v2==test_feature_names_v2, \"Training and Test features are not same!!\"\n"
   ]
  },
  {
   "cell_type": "code",
   "execution_count": null,
   "metadata": {
    "scrolled": true
   },
   "outputs": [],
   "source": [
    "''' FOR V2 DATA: Encoded data using one Hot Encoding'''\n",
    "numEncodeScheme = 'MinMax' # use Min Max scaling for X & Y \n",
    "catEncodeScheme = 'oneHot' # use one Hot scheme\n",
    "labelEncodeScheme  = 'label' # use label encoder (category to ordered numeric)\n",
    "encode = 1  # to encode or not to encode\n",
    "fp_v2 = featureProcessor(encode,numEncodeScheme,catEncodeScheme,labelEncodeScheme)   \n",
    "\n",
    "data_train_encoded_v2,test_data_encoded_v2= fp_v2.encodeData(data_train_v2,test_data_v2,train_features_names_v2)\n",
    "labels_train_encoded_v2, data_classes_v2 = fp_v2.encodeLabels(labels_train_v2)\n",
    "\n",
    "'''Split data in train, dev and mini_train dataset for training and validating models'''\n",
    "random_seed = 1\n",
    "dev_size = 0.20 # Set dev data set size to 20%\n",
    "shuffle = True # Shuffle the data based on random seed\n",
    "mini_dataset_size = 1000\n",
    "splitData_v2 = createTestTrainData(trainDataEncoded = data_train_encoded_v2,trainlabelsEncoded=labels_train_encoded_v2, \n",
    "                 mini_size = mini_dataset_size, r_seed=random_seed, t_size = dev_size, shuffle=shuffle)\n",
    "train_data_v2, dev_data_v2, mini_train_data_v2, train_labels_v2, dev_labels_v2, mini_train_labels_v2 = splitData_v2.testTrainSplit()\n",
    "\n",
    "# Check shapes of all arrays\n",
    "print('Shape of encoded training data:',train_data_v2.shape)\n",
    "print('Shape of encoded test data: ', test_data_encoded_v2.shape) \n",
    "print('Shape of encoded labels:', train_labels_v2.shape)\n",
    "print('Shape of data classes:', data_classes_v2.shape)\n",
    "print('Shape of dev dataset:',dev_data_v2.shape)\n",
    "print('Shape of dev label dataset:',dev_labels_v2.shape)\n",
    "print('Shape of mini training dataset:',mini_train_data_v2.shape)\n",
    "print('Shape of mini label dataset:',mini_train_labels_v2.shape)\n",
    "\n",
    "# Confirm that post encoding we have the same features for training and test data\n",
    "assert train_data_v2.shape[1] == test_data_encoded_v2.shape[1], \"Test and Training data have different encoded features!!\""
   ]
  },
  {
   "cell_type": "markdown",
   "metadata": {},
   "source": [
    "### Batch generation for ensemble training"
   ]
  },
  {
   "cell_type": "markdown",
   "metadata": {},
   "source": [
    "Generate smaller batches from random subsets of the training data and label sets to use with different classifiers. These classifiers will then be combined using a meta transformation to form the final model for our prediction problem."
   ]
  },
  {
   "cell_type": "code",
   "execution_count": 32,
   "metadata": {},
   "outputs": [
    {
     "ename": "NameError",
     "evalue": "name 'data_train_encoded_v2' is not defined",
     "output_type": "error",
     "traceback": [
      "\u001b[0;31m---------------------------------------------------------------------------\u001b[0m",
      "\u001b[0;31mNameError\u001b[0m                                 Traceback (most recent call last)",
      "\u001b[0;32m<ipython-input-32-aaaa9e740e76>\u001b[0m in \u001b[0;36m<module>\u001b[0;34m\u001b[0m\n\u001b[0;32m----> 1\u001b[0;31m splitData = createTestTrainData(trainDataEncoded = data_train_encoded_v2,trainlabelsEncoded=labels_train_encoded_v2, \n\u001b[0m\u001b[1;32m      2\u001b[0m                                            mini_size = mini_dataset_size, t_size = dev_size, shuffle=shuffle)\n\u001b[1;32m      3\u001b[0m \u001b[0mmini_train_data_list\u001b[0m\u001b[0;34m,\u001b[0m \u001b[0mmini_train_labels_list\u001b[0m\u001b[0;34m,\u001b[0m \u001b[0mdev_data_list\u001b[0m\u001b[0;34m,\u001b[0m \u001b[0mdev_labels_list\u001b[0m \u001b[0;34m=\u001b[0m\u001b[0;31m \u001b[0m\u001b[0;31m\\\u001b[0m\u001b[0;34m\u001b[0m\u001b[0;34m\u001b[0m\u001b[0m\n\u001b[1;32m      4\u001b[0m                     \u001b[0msplitData\u001b[0m\u001b[0;34m.\u001b[0m\u001b[0mtestTrainSplitBatches\u001b[0m\u001b[0;34m(\u001b[0m\u001b[0mnum_batches\u001b[0m\u001b[0;34m=\u001b[0m\u001b[0;36m3\u001b[0m\u001b[0;34m,\u001b[0m\u001b[0mmini_size\u001b[0m\u001b[0;34m=\u001b[0m\u001b[0;36m50000\u001b[0m\u001b[0;34m)\u001b[0m\u001b[0;34m\u001b[0m\u001b[0;34m\u001b[0m\u001b[0m\n\u001b[1;32m      5\u001b[0m \u001b[0;34m\u001b[0m\u001b[0m\n",
      "\u001b[0;31mNameError\u001b[0m: name 'data_train_encoded_v2' is not defined"
     ]
    }
   ],
   "source": [
    "splitData = createTestTrainData(trainDataEncoded = data_train_encoded_v2,trainlabelsEncoded=labels_train_encoded_v2, \n",
    "                                           mini_size = mini_dataset_size, t_size = dev_size, shuffle=shuffle)\n",
    "mini_train_data_list, mini_train_labels_list, dev_data_list, dev_labels_list = \\\n",
    "                    splitData.testTrainSplitBatches(num_batches=3,mini_size=50000) \n",
    "\n",
    "# Lets check if the splits happended correctly \n",
    "print(len(mini_train_data_list))\n",
    "for i in range(0,5):\n",
    "    print(mini_train_data_list[i].shape)\n",
    "\n"
   ]
  },
  {
   "cell_type": "markdown",
   "metadata": {},
   "source": [
    "Now the encoded feature count matches between the training, dev and test data. We will proceed with this sample."
   ]
  },
  {
   "cell_type": "markdown",
   "metadata": {},
   "source": [
    "### PCA\n",
    "#### used TruncatedSVD as this is better for Sparse inputs\n",
    "\n",
    "Note: In our earlier submission, we had fewer features in our dataset. Since increasing the number of features (adding the day of month for example), we re-evaluated the need for PCA and saw that the PCA curve more clearly tapers off now with the larger number of features. We will see if this translates to a more robust model. If the model is more robust with PCA, we will keep the PCA features for the rest of our modeling"
   ]
  },
  {
   "cell_type": "code",
   "execution_count": 25,
   "metadata": {},
   "outputs": [
    {
     "data": {
      "image/png": "[encoded data removed]",
      "text/plain": [
       "<Figure size 432x288 with 1 Axes>"
      ]
     },
     "metadata": {
      "needs_background": "light"
     },
     "output_type": "display_data"
    }
   ],
   "source": [
    "# Number of variables we will use in PCA\n",
    "n = 180\n",
    "\n",
    "# Running the PCA\n",
    "pca = TruncatedSVD(n_components = n)\n",
    "pca.fit(train_data_v2)\n",
    "\n",
    "# Calculate sum of the EVR\n",
    "evr = np.concatenate(([0], pca.explained_variance_ratio_))\n",
    "sevr = np.cumsum(evr)\n",
    "    \n",
    "# Plotting cumulative sum\n",
    "plt.plot(range(n + 1),sevr)\n",
    "plt.xlabel('N Components')\n",
    "plt.ylabel('Cumulative Explained Variance Ratio')\n",
    "plt.ylim([0,1])\n",
    "plt.show()"
   ]
  },
  {
   "cell_type": "markdown",
   "metadata": {},
   "source": [
    "It looks like the explained variance ratio tapers off at a dimensionality greater than 150. However, there is no clear cut-off point. Let's pivot to L1 to tell us the most key features"
   ]
  },
  {
   "cell_type": "markdown",
   "metadata": {},
   "source": [
    "### Cutting down our features with L1 regularization"
   ]
  },
  {
   "cell_type": "code",
   "execution_count": 27,
   "metadata": {},
   "outputs": [
    {
     "name": "stderr",
     "output_type": "stream",
     "text": [
      "[Parallel(n_jobs=-1)]: Using backend ThreadingBackend with 8 concurrent workers.\n"
     ]
    },
    {
     "name": "stdout",
     "output_type": "stream",
     "text": [
      "convergence after 10 epochs took 29 seconds\n",
      "For a c of 0.001 the number of non zero features is 49\n"
     ]
    },
    {
     "name": "stderr",
     "output_type": "stream",
     "text": [
      "[Parallel(n_jobs=-1)]: Done   1 tasks      | elapsed:   30.0s\n",
      "[Parallel(n_jobs=-1)]: Done   1 out of   1 | elapsed:   30.0s finished\n",
      "[Parallel(n_jobs=-1)]: Using backend ThreadingBackend with 8 concurrent workers.\n"
     ]
    },
    {
     "name": "stdout",
     "output_type": "stream",
     "text": [
      "convergence after 11 epochs took 30 seconds\n",
      "For a c of 0.005 the number of non zero features is 155\n"
     ]
    },
    {
     "name": "stderr",
     "output_type": "stream",
     "text": [
      "[Parallel(n_jobs=-1)]: Done   1 tasks      | elapsed:   30.7s\n",
      "[Parallel(n_jobs=-1)]: Done   1 out of   1 | elapsed:   30.7s finished\n",
      "[Parallel(n_jobs=-1)]: Using backend ThreadingBackend with 8 concurrent workers.\n"
     ]
    },
    {
     "name": "stdout",
     "output_type": "stream",
     "text": [
      "convergence after 12 epochs took 35 seconds\n",
      "For a c of 0.01 the number of non zero features is 236\n"
     ]
    },
    {
     "name": "stderr",
     "output_type": "stream",
     "text": [
      "[Parallel(n_jobs=-1)]: Done   1 tasks      | elapsed:   35.2s\n",
      "[Parallel(n_jobs=-1)]: Done   1 out of   1 | elapsed:   35.2s finished\n",
      "[Parallel(n_jobs=-1)]: Using backend ThreadingBackend with 8 concurrent workers.\n"
     ]
    },
    {
     "name": "stdout",
     "output_type": "stream",
     "text": [
      "convergence after 17 epochs took 103 seconds\n",
      "For a c of 0.05 the number of non zero features is 1002\n"
     ]
    },
    {
     "name": "stderr",
     "output_type": "stream",
     "text": [
      "[Parallel(n_jobs=-1)]: Done   1 tasks      | elapsed:  1.7min\n",
      "[Parallel(n_jobs=-1)]: Done   1 out of   1 | elapsed:  1.7min finished\n"
     ]
    }
   ],
   "source": [
    "c_vals = [0.001, 0.005, 0.01, 0.05, 0.1]\n",
    "feature_count_v1 = []\n",
    "nonzero_idx_list_v1 = []\n",
    "\n",
    "for idx_c, c in enumerate(c_vals):\n",
    "    \n",
    "    # Train the linear regression model using L1 regularization\n",
    "    l1 = LogisticRegression(penalty='l1', C = c, solver = 'saga', multi_class='auto', tol=.01,n_jobs=-1,verbose=10)\n",
    "    l1_model = l1.fit(train_data_v2, train_labels_v2)\n",
    "    \n",
    "    # Get the indices of the non zero features and save them\n",
    "    summed_weights = np.sum(l1_model.coef_, axis=0)\n",
    "    nonzero_index = np.nonzero(summed_weights)[0]\n",
    "    nonzero_idx_list_v1.append(nonzero_index) \n",
    "    n_features = len(nonzero_index)\n",
    "    feature_count_v1.append(n_features)\n",
    "    print('For a c of', c, 'the number of non zero features is', n_features)\n",
    "    \n",
    "    # Break the loop if L1 regularization is no longer removing any features for us\n",
    "    if n_features >= train_data_v2.shape[1] or n_features >= 300:\n",
    "        break\n"
   ]
  },
  {
   "cell_type": "code",
   "execution_count": 28,
   "metadata": {},
   "outputs": [],
   "source": [
    "all_feature_sets_train = []\n",
    "all_feature_sets_dev = []\n",
    "all_feature_sets_test = []\n",
    "\n",
    "for i in range(len(nonzero_idx_list_v1)):\n",
    "    idx = nonzero_idx_list_v1[i]\n",
    "    all_feature_sets_train.append(train_data_v2[:,idx])\n",
    "    all_feature_sets_dev.append(dev_data_v2[:,idx])\n",
    "    all_feature_sets_test.append(test_data_encoded_v2[:,idx])\n",
    "    "
   ]
  },
  {
   "cell_type": "code",
   "execution_count": 29,
   "metadata": {},
   "outputs": [
    {
     "name": "stdout",
     "output_type": "stream",
     "text": [
      "(702385, 49)\n",
      "(702385, 155)\n",
      "(702385, 236)\n",
      "(702385, 1002)\n"
     ]
    }
   ],
   "source": [
    "# Check to make sure our datasets are the right size\n",
    "\n",
    "for i in range(len(all_feature_sets_train)):\n",
    "    print(all_feature_sets_train[i].shape)"
   ]
  },
  {
   "cell_type": "markdown",
   "metadata": {},
   "source": [
    "\n",
    "## Model development and training"
   ]
  },
  {
   "cell_type": "markdown",
   "metadata": {},
   "source": [
    "### Multinomial Naive Bayes¶\n"
   ]
  },
  {
   "cell_type": "code",
   "execution_count": 30,
   "metadata": {},
   "outputs": [
    {
     "name": "stdout",
     "output_type": "stream",
     "text": [
      "Fitting 3 folds for each of 16 candidates, totalling 48 fits\n"
     ]
    },
    {
     "name": "stderr",
     "output_type": "stream",
     "text": [
      "[Parallel(n_jobs=-1)]: Using backend LokyBackend with 8 concurrent workers.\n",
      "[Parallel(n_jobs=-1)]: Done   2 tasks      | elapsed:    9.3s\n",
      "[Parallel(n_jobs=-1)]: Done   9 tasks      | elapsed:   15.7s\n",
      "[Parallel(n_jobs=-1)]: Done  16 tasks      | elapsed:   16.3s\n",
      "[Parallel(n_jobs=-1)]: Done  25 tasks      | elapsed:   26.6s\n",
      "[Parallel(n_jobs=-1)]: Done  38 out of  48 | elapsed:   33.7s remaining:    8.9s\n",
      "[Parallel(n_jobs=-1)]: Done  43 out of  48 | elapsed:   39.1s remaining:    4.5s\n",
      "[Parallel(n_jobs=-1)]: Done  48 out of  48 | elapsed:   39.5s remaining:    0.0s\n",
      "[Parallel(n_jobs=-1)]: Done  48 out of  48 | elapsed:   39.5s finished\n"
     ]
    }
   ],
   "source": [
    "#For V2 data\n",
    "\n",
    "mnb_v2 = MultinomialNB()\n",
    "alphas = {'alpha': [0.0000001, 0.000001, 0.00001, 0.0001, 0.001, 0.01, 0.1, 0.5, 1.0, 2.0, 10.0,20,50,100,500,1000]}\n",
    "# GridSearchCV uses negative log loss so it can maximize this parmater\n",
    "mnb_v2_cv = GridSearchCV(estimator = mnb_v2, param_grid = alphas, cv = 3, scoring = 'neg_log_loss', n_jobs=-1,verbose=10)\n",
    "nb_v2 = mnb_v2_cv.fit(train_data_v2, train_labels_v2)\n",
    "\n",
    "\n"
   ]
  },
  {
   "cell_type": "code",
   "execution_count": 31,
   "metadata": {},
   "outputs": [
    {
     "name": "stdout",
     "output_type": "stream",
     "text": [
      "The best value for alpha (with feature engineering) is: 0.1\n",
      "Best score from grid search on training data set       (with feature engineering):-2.6153\n"
     ]
    }
   ],
   "source": [
    "# # For V2 data\n",
    "\n",
    "print('The best value for alpha (with feature engineering) is:', nb_v2.best_params_['alpha'])\n",
    "print('Best score from grid search on training data set \\\n",
    "      (with feature engineering):{fm}'.format(fm=round(nb_v2.best_score_,4)))\n"
   ]
  },
  {
   "cell_type": "markdown",
   "metadata": {},
   "source": [
    "Before we jump to conclusions that this is the best value for alpha, let's check for underfitting/overfitting on the dev data"
   ]
  },
  {
   "cell_type": "code",
   "execution_count": 32,
   "metadata": {},
   "outputs": [
    {
     "name": "stdout",
     "output_type": "stream",
     "text": [
      "Running alpha of 1e-07\n",
      "Running alpha of 1e-06\n",
      "Running alpha of 1e-05\n",
      "Running alpha of 0.0001\n",
      "Running alpha of 0.001\n",
      "Running alpha of 0.01\n",
      "Running alpha of 0.1\n",
      "Running alpha of 0.5\n",
      "Running alpha of 1.0\n",
      "Running alpha of 2.0\n",
      "Running alpha of 10.0\n",
      "Running alpha of 20\n",
      "Running alpha of 50\n",
      "Running alpha of 100\n",
      "Running alpha of 500\n",
      "Running alpha of 1000\n"
     ]
    }
   ],
   "source": [
    "# For V2 data\n",
    "\n",
    "train_scores = []\n",
    "dev_scores = []\n",
    "\n",
    "alphas = [0.0000001, 0.000001, 0.00001, 0.0001, 0.001, 0.01, 0.1, 0.5, 1.0, 2.0, 10.0,20,50,100,500,1000]\n",
    "for a in alphas:\n",
    "    print('Running alpha of',a)\n",
    "    mnb_v2 = MultinomialNB(alpha = a)\n",
    "    train_predict = mnb_v2.fit(train_data_v2, train_labels_v2).predict_proba(train_data_v2)\n",
    "    train_score = metrics.log_loss(train_labels_v2, train_predict)\n",
    "    train_scores.append(train_score)\n",
    "    dev_predict = mnb_v2.predict_proba(dev_data_v2)\n",
    "    dev_score = metrics.log_loss(dev_labels_v2,dev_predict)\n",
    "    dev_scores.append(dev_score)"
   ]
  },
  {
   "cell_type": "code",
   "execution_count": 34,
   "metadata": {},
   "outputs": [
    {
     "data": {
      "image/png": "[encoded data removed]",
      "text/plain": [
       "<Figure size 432x288 with 1 Axes>"
      ]
     },
     "metadata": {
      "needs_background": "light"
     },
     "output_type": "display_data"
    }
   ],
   "source": [
    "# Plotting log loss scores\n",
    "plt.plot((alphas),train_scores, 'blue')\n",
    "plt.plot((alphas),dev_scores, 'red')\n",
    "plt.xlabel('Log(alpha)')\n",
    "plt.ylabel('Log Loss Score')\n",
    "plt.show()\n",
    "\n",
    "# Print outputs\n",
    "# print(train_scores)\n",
    "# print(dev_scores)"
   ]
  },
  {
   "cell_type": "markdown",
   "metadata": {},
   "source": [
    "From the above plot, we see that the Log-Loss score tracks the training and test datasets similarly and hence we are not under or over fitting the data."
   ]
  },
  {
   "cell_type": "code",
   "execution_count": 37,
   "metadata": {},
   "outputs": [
    {
     "name": "stdout",
     "output_type": "stream",
     "text": [
      "The F1 score for a Multinomial Naive Bayes model (with feature engineering) is 0.2875\n",
      "Log loss for Multinomial Naive Bayes is 2.5638\n"
     ]
    }
   ],
   "source": [
    "# For V2 data\n",
    "\n",
    "best_alpha_v2 = nb_v2.best_params_['alpha']\n",
    "mnb_v2_optimized = MultinomialNB(alpha = best_alpha_v2)\n",
    "mnb_v2_optimized.fit(train_data_v2, train_labels_v2)\n",
    "pred_labels_v2 = mnb_v2_optimized.predict(dev_data_v2)\n",
    "mnb_v2_score = metrics.f1_score(dev_labels_v2, pred_labels_v2, average = 'micro')\n",
    "mnb_v2_log_loss = metrics.log_loss(dev_labels_v2, mnb_v2_optimized.predict_proba(dev_data_v2))\n",
    "\n",
    "print('The F1 score for a Multinomial Naive Bayes model (with feature engineering) is {fm}'.format(fm=round(mnb_v2_score,4)))\n",
    "print(\"Log loss for Multinomial Naive Bayes is {fm}\".format(fm=round(mnb_v2_log_loss,4)))\n"
   ]
  },
  {
   "cell_type": "markdown",
   "metadata": {},
   "source": [
    "### Running with different feature subsets (taking only nonzero features from L1 optimization)"
   ]
  },
  {
   "cell_type": "code",
   "execution_count": 38,
   "metadata": {},
   "outputs": [
    {
     "data": {
      "text/plain": [
       "[<matplotlib.lines.Line2D at 0x12eb4bdd8>]"
      ]
     },
     "execution_count": 38,
     "metadata": {},
     "output_type": "execute_result"
    },
    {
     "data": {
      "image/png": "[encoded data removed]",
      "text/plain": [
       "<Figure size 432x288 with 1 Axes>"
      ]
     },
     "metadata": {
      "needs_background": "light"
     },
     "output_type": "display_data"
    }
   ],
   "source": [
    "mnb_log_losses = []\n",
    "\n",
    "for i in range(len(nonzero_idx_list_v1)):\n",
    "    mnb_v2_trim_features = MultinomialNB(alpha = best_alpha_v2)\n",
    "    mnb_v2_trim_features.fit(all_feature_sets_train[i], train_labels_v2)\n",
    "    mnb_log_loss = metrics.log_loss(dev_labels_v2, mnb_v2_trim_features.predict_proba(all_feature_sets_dev[i]))\n",
    "    mnb_log_losses.append(mnb_log_loss)\n",
    "    \n",
    "plt.plot(c_vals[:len(nonzero_idx_list_v1)], mnb_log_losses)"
   ]
  },
  {
   "cell_type": "code",
   "execution_count": 39,
   "metadata": {},
   "outputs": [
    {
     "name": "stdout",
     "output_type": "stream",
     "text": [
      "The best feature set has 1002 features\n"
     ]
    }
   ],
   "source": [
    "best_feature_set_idx = np.argmin(mnb_log_losses)\n",
    "print('The best feature set has', all_feature_sets_train[best_feature_set_idx].shape[1],'features')"
   ]
  },
  {
   "cell_type": "markdown",
   "metadata": {},
   "source": [
    "We have better log loss scores after removing variables from L1! The best is with 1002 features"
   ]
  },
  {
   "cell_type": "markdown",
   "metadata": {},
   "source": [
    "### Now let's do the same thing with a reduced number of variables from PCA "
   ]
  },
  {
   "cell_type": "code",
   "execution_count": 40,
   "metadata": {},
   "outputs": [
    {
     "name": "stdout",
     "output_type": "stream",
     "text": [
      "Shape of post PCA training dataset: (702385, 150)\n",
      "Shape of post PCA dev dataset: (175597, 150)\n",
      "Shape of post PCA test dataset: (884262, 150)\n"
     ]
    }
   ],
   "source": [
    "# Number of variables we will use in PCA\n",
    "n = 150\n",
    "\n",
    "# Running the PCA\n",
    "pca = TruncatedSVD(n_components = n)\n",
    "pca.fit(train_data_v2)\n",
    "\n",
    "after_transform_features_train = pca.transform(train_data_v2)\n",
    "after_transform_features_dev = pca.transform(dev_data_v2)\n",
    "after_transform_features_test = pca.transform(test_data_encoded_v2)\n",
    "\n",
    "print('Shape of post PCA training dataset:',after_transform_features_train.shape)\n",
    "print('Shape of post PCA dev dataset:',after_transform_features_dev.shape)\n",
    "print('Shape of post PCA test dataset:',after_transform_features_test.shape)"
   ]
  },
  {
   "cell_type": "code",
   "execution_count": 41,
   "metadata": {},
   "outputs": [
    {
     "name": "stdout",
     "output_type": "stream",
     "text": [
      "(702385, 150)\n",
      "(175597, 150)\n",
      "(884262, 150)\n",
      "The Log-Loss score for a Multinomial Native Bayes model (with feature engineering) is 2.6448\n"
     ]
    }
   ],
   "source": [
    "# We need to normalize the PCA data so values are between 0 and 1, else we wil return an error\n",
    "# For V2 Normalized PCA data\n",
    "norm_train = (after_transform_features_train - after_transform_features_train.min(axis = 0)) / after_transform_features_train.ptp(axis = 0)\n",
    "norm_dev = (after_transform_features_dev - after_transform_features_dev.min(axis = 0)) / after_transform_features_dev.ptp(axis = 0)\n",
    "norm_test = (after_transform_features_test - after_transform_features_test.min(axis = 0)) / after_transform_features_test.ptp(axis = 0)\n",
    "\n",
    "print(norm_train.shape)\n",
    "print(norm_dev.shape)\n",
    "print(norm_test.shape)\n",
    "\n",
    "mnb_pca = MultinomialNB(alpha = best_alpha_v2)\n",
    "pred_labels_pca = mnb_pca.fit(norm_train, train_labels_v2).predict_proba(norm_dev)\n",
    "mnb_pca_score = metrics.log_loss(dev_labels_v2, pred_labels_pca)\n",
    "print('The Log-Loss score for a Multinomial Native Bayes model (with feature engineering) is {fm}'.format(fm=round(mnb_pca_score,4)))\n"
   ]
  },
  {
   "cell_type": "markdown",
   "metadata": {},
   "source": [
    "Looking at the log loss values, we'll remove the features via L1 and do hyperparameter tuning."
   ]
  },
  {
   "cell_type": "markdown",
   "metadata": {},
   "source": [
    "### Going back and doing hyperparameter tuning"
   ]
  },
  {
   "cell_type": "code",
   "execution_count": 42,
   "metadata": {},
   "outputs": [],
   "source": [
    "train_data_v3 = all_feature_sets_train[best_feature_set_idx]\n",
    "dev_data_v3 = all_feature_sets_dev[best_feature_set_idx]"
   ]
  },
  {
   "cell_type": "code",
   "execution_count": 43,
   "metadata": {},
   "outputs": [
    {
     "name": "stdout",
     "output_type": "stream",
     "text": [
      "Running alpha of 1e-07\n",
      "Running alpha of 1e-06\n",
      "Running alpha of 1e-05\n",
      "Running alpha of 0.0001\n",
      "Running alpha of 0.001\n",
      "Running alpha of 0.01\n",
      "Running alpha of 0.1\n",
      "Running alpha of 0.5\n",
      "Running alpha of 1.0\n",
      "Running alpha of 2.0\n",
      "Running alpha of 10.0\n",
      "Running alpha of 20\n",
      "Running alpha of 50\n",
      "Running alpha of 100\n",
      "Running alpha of 500\n",
      "Running alpha of 1000\n"
     ]
    },
    {
     "data": {
      "image/png": "[encoded data removed]",
      "text/plain": [
       "<Figure size 432x288 with 1 Axes>"
      ]
     },
     "metadata": {
      "needs_background": "light"
     },
     "output_type": "display_data"
    },
    {
     "name": "stdout",
     "output_type": "stream",
     "text": [
      "[2.4082669050646137, 2.408266914896589, 2.40826701247677, 2.4082679276349084, 2.4082749829199845, 2.408328996096268, 2.4089401470993423, 2.41149292340345, 2.414899462112851, 2.422252379453451, 2.493318146611078, 2.587570578951374, 2.840300510454707, 3.177733218153141, 4.620596787918915, 5.306511810414676]\n",
      "[2.5236641070332047, 2.510970829485083, 2.498191783289238, 2.4852891685484253, 2.4723426756532167, 2.459270159769148, 2.446602867674304, 2.439929988954857, 2.4393075214323705, 2.4425196293418154, 2.503027919789098, 2.592204276193249, 2.838003997638943, 3.170449615773769, 4.605899863343124, 5.291392465583345]\n"
     ]
    }
   ],
   "source": [
    "# For V2 data\n",
    "\n",
    "train_scores = []\n",
    "dev_scores = []\n",
    "\n",
    "alphas = [0.0000001, 0.000001, 0.00001, 0.0001, 0.001, 0.01, 0.1, 0.5, 1.0, 2.0, 10.0,20,50,100,500,1000]\n",
    "for a in alphas:\n",
    "    print('Running alpha of',a)\n",
    "    mnb_v2 = MultinomialNB(alpha = a)\n",
    "    train_predict = mnb_v2.fit(train_data_v3, train_labels_v2).predict_proba(train_data_v3)\n",
    "    train_score = metrics.log_loss(train_labels_v2, train_predict)\n",
    "    train_scores.append(train_score)\n",
    "    dev_predict = mnb_v2.predict_proba(dev_data_v3)\n",
    "    dev_score = metrics.log_loss(dev_labels_v2,dev_predict)\n",
    "    dev_scores.append(dev_score)\n",
    "\n",
    "    \n",
    "# Plotting log loss scores\n",
    "plt.plot(np.log10(alphas),train_scores, 'blue')\n",
    "plt.plot(np.log10(alphas),dev_scores, 'red')\n",
    "plt.xlabel('Log(alpha)')\n",
    "plt.ylabel('Log Loss Score')\n",
    "plt.show()\n",
    "\n",
    "# Print outputs\n",
    "print(train_scores)\n",
    "print(dev_scores)"
   ]
  },
  {
   "cell_type": "markdown",
   "metadata": {},
   "source": [
    "We actually see a better log loss score with an alpha of 1.0"
   ]
  },
  {
   "cell_type": "code",
   "execution_count": 44,
   "metadata": {},
   "outputs": [
    {
     "name": "stdout",
     "output_type": "stream",
     "text": [
      "1.0\n"
     ]
    }
   ],
   "source": [
    "best_alpha = alphas[np.argmin(dev_scores)]\n",
    "print(best_alpha)"
   ]
  },
  {
   "cell_type": "code",
   "execution_count": 45,
   "metadata": {},
   "outputs": [
    {
     "name": "stdout",
     "output_type": "stream",
     "text": [
      "The F1 score for a Multinomial Naive Bayes model (with feature engineering) is 0.284\n",
      "Log loss for Multinomial Naive Bayes is 2.4393075214323705\n"
     ]
    }
   ],
   "source": [
    "# For V3 data (after removing coefficients from L1 regularization)\n",
    "\n",
    "mnb_final = MultinomialNB(alpha = best_alpha)\n",
    "mnb_final.fit(train_data_v3, train_labels_v2)\n",
    "pred_labels_final = mnb_final.predict(dev_data_v3)\n",
    "mnb_final_score = metrics.f1_score(dev_labels_v2, pred_labels_final, average = 'micro')\n",
    "mnb_final_log_loss = metrics.log_loss(dev_labels_v2, mnb_final.predict_proba(dev_data_v3))\n",
    "\n",
    "print('The F1 score for a Multinomial Naive Bayes model (with feature engineering) is {fm}'.format(fm=round(mnb_final_score,4)))\n",
    "print(\"Log loss for Multinomial Naive Bayes is {fm}\".format(fm=mnb_final_log_loss))\n"
   ]
  },
  {
   "cell_type": "markdown",
   "metadata": {},
   "source": [
    "### Analysis of Errors"
   ]
  },
  {
   "cell_type": "code",
   "execution_count": 46,
   "metadata": {},
   "outputs": [
    {
     "name": "stdout",
     "output_type": "stream",
     "text": [
      "Of 290 ARSON crimes, 106 were predicted to be OTHER OFFENSES\n",
      "Of 15450 ASSAULT crimes, 4841 were predicted to be LARCENY/THEFT\n",
      "Of 72 BAD CHECKS crimes, 36 were predicted to be LARCENY/THEFT\n",
      "Of 44 BRIBERY crimes, 12 were predicted to be LARCENY/THEFT\n",
      "Of 7429 BURGLARY crimes, 3909 were predicted to be LARCENY/THEFT\n",
      "Of 854 DISORDERLY CONDUCT crimes, 182 were predicted to be OTHER OFFENSES\n",
      "Of 439 DRIVING UNDER THE INFLUENCE crimes, 221 were predicted to be OTHER OFFENSES\n",
      "Of 10866 DRUG/NARCOTIC crimes, 5351 were predicted to be DRUG/NARCOTIC\n",
      "Of 857 DRUNKENNESS crimes, 252 were predicted to be OTHER OFFENSES\n",
      "Of 233 EMBEZZLEMENT crimes, 130 were predicted to be LARCENY/THEFT\n",
      "Of 49 EXTORTION crimes, 23 were predicted to be LARCENY/THEFT\n",
      "Of 107 FAMILY OFFENSES crimes, 20 were predicted to be OTHER OFFENSES\n",
      "Of 2151 FORGERY/COUNTERFEITING crimes, 875 were predicted to be LARCENY/THEFT\n",
      "Of 3323 FRAUD crimes, 1740 were predicted to be LARCENY/THEFT\n",
      "Of 36 GAMBLING crimes, 11 were predicted to be OTHER OFFENSES\n",
      "Of 439 KIDNAPPING crimes, 150 were predicted to be LARCENY/THEFT\n",
      "Of 35050 LARCENY/THEFT crimes, 23595 were predicted to be LARCENY/THEFT\n",
      "Of 359 LIQUOR LAWS crimes, 132 were predicted to be OTHER OFFENSES\n",
      "Of 235 LOITERING crimes, 57 were predicted to be LARCENY/THEFT\n",
      "Of 5147 MISSING PERSON crimes, 1811 were predicted to be MISSING PERSON\n",
      "Of 18553 NON-CRIMINAL crimes, 8012 were predicted to be LARCENY/THEFT\n",
      "Of 25087 OTHER OFFENSES crimes, 9380 were predicted to be OTHER OFFENSES\n",
      "Of 8 PORNOGRAPHY/OBSCENE MAT crimes, 4 were predicted to be LARCENY/THEFT\n",
      "Of 1431 PROSTITUTION crimes, 967 were predicted to be PROSTITUTION\n",
      "Of 656 RECOVERED VEHICLE crimes, 388 were predicted to be OTHER OFFENSES\n",
      "Of 4592 ROBBERY crimes, 1556 were predicted to be LARCENY/THEFT\n",
      "Of 366 RUNAWAY crimes, 150 were predicted to be MISSING PERSON\n",
      "Of 1939 SECONDARY CODES crimes, 592 were predicted to be LARCENY/THEFT\n",
      "Of 881 SEX OFFENSES FORCIBLE crimes, 347 were predicted to be LARCENY/THEFT\n",
      "Of 28 SEX OFFENSES NON FORCIBLE crimes, 13 were predicted to be LARCENY/THEFT\n",
      "Of 932 STOLEN PROPERTY crimes, 349 were predicted to be LARCENY/THEFT\n",
      "Of 98 SUICIDE crimes, 28 were predicted to be LARCENY/THEFT\n",
      "Of 6249 SUSPICIOUS OCC crimes, 2153 were predicted to be LARCENY/THEFT\n",
      "Of 1 TREA crimes, 1 were predicted to be OTHER OFFENSES\n",
      "Of 1474 TRESPASS crimes, 495 were predicted to be LARCENY/THEFT\n",
      "Of 8954 VANDALISM crimes, 3976 were predicted to be LARCENY/THEFT\n",
      "Of 10686 VEHICLE THEFT crimes, 4412 were predicted to be LARCENY/THEFT\n",
      "Of 8511 WARRANTS crimes, 2733 were predicted to be OTHER OFFENSES\n",
      "Of 1721 WEAPON LAWS crimes, 699 were predicted to be OTHER OFFENSES\n"
     ]
    }
   ],
   "source": [
    "cmatrix = confusion_matrix(dev_labels_v2, pred_labels_final)\n",
    "\n",
    "for i in range(cmatrix.shape[0]):\n",
    "    row = cmatrix[i]\n",
    "    index_max = row.argmax()\n",
    "    total_preds = row.sum()\n",
    "    print('Of', total_preds, data_classes_v2[i],'crimes,',row[index_max],'were predicted to be',data_classes_v2[index_max] )\n"
   ]
  },
  {
   "cell_type": "markdown",
   "metadata": {},
   "source": [
    "Our model is predicting more crimes are LARENCY THEFT than any other crimes. This makes sense as this is the most common crime. Our model is still underfitting"
   ]
  },
  {
   "cell_type": "markdown",
   "metadata": {},
   "source": [
    "### Logistic Regression¶\n"
   ]
  },
  {
   "cell_type": "markdown",
   "metadata": {},
   "source": [
    "### KNN"
   ]
  },
  {
   "cell_type": "markdown",
   "metadata": {},
   "source": [
    "#### L1 Logistic Regression¶\n"
   ]
  },
  {
   "cell_type": "code",
   "execution_count": 47,
   "metadata": {},
   "outputs": [],
   "source": [
    "# best_c = 0.1\n",
    "# best_solver = 'saga'\n",
    "# tol = 0.01\n",
    "# iterations = 10\n",
    "# penalty = 'l1'\n",
    "# multiclass = 'multinomial'\n",
    "\n",
    "# lr_l1_optimized = LogisticRegression(C = best_c, solver=best_solver,penalty=penalty, multi_class=multiclass,  \n",
    "#                                      random_state = random_seed, max_iter=iterations, tol = tol,n_jobs=-1,verbose=10)\n",
    "# pred_labels = lr_l1_optimized.fit(train_data_v2, train_labels_v2).predict(dev_data_v2)\n",
    "# l1_score = metrics.f1_score(dev_labels_v2, pred_labels, average = 'micro')\n"
   ]
  },
  {
   "cell_type": "code",
   "execution_count": null,
   "metadata": {},
   "outputs": [],
   "source": [
    "# print('The F1 score for a Logistic Regression model (using L1 errors) is %s'% (l1_score))"
   ]
  },
  {
   "cell_type": "markdown",
   "metadata": {},
   "source": [
    "#### L2 Logistic Regression¶\n"
   ]
  },
  {
   "cell_type": "code",
   "execution_count": null,
   "metadata": {},
   "outputs": [],
   "source": [
    "# lr_l2 = LogisticRegression(penalty='l2', multi_class='multinomial',  random_state = 123,solver = 'sag', max_iter=100, tol = 0.001)\n",
    "\n",
    "EFFA\n",
    "\n",
    "# lr_l2_cv = GridSearchCV(estimator = lr_l2, param_grid = cv_params, cv = 3, scoring = 'neg_log_loss', n_jobs = -1, verbose = 10)\n",
    "# l2 = lr_l2_cv.fit(train_data_v3, train_labels_v2)\n",
    "# print('The best parameters for Logistic Regression (using L2 errors) are:', l2.best_params_)"
   ]
  },
  {
   "cell_type": "code",
   "execution_count": null,
   "metadata": {},
   "outputs": [],
   "source": [
    "# pred_labels_l2 = l2.predict_proba(dev_data_v3)\n",
    "# l2_score = metrics.log_loss(dev_labels_v2, pred_labels_l2)\n",
    "# print('The Log Loss score for a Logistic Regression model (using L2 errors) is %s'% (l2_score))"
   ]
  },
  {
   "cell_type": "markdown",
   "metadata": {},
   "source": [
    "We ran KNN for our baseline submissions, but we did not pursue this as a model type because categories with more samples in the training dataset can easily dominate the less common crimes. "
   ]
  },
  {
   "cell_type": "code",
   "execution_count": null,
   "metadata": {},
   "outputs": [],
   "source": [
    "# baseline model is just a knn of 1 for just latitude and longitude\n",
    "neighbors = 1\n",
    "kn = KNeighborsClassifier(n_neighbors=neighbors,n_jobs=-1,verbose=10)\n",
    "kn.fit(train_data_v2, train_labels_v2)\n",
    "\n",
    "# Create predicted values\n",
    "#preds_dev = kn.predict(dev_data)\n",
    "score = kn.score(dev_data_v2, dev_labels_v2)\n",
    "#proba = kn.predict_proba(dev_data)\n",
    "\n",
    "print('Mean score from KNN with {nn} neighbors: {score}'.format(nn=neighbors, score=score))"
   ]
  },
  {
   "cell_type": "markdown",
   "metadata": {},
   "source": [
    "### Decision trees"
   ]
  },
  {
   "cell_type": "code",
   "execution_count": null,
   "metadata": {},
   "outputs": [],
   "source": [
    "parameters={'min_samples_split' : range(10,51,5),'max_depth': range(2,11,2)}\n",
    "clf_tree=DecisionTreeClassifier(n_jobs=-1,verbose=10)\n",
    "clf=GridSearchCV(clf_tree,parameters,cv=3,n_jobs=-1,verbose=1,iid=True,scoring = 'neg_log_loss')\n",
    "clf_optim  = clf.fit(train_data_v3,train_labels_v2)"
   ]
  },
  {
   "cell_type": "code",
   "execution_count": null,
   "metadata": {},
   "outputs": [],
   "source": [
    "print(clf.cv_results_['params'][clf.best_index_])\n",
    "print(clf_optim.best_score_ * -1)"
   ]
  },
  {
   "cell_type": "code",
   "execution_count": null,
   "metadata": {},
   "outputs": [],
   "source": [
    "min_samples_split = range(10,51,5)\n",
    "max_depth = [2,5,10,12,15]\n",
    "dtc_train_scores = np.zeros((len(max_depth), len(min_samples_split)))\n",
    "dtc_dev_scores = np.zeros((len(max_depth), len(min_samples_split)))\n",
    "\n",
    "for idx_mss, mss in enumerate(min_samples_split):\n",
    "    for idx_md, md in enumerate(max_depth):\n",
    "        print('Training Model for min samples split of', mss, 'with a max depth of', md)\n",
    "        dtc = DecisionTreeClassifier(max_depth = md, min_samples_split = mss)\n",
    "        dtc.fit(train_data_v3,train_labels_v2)\n",
    "        \n",
    "        dtc_train_predict = dtc.predict_proba(train_data_v3)\n",
    "        dtc_train_score = metrics.log_loss(train_labels_v2, dtc_train_predict)\n",
    "        dtc_train_scores[idx_md, idx_mss] = dtc_train_score\n",
    "        \n",
    "        dtc_dev_predict = dtc.predict_proba(dev_data_v3)\n",
    "        dtc_dev_score = metrics.log_loss(dev_labels_v2, dtc_dev_predict)\n",
    "        dtc_dev_scores[idx_md, idx_mss] = dtc_dev_score\n",
    "        \n",
    "print(dtc_train_scores)\n",
    "print(dtc_dev_scores)"
   ]
  },
  {
   "cell_type": "code",
   "execution_count": null,
   "metadata": {},
   "outputs": [],
   "source": [
    "fig, axes = plt.subplots(nrows = 1, ncols = len(max_depth), sharex = False, sharey = False, figsize = (16, 5))\n",
    "\n",
    "for md in range(len(max_depth)):\n",
    "    ax = plt.subplot(1, len(max_depth), md + 1)\n",
    "    ax.plot(min_samples_split, dtc_train_scores[md], 'b--')\n",
    "    ax.plot(min_samples_split, dtc_dev_scores[md], 'r:')\n",
    "    ax.set_title('Max Depth ' + str(max_depth[md]))\n",
    "    ax.set_ylim(bottom = 0 , top = 3)\n",
    "\n"
   ]
  },
  {
   "cell_type": "markdown",
   "metadata": {},
   "source": [
    "We see from the above that higher depths are leading to overfitting on the training data. The dev data log-loss score is increasing with higher depth. From the charts, it looks like a max depth of 5 is ideal, and the Min Sample Size doesn't matter. We will opt for the highest Min Sample Size as this means the model is more generalizable and is most parsimonious."
   ]
  },
  {
   "cell_type": "markdown",
   "metadata": {},
   "source": [
    "### Random Forest"
   ]
  },
  {
   "cell_type": "code",
   "execution_count": null,
   "metadata": {},
   "outputs": [],
   "source": [
    "parameters={'n_estimators' : [10,15,20,50,100],\n",
    "            'max_depth': range(2,10,2),\n",
    "            'max_features': ['sqrt','log2', None],\n",
    "            'min_samples_split' : range(100,500,50),\n",
    "            'bootstrap': ['True','False']\n",
    "           }\n",
    "rfClf = RandomForestClassifier()\n",
    "rfClf_search=GridSearchCV(rfClf,parameters,cv=3,n_jobs=-1,verbose=1)\n",
    "rfClf_optim = rfClf_search.fit(train_data_v3,train_labels_v2)\n"
   ]
  },
  {
   "cell_type": "code",
   "execution_count": null,
   "metadata": {
    "scrolled": true
   },
   "outputs": [],
   "source": [
    "print(rfClf_optim.cv_results_['params'][rfClf_optim.best_index_])\n",
    "print(rfClf_optim.best_score_)"
   ]
  },
  {
   "cell_type": "code",
   "execution_count": null,
   "metadata": {
    "scrolled": false
   },
   "outputs": [],
   "source": [
    "# Choose the best model and train for predictions on test data\n",
    "\n",
    "rfClf = RandomForestClassifier(bootstrap=True,max_depth=8,max_features=None,min_samples_split=350,n_estimators=20,n_jobs=-1,verbose=1)\n",
    "rfClf.fit(train_data_v2,train_labels_v2)"
   ]
  },
  {
   "cell_type": "code",
   "execution_count": null,
   "metadata": {},
   "outputs": [],
   "source": [
    "# Iterating upon the above to find the best parameters for the reduced feature set\n",
    "# Changing max depth\n",
    "\n",
    "max_depth = [5,8,10,12]\n",
    "rf_md_train_scores = np.zeros(len(max_depth))\n",
    "rf_md_dev_scores = np.zeros(len(max_depth))\n",
    "\n",
    "for idx_md, md in enumerate(max_depth):\n",
    "    print('Training Model for a max depth of', md, 'keeping all other params constant')\n",
    "    rf = RandomForestClassifier(bootstrap=True,max_depth = md,max_features=None,min_samples_split=350,n_estimators=20,n_jobs=-1,verbose=1)\n",
    "    rf.fit(train_data_v3,train_labels_v2)\n",
    "        \n",
    "    rf_train_predict = rf.predict_proba(train_data_v3)\n",
    "    rf_train_score = metrics.log_loss(train_labels_v2, rf_train_predict)\n",
    "    rf_md_train_scores[idx_md] = rf_train_score\n",
    "        \n",
    "    rf_dev_predict = dtc.predict_proba(dev_data_v3)\n",
    "    rf_dev_score = metrics.log_loss(dev_labels_v2, rf_dev_predict) + \n",
    "    rf_md_dev_scores[idx_md] = rf_dev_score\n",
    "        \n",
    "print(rf_md_train_scores)\n",
    "print(rf_md_dev_scores)"
   ]
  },
  {
   "cell_type": "code",
   "execution_count": null,
   "metadata": {},
   "outputs": [],
   "source": [
    "plt.plot(max_depth, rf_md_train_scores, 'b')\n",
    "plt.plot(max_depth, rf_md_dev_scores, 'r')\n",
    "\n",
    "best_max_depth = max_depth[np.argmin(rf_md_dev_scores)]"
   ]
  },
  {
   "cell_type": "markdown",
   "metadata": {},
   "source": [
    "The best max depth doesn't affect the log-loss score of the dev dataset. Therefore we choose the most parsimonious (5)"
   ]
  },
  {
   "cell_type": "code",
   "execution_count": null,
   "metadata": {},
   "outputs": [],
   "source": [
    "# Iterating upon the above to find the best parameters for the reduced feature set\n",
    "# Changing max features\n",
    "\n",
    "max_features = ['sqrt','log2', None]\n",
    "rf_mf_train_scores = np.zeros(len(max_features))\n",
    "rf_mf_dev_scores = np.zeros(len(max_features))\n",
    "\n",
    "for idx_mf, mf in enumerate(max_features):\n",
    "    print('Training Model for a max features of', mf, 'keeping all other params constant')\n",
    "    rf = RandomForestClassifier(bootstrap=True,max_depth = best_max_depth,max_features = mf, min_samples_split=350,n_estimators=20,n_jobs=-1,verbose=1)\n",
    "    rf.fit(train_data_v3,train_labels_v2)\n",
    "        \n",
    "    rf_train_predict = rf.predict_proba(train_data_v3)\n",
    "    rf_train_score = metrics.log_loss(train_labels_v2, rf_train_predict)\n",
    "    rf_mf_train_scores[idx_mf] = rf_train_score\n",
    "        \n",
    "    rf_dev_predict = dtc.predict_proba(dev_data_v3)\n",
    "    rf_dev_score = metrics.log_loss(dev_labels_v2, rf_dev_predict) \n",
    "    rf_mf_dev_scores[idx_mf] = rf_dev_score \n",
    "        \n",
    "print(rf_mf_train_scores)\n",
    "print(rf_mf_dev_scores)\n"
   ]
  },
  {
   "cell_type": "markdown",
   "metadata": {},
   "source": [
    "It turns out the dev dataset has the same f1 score regardless of the training method used. Therefore, we will use one of the less computationally intensive max features. Between log2 and sqrt, sqrt performed better. Thus we will set this as our best max features"
   ]
  },
  {
   "cell_type": "code",
   "execution_count": null,
   "metadata": {},
   "outputs": [],
   "source": [
    "best_max_features = 'sqrt'"
   ]
  },
  {
   "cell_type": "code",
   "execution_count": null,
   "metadata": {},
   "outputs": [],
   "source": [
    "# Iterating upon the above to find the best parameters for the reduced feature set\n",
    "# Changing min samples split\n",
    "\n",
    "min_samples_split = range(100,500,50)\n",
    "rf_mss_train_scores = np.zeros(len(min_samples_split))\n",
    "rf_mss_dev_scores = np.zeros(len(min_samples_split))\n",
    "\n",
    "for idx_mss, mss in enumerate(min_samples_split):\n",
    "    print('Training Model for a min samples split of', mss, 'keeping all other params constant')\n",
    "    rf = RandomForestClassifier(bootstrap = True,max_depth = best_max_depth,max_features = best_max_features, min_samples_split = mss,n_estimators=20,n_jobs=-1,verbose=1)\n",
    "    rf.fit(train_data_v3,train_labels_v2)\n",
    "        \n",
    "    rf_train_predict = rf.predict_proba(train_data_v3)\n",
    "    rf_train_score = metrics.log_loss(train_labels_v2, rf_train_predict)\n",
    "    rf_mss_train_scores[idx_mss] = rf_train_score\n",
    "        \n",
    "    rf_dev_predict = dtc.predict_proba(dev_data_v3)\n",
    "    rf_dev_score = metrics.log_loss(dev_labels_v2, rf_dev_predict)\n",
    "    rf_mss_dev_scores[idx_mss] = rf_dev_score\n",
    "        \n",
    "print(rf_mss_train_scores)\n",
    "print(rf_mss_dev_scores)"
   ]
  },
  {
   "cell_type": "code",
   "execution_count": null,
   "metadata": {},
   "outputs": [],
   "source": [
    "plt.plot(min_samples_split, rf_mss_train_scores, 'b')\n",
    "plt.plot(min_samples_split, rf_mss_dev_scores, 'r')\n",
    "\n",
    "best_min_samples_split = min_samples_split[np.argmin(rf_mss_dev_scores)]\n",
    "print('The Best min samples split is',best_min_samples_split)"
   ]
  },
  {
   "cell_type": "markdown",
   "metadata": {},
   "source": [
    "Again going with the most parsimonious option as all values return the same log loss score on the dev dataset."
   ]
  },
  {
   "cell_type": "code",
   "execution_count": null,
   "metadata": {},
   "outputs": [],
   "source": [
    "best_min_samples_split = 450"
   ]
  },
  {
   "cell_type": "code",
   "execution_count": null,
   "metadata": {},
   "outputs": [],
   "source": [
    "# Iterating upon the above to find the best parameters for the reduced feature set\n",
    "# Changing n estimators\n",
    "\n",
    "n_estimators = [10,15,20,50,100]\n",
    "rf_ne_train_scores = np.zeros(len(n_estimators))\n",
    "rf_ne_dev_scores = np.zeros(len(n_estimators))\n",
    "\n",
    "for idx_ne, ne in enumerate(n_estimators):\n",
    "    print('Training Model for n estimators of', ne, 'keeping all other params constant')\n",
    "    rf = RandomForestClassifier(bootstrap = True,max_depth = best_max_depth,max_features = best_max_features, min_samples_split = best_min_samples_split,n_estimators = ne,n_jobs=-1,verbose=1)\n",
    "    rf.fit(train_data_v3,train_labels_v2)\n",
    "        \n",
    "    rf_train_predict = rf.predict_proba(train_data_v3)\n",
    "    rf_train_score = metrics.log_loss(train_labels_v2, rf_train_predict)\n",
    "    rf_ne_train_scores[idx_ne] = rf_train_score\n",
    "        \n",
    "    rf_dev_predict = dtc.predict_proba(dev_data_v3)\n",
    "    rf_dev_score = metrics.log_loss(dev_labels_v2, rf_dev_predict)\n",
    "    rf_ne_dev_scores[idx_ne] = rf_dev_score\n",
    "        \n",
    "print(rf_ne_train_scores)\n",
    "print(rf_ne_dev_scores)"
   ]
  },
  {
   "cell_type": "code",
   "execution_count": null,
   "metadata": {},
   "outputs": [],
   "source": [
    "plt.plot(n_estimators, rf_ne_train_scores, 'b')\n",
    "plt.plot(n_estimators, rf_ne_dev_scores, 'r')"
   ]
  },
  {
   "cell_type": "markdown",
   "metadata": {},
   "source": [
    "Hyperparameter tuning didn't alter our dev log-loss score at all. Also, this score is not as good as our other models. Thus, we will not move forward with random forest as our classifier of choice"
   ]
  },
  {
   "cell_type": "markdown",
   "metadata": {},
   "source": [
    "## AdaBoosted Decision Trees\n",
    "\n",
    "We investigated adaboosting as these have been known to perform well for samples with skewed classes"
   ]
  },
  {
   "cell_type": "code",
   "execution_count": null,
   "metadata": {},
   "outputs": [],
   "source": [
    "dt_stump=DecisionTreeClassifier(max_depth=8, min_samples_split=20)\n",
    "dt_stump.fit(train_data_v3, train_labels_v2)"
   ]
  },
  {
   "cell_type": "code",
   "execution_count": null,
   "metadata": {},
   "outputs": [],
   "source": [
    "# Testing the Adaboost method with various n estimators and learning rates. \n",
    "# We find the log-loss score of both the training and the dev dataset to ensure we aren't overfitting on the training dataset\n",
    "\n",
    "n_estimators = [20, 50, 100, 200, 400]\n",
    "learning_rate = [0.1, 0.5, 0.9]\n",
    "ada_train_scores = np.zeros((len(learning_rate), len(n_estimators)))\n",
    "ada_dev_scores = np.zeros((len(learning_rate), len(n_estimators)))\n",
    "                 \n",
    "for idx_n, n in enumerate(n_estimators):\n",
    "    for idx_lr, lr in enumerate(learning_rate):\n",
    "        print('Training Model for n_estimators of', n, 'with a learning rate of', lr)\n",
    "        ada_real = AdaBoostClassifier(\n",
    "            base_estimator=dt_stump,\n",
    "            learning_rate = lr,\n",
    "            n_estimators = n,\n",
    "            algorithm=\"SAMME.R\")\n",
    "        ada_train_predict = ada_real.fit(train_data_v3, train_labels_v2).predict_proba(train_data_v3)\n",
    "        ada_train_score = metrics.log_loss(train_labels_v2, ada_train_predict)\n",
    "        ada_train_scores[idx_lr, idx_n] = ada_train_score\n",
    "        \n",
    "        ada_dev_predict = ada_real.predict_proba(dev_data_v3)\n",
    "        ada_dev_score = metrics.log_loss(dev_labels_v2, ada_dev_predict)\n",
    "        ada_dev_scores[idx_lr, idx_n] = ada_dev_score\n",
    "        \n",
    "print(ada_train_scores)\n",
    "print(ada_dev_scores)\n",
    "\n",
    "# OLD CODE\n",
    "# ada_real.fit(train_data_v2, train_labels_v2)\n",
    "# ada_pred = ada_real.predict_proba(dev_data_v2)\n",
    "# score = ada_real.score(dev_data_v2, dev_labels_v2)\n",
    "# print(ada_score)"
   ]
  },
  {
   "cell_type": "code",
   "execution_count": null,
   "metadata": {},
   "outputs": [],
   "source": [
    "fig, axes = plt.subplots(nrows=1, ncols=3, sharex=False, sharey=False)\n",
    "\n",
    "for i in range(len(learning_rate)):\n",
    "    ax = plt.subplot(1, 3, i+1)\n",
    "    ax.plot(n_estimators, ada_train_scores[i], 'blue')\n",
    "    ax.plot(n_estimators, ada_dev_scores[i], 'red')\n",
    "    ax.set_title('Learning Rate ' + str(learning_rate[i]))\n",
    "\n"
   ]
  },
  {
   "cell_type": "markdown",
   "metadata": {},
   "source": [
    "We see the best log-loss scores are coming from models where the learning rate is small (0.1) and n_estimators is a small value (20). From the plots above, we demonstrated that we are not overfitting the model on the traiing dataset here, as the log-loss curves of the dev dataset closely mirror the training dataset."
   ]
  },
  {
   "cell_type": "code",
   "execution_count": null,
   "metadata": {},
   "outputs": [],
   "source": [
    "# Now setting the model for the optimized set of parameters found above\n",
    "\n",
    "ada_real_optimized = AdaBoostClassifier(\n",
    "    base_estimator=dt_stump,\n",
    "    learning_rate = 0.1,\n",
    "    n_estimators = 20,\n",
    "    algorithm=\"SAMME.R\")\n",
    "\n",
    "ada_real_optimized.fit(train_data_v3, train_labels_v2)\n",
    "ada_train_optimized_predict = ada_real_optimized.predict_proba(dev_data_v3)"
   ]
  },
  {
   "cell_type": "code",
   "execution_count": null,
   "metadata": {},
   "outputs": [],
   "source": [
    "# Plotting the error rate over the number of trees\n",
    "\n",
    "# n_trees_real = len(ada_real_optimized)\n",
    "# real_test_errors = []\n",
    "\n",
    "# for real_test_predict in ada_real_optimized.staged_predict(dev_data_v2):\n",
    "#     real_test_errors.append(\n",
    "#         1. - accuracy_score(real_test_predict, dev_labels_v2))\n",
    "# plt.plot(range(1, n_trees_real + 1),\n",
    "#          real_test_errors, c='black',\n",
    "#          linestyle='dashed', label='SAMME.R')"
   ]
  },
  {
   "cell_type": "markdown",
   "metadata": {},
   "source": [
    "## Neural network"
   ]
  },
  {
   "cell_type": "code",
   "execution_count": null,
   "metadata": {
    "scrolled": true
   },
   "outputs": [],
   "source": [
    "import tensorflow as tf\n",
    "from tensorflow import keras\n",
    "\n",
    "config = tf.ConfigProto()\n",
    "config.intra_op_parallelism_threads = 0\n",
    "config.inter_op_parallelism_threads = 0"
   ]
  },
  {
   "cell_type": "code",
   "execution_count": null,
   "metadata": {},
   "outputs": [],
   "source": [
    "print(len(data_classes_v2))\n",
    "print(train_data_v2.shape)"
   ]
  },
  {
   "cell_type": "code",
   "execution_count": null,
   "metadata": {},
   "outputs": [],
   "source": [
    "modelNN = keras.Sequential([\n",
    "    keras.layers.Flatten(input_shape=(train_data_v2.shape[1],)),\n",
    "    keras.layers.Dense(32, activation=tf.nn.relu),\n",
    "    keras.layers.Dense(64, activation=tf.nn.relu),\n",
    "    keras.layers.Dense(32, activation=tf.nn.relu),\n",
    "    keras.layers.Dense(len(data_classes_v2), activation=tf.nn.softmax)\n",
    "])"
   ]
  },
  {
   "cell_type": "code",
   "execution_count": null,
   "metadata": {},
   "outputs": [],
   "source": [
    "modelNN.compile(optimizer='adam', \n",
    "              loss='sparse_categorical_crossentropy',\n",
    "              metrics=['accuracy'])"
   ]
  },
  {
   "cell_type": "code",
   "execution_count": null,
   "metadata": {
    "scrolled": true
   },
   "outputs": [],
   "source": [
    "modelNN.fit(train_data_v2,train_labels_v2, epochs=5,batch_size=1000)\n"
   ]
  },
  {
   "cell_type": "code",
   "execution_count": null,
   "metadata": {},
   "outputs": [],
   "source": [
    "val_loss, val_acc = modelNN.evaluate(dev_data_v2,dev_labels_v2)\n",
    "\n",
    "print('Test accuracy:', val_acc)"
   ]
  },
  {
   "cell_type": "markdown",
   "metadata": {},
   "source": [
    "## Model Choice"
   ]
  },
  {
   "cell_type": "markdown",
   "metadata": {},
   "source": [
    "#### We chose the random forest classifier as the model for making final predictions on test data\n",
    "\n",
    "More details on model choice will be included in the final report"
   ]
  },
  {
   "cell_type": "markdown",
   "metadata": {},
   "source": [
    "## Predictions on test data\n",
    "\n",
    "*Note:* Test predictions should be an array of probabilities or an array of predicted labels stored in a variable test_pred. Use the proper submission file generator below"
   ]
  },
  {
   "cell_type": "code",
   "execution_count": null,
   "metadata": {},
   "outputs": [],
   "source": [
    "# Predict on test data\n",
    "\n",
    "'''predictions using random forest model'''\n",
    "#preds = rfClf.predict(test_data_encoded_v2)\n",
    "\n",
    "## Predictions using neural network model\n",
    "pred_probs = modelNN.predict(test_data_encoded_v2)\n",
    "preds = np.argmax(pred_probs,axis=1)\n",
    "\n",
    "data_classes=data_classes_v2\n"
   ]
  },
  {
   "cell_type": "code",
   "execution_count": null,
   "metadata": {},
   "outputs": [],
   "source": [
    "print(pred_probs[:5])"
   ]
  },
  {
   "cell_type": "code",
   "execution_count": null,
   "metadata": {},
   "outputs": [],
   "source": [
    "# Running on MNB model with test data for now, will switch to random forest later\n",
    "test_pred = mnb_v2_optimized.predict_proba(test_data_encoded_v2)\n",
    "print(test_pred.shape)"
   ]
  },
  {
   "cell_type": "markdown",
   "metadata": {},
   "source": [
    "### Generating CSV file for submission to Kaggle - Baseline Submission\n",
    "Our original baseline submission was a KNN model where n = 1. However, we felt it made more sense to make the baseline submission a dataframe which predicts the most common crime for each sample in the test dataset. This will be our model to beat"
   ]
  },
  {
   "cell_type": "code",
   "execution_count": null,
   "metadata": {},
   "outputs": [],
   "source": [
    "# Making a baseline submission that just takes the most frequent-occurring crime, and predicting all crimes in the test data frame are of that label\n",
    "\n",
    "submission_no_ml = pd.DataFrame().reindex_like(sample_submission).fillna(0).astype(int)\n",
    "submission_no_ml['Id'] = sample_submission['Id']\n",
    "submission_no_ml['LARCENY/THEFT'] = 1\n",
    "submission_no_ml.to_csv('baseline_submission_2.csv', index = False)"
   ]
  },
  {
   "cell_type": "markdown",
   "metadata": {},
   "source": [
    "### Generating CSV file for submission to Kaggle - Use this if using predicted labels"
   ]
  },
  {
   "cell_type": "code",
   "execution_count": null,
   "metadata": {},
   "outputs": [],
   "source": [
    "## Print formatted output for submission CSV\n",
    "\n",
    "# Looking at format of output\n",
    "#print(sample_submission.head())\n",
    "print('sample submission shape', sample_submission.shape)\n",
    "\n",
    "# Now put results in a dataframe \n",
    "all_ids = test[\"Id\"].values\n",
    "\n",
    "# From encoded categories, get normal labels\n",
    "#labeled_preds = [data_classes[i] for i in preds]\n",
    "labeled_preds = pred_probs\n",
    "\n",
    "# Make dateframe\n",
    "d = {'Id': all_ids, 'Label': labeled_preds}\n",
    "\n",
    "# Make the results dummy columns\n",
    "df = pd.DataFrame(data = d)\n",
    "results = pd.get_dummies(df, prefix=[''],prefix_sep = '')\n",
    "\n",
    "# To ensure we have all columns, copy data into the schema of sample_submission\n",
    "submission = pd.DataFrame().reindex_like(sample_submission).fillna(0).astype(int)\n",
    "\n",
    "col_names = list(results.columns.values)\n",
    "for col in col_names:\n",
    "    submission[col] = results[col]\n",
    "\n",
    "    \n",
    "print('final shape',submission.shape )\n",
    "## Save the predictions to submission CSV file\n",
    "submission.to_csv('submission.csv', index = False)\n",
    "\n",
    "#print(submission)"
   ]
  },
  {
   "cell_type": "markdown",
   "metadata": {},
   "source": [
    "### Generating CSV file for submission to Kaggle - Use this for predicted probabilities"
   ]
  },
  {
   "cell_type": "code",
   "execution_count": null,
   "metadata": {},
   "outputs": [],
   "source": [
    "print(test_pred[:,0])\n",
    "\n",
    "# To ensure we have all columns, copy data into the schema of sample_submission\n",
    "submission = pd.DataFrame().reindex_like(sample_submission).fillna(0).astype(int)\n",
    "\n",
    "col_names = list(submission.columns.values)\n",
    "for i, col in enumerate(col_names):\n",
    "    if col == 'Id':\n",
    "        submission[col] = sample_submission[col]\n",
    "    else:\n",
    "        submission[col] = test_pred[:,i-1]"
   ]
  },
  {
   "cell_type": "code",
   "execution_count": null,
   "metadata": {},
   "outputs": [],
   "source": [
    "print(submission.shape)\n",
    "\n",
    "# Comment this out when you are ready to create the CSV object\n",
    "# submission.to_csv('submission_probs.csv', index = False)"
   ]
  },
  {
   "cell_type": "code",
   "execution_count": null,
   "metadata": {},
   "outputs": [],
   "source": []
  }
 ],
 "metadata": {
  "anaconda-cloud": {},
  "kernelspec": {
   "display_name": "Python 3",
   "language": "python",
   "name": "python3"
  },
  "language_info": {
   "codemirror_mode": {
    "name": "ipython",
    "version": 3
   },
   "file_extension": ".py",
   "mimetype": "text/x-python",
   "name": "python",
   "nbconvert_exporter": "python",
   "pygments_lexer": "ipython3",
   "version": "3.7.2"
  }
 },
 "nbformat": 4,
 "nbformat_minor": 1
}
