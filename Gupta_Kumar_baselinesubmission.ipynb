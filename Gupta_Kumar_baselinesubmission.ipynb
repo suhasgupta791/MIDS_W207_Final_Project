{
 "cells": [
  {
   "cell_type": "markdown",
   "metadata": {},
   "source": [
    "# Kaggle comp demo"
   ]
  },
  {
   "cell_type": "code",
   "execution_count": 1,
   "metadata": {},
   "outputs": [],
   "source": [
    "# This tells matplotlib not to try opening a new window for each plot.\n",
    "%matplotlib inline\n",
    "\n",
    "# General libraries.\n",
    "import numpy as np\n",
    "import matplotlib.pyplot as plt\n",
    "import pandas as pd\n",
    "\n",
    "# SK-learn libraries for learning.\n",
    "from sklearn.pipeline import Pipeline\n",
    "from sklearn.neighbors import KNeighborsClassifier\n",
    "from sklearn.model_selection import GridSearchCV\n",
    "\n",
    "# SK-learn libraries for evaluation.\n",
    "from sklearn.metrics import confusion_matrix\n",
    "from sklearn import metrics\n",
    "from sklearn.metrics import classification_report"
   ]
  },
  {
   "cell_type": "markdown",
   "metadata": {},
   "source": [
    "We selected the SF Crime competition\n",
    "\n",
    "https://www.kaggle.com/c/sf-crime/data"
   ]
  },
  {
   "cell_type": "code",
   "execution_count": 4,
   "metadata": {},
   "outputs": [
    {
     "name": "stdout",
     "output_type": "stream",
     "text": [
      "Printing the first 5 rows of train data: \n",
      "                  Dates        Category                      Descript  \\\n",
      "0  2015-05-13 23:53:00        WARRANTS                WARRANT ARREST   \n",
      "1  2015-05-13 23:53:00  OTHER OFFENSES      TRAFFIC VIOLATION ARREST   \n",
      "2  2015-05-13 23:33:00  OTHER OFFENSES      TRAFFIC VIOLATION ARREST   \n",
      "3  2015-05-13 23:30:00   LARCENY/THEFT  GRAND THEFT FROM LOCKED AUTO   \n",
      "4  2015-05-13 23:30:00   LARCENY/THEFT  GRAND THEFT FROM LOCKED AUTO   \n",
      "\n",
      "   DayOfWeek PdDistrict      Resolution                    Address  \\\n",
      "0  Wednesday   NORTHERN  ARREST, BOOKED         OAK ST / LAGUNA ST   \n",
      "1  Wednesday   NORTHERN  ARREST, BOOKED         OAK ST / LAGUNA ST   \n",
      "2  Wednesday   NORTHERN  ARREST, BOOKED  VANNESS AV / GREENWICH ST   \n",
      "3  Wednesday   NORTHERN            NONE   1500 Block of LOMBARD ST   \n",
      "4  Wednesday       PARK            NONE  100 Block of BRODERICK ST   \n",
      "\n",
      "            X          Y  \n",
      "0 -122.425892  37.774599  \n",
      "1 -122.425892  37.774599  \n",
      "2 -122.424363  37.800414  \n",
      "3 -122.426995  37.800873  \n",
      "4 -122.438738  37.771541  \n",
      "Printing the first 5 rows of test data: \n",
      "    Id                Dates DayOfWeek PdDistrict                   Address  \\\n",
      "0   0  2015-05-10 23:59:00    Sunday    BAYVIEW   2000 Block of THOMAS AV   \n",
      "1   1  2015-05-10 23:51:00    Sunday    BAYVIEW        3RD ST / REVERE AV   \n",
      "2   2  2015-05-10 23:50:00    Sunday   NORTHERN    2000 Block of GOUGH ST   \n",
      "3   3  2015-05-10 23:45:00    Sunday  INGLESIDE  4700 Block of MISSION ST   \n",
      "4   4  2015-05-10 23:45:00    Sunday  INGLESIDE  4700 Block of MISSION ST   \n",
      "\n",
      "            X          Y  \n",
      "0 -122.399588  37.735051  \n",
      "1 -122.391523  37.732432  \n",
      "2 -122.426002  37.792212  \n",
      "3 -122.437394  37.721412  \n",
      "4 -122.437394  37.721412  \n"
     ]
    }
   ],
   "source": [
    "train = pd.read_csv('train.csv')\n",
    "test = pd.read_csv('test.csv')\n",
    "sample_submission = pd.read_csv('sampleSubmission.csv')\n",
    "\n",
    "train_features = list(train.keys())\n",
    "\n",
    "\n",
    "print('Printing the first 5 rows of train data: \\n', train.head())\n",
    "print('Printing the first 5 rows of test data: \\n', test.head())"
   ]
  },
  {
   "cell_type": "markdown",
   "metadata": {},
   "source": [
    "(from Kaggle)\n",
    "## Data fields\n",
    "- Dates - timestamp of the crime incident\n",
    "- Category - category of the crime incident (only in train.csv). This is the target variable you are going to predict.\n",
    "- Descript - detailed description of the crime incident (only in train.csv)\n",
    "- DayOfWeek - the day of the week\n",
    "- PdDistrict - name of the Police Department District\n",
    "- Resolution - how the crime incident was resolved (only in train.csv)\n",
    "- Address - the approximate street address of the crime incident \n",
    "- X - Longitude\n",
    "- Y - Latitude\n",
    "\n",
    "The variables we can use to generate the model with need to be in both the train and test dataset. This gives us:\n",
    "- Dates\n",
    "- DayOfWeek\n",
    "- PdDistrict\n",
    "- Address\n",
    "- X\n",
    "- Y"
   ]
  },
  {
   "cell_type": "code",
   "execution_count": 5,
   "metadata": {},
   "outputs": [],
   "source": [
    "train_labels = np.array(train['Category'])\n",
    "\n",
    "# Getting the data ready for analysis. Here, for the baseline submission, we will just train the model on the latitude and logitude coordinates\n",
    "def preProcess(df):\n",
    "    result = df[['X','Y']]\n",
    "    return result.values\n",
    "    \n",
    "# Preprocess the training and test data\n",
    "train_data = preProcess(train)\n",
    "test_data = preProcess(test)\n",
    "\n",
    "# Shuffle the data using the format shared in class - first creating a list of shuffled indices\n",
    "size = train_data.shape[0]\n",
    "shuffle_index = list(range(size))\n",
    "np.random.shuffle(shuffle_index)\n",
    "\n",
    "# Shuffle training data by applying shuffled indices\n",
    "train_data = train_data[shuffle_index,:]\n",
    "train_labels = train_labels[shuffle_index]\n",
    "\n",
    "# Splitting into dev data and creating a mini train data so this is quick to model\n",
    "n_train = int(0.8 * size)\n",
    "train_data = train_data[:n_train,:]\n",
    "train_labels = train_labels[:n_train]\n",
    "dev_data = train_data[n_train:,:]\n",
    "dev_labels = train_labels[n_train:]\n",
    "mini_train_data = train_data[:1000,:]\n",
    "mini_train_labels = train_labels[:1000]\n"
   ]
  },
  {
   "cell_type": "code",
   "execution_count": 6,
   "metadata": {},
   "outputs": [
    {
     "name": "stdout",
     "output_type": "stream",
     "text": [
      "['NON-CRIMINAL' 'OTHER OFFENSES' 'LARCENY/THEFT' ... 'VEHICLE THEFT'\n",
      " 'VANDALISM' 'VEHICLE THEFT']\n"
     ]
    }
   ],
   "source": [
    "# baseline model is just a knn of 1 for just latitude and longitude\n",
    "kn = KNeighborsClassifier(n_neighbors=1)\n",
    "kn.fit(mini_train_data, mini_train_labels)\n",
    "\n",
    "# Create predicted values\n",
    "preds = kn.predict(test_data)\n",
    "print(preds)"
   ]
  },
  {
   "cell_type": "code",
   "execution_count": 7,
   "metadata": {},
   "outputs": [
    {
     "name": "stdout",
     "output_type": "stream",
     "text": [
      "   Id  ARSON  ASSAULT  BAD CHECKS  BRIBERY  BURGLARY  DISORDERLY CONDUCT  \\\n",
      "0   0      0        0           0        0         0                   0   \n",
      "1   1      0        0           0        0         0                   0   \n",
      "2   2      0        0           0        0         0                   0   \n",
      "3   3      0        0           0        0         0                   0   \n",
      "4   4      0        0           0        0         0                   0   \n",
      "\n",
      "   DRIVING UNDER THE INFLUENCE  DRUG/NARCOTIC  DRUNKENNESS     ...       \\\n",
      "0                            0              0            0     ...        \n",
      "1                            0              0            0     ...        \n",
      "2                            0              0            0     ...        \n",
      "3                            0              0            0     ...        \n",
      "4                            0              0            0     ...        \n",
      "\n",
      "   SEX OFFENSES NON FORCIBLE  STOLEN PROPERTY  SUICIDE  SUSPICIOUS OCC  TREA  \\\n",
      "0                          0                0        0               0     0   \n",
      "1                          0                0        0               0     0   \n",
      "2                          0                0        0               0     0   \n",
      "3                          0                0        0               0     0   \n",
      "4                          0                0        0               0     0   \n",
      "\n",
      "   TRESPASS  VANDALISM  VEHICLE THEFT  WARRANTS  WEAPON LAWS  \n",
      "0         0          0              0         1            0  \n",
      "1         0          0              0         1            0  \n",
      "2         0          0              0         1            0  \n",
      "3         0          0              0         1            0  \n",
      "4         0          0              0         1            0  \n",
      "\n",
      "[5 rows x 40 columns]\n",
      "final shape (884262, 40)\n"
     ]
    }
   ],
   "source": [
    "# Looking at format of output\n",
    "print(sample_submission.head())\n",
    "\n",
    "# Now put results in a dataframe \n",
    "all_ids = test[\"Id\"].values\n",
    "d = {'Id': all_ids, 'Label': preds}\n",
    "\n",
    "# Make the results dummy columns\n",
    "df = pd.DataFrame(data = d)\n",
    "my_results = pd.get_dummies(df, prefix=[''],prefix_sep = '')\n",
    "\n",
    "# To ensure we have all columns, copy data into the schema of sample_submission\n",
    "my_submission = pd.DataFrame().reindex_like(sample_submission).fillna(0).astype(int)\n",
    "\n",
    "col_names = list(my_results.columns.values)\n",
    "for col in col_names:\n",
    "    my_submission[col] = my_results[col]\n",
    "\n",
    "    \n",
    "print('final shape',my_submission.shape )\n",
    "my_submission.to_csv('my_submission_practice_nk1.csv', index = False)"
   ]
  },
  {
   "cell_type": "code",
   "execution_count": null,
   "metadata": {},
   "outputs": [],
   "source": [
    "# For later, we wil consider adding these into our preProcesser function\n",
    "# train['Dates'] = pd.to_datetime(train['Dates'],infer_datetime_format=True)\n",
    "# train[\"dow\"] = train[\"Dates\"].dt.dayofweek\n",
    "# train[\"unix_date\"] = train['Dates'].astype(np.int64) // 10 ** 9\n",
    "# PdDistrict = pd.factorize(train[\"PdDistrict\"])\n",
    "# pd_ids = PdDistrict[0]\n",
    "# pd_names = PdDistrict[1]\n",
    "# print(pd_names)\n",
    "# print(train.dtypes)\n",
    "# print(train.head())"
   ]
  }
 ],
 "metadata": {
  "anaconda-cloud": {},
  "kernelspec": {
   "display_name": "Python 3",
   "language": "python",
   "name": "python3"
  },
  "language_info": {
   "codemirror_mode": {
    "name": "ipython",
    "version": 3
   },
   "file_extension": ".py",
   "mimetype": "text/x-python",
   "name": "python",
   "nbconvert_exporter": "python",
   "pygments_lexer": "ipython3",
   "version": "3.7.2"
  }
 },
 "nbformat": 4,
 "nbformat_minor": 1
}
