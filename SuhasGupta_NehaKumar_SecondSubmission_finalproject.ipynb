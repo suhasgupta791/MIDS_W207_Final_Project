{
 "cells": [
  {
   "cell_type": "markdown",
   "metadata": {},
   "source": [
    "#  MIDS W207 \n",
    "\n",
    "## Authors: Neha Kumar, Suhas Gupta\n",
    "## Submission Data: 04/06/2019 "
   ]
  },
  {
   "cell_type": "code",
   "execution_count": 1,
   "metadata": {},
   "outputs": [],
   "source": [
    "# General libraries.\n",
    "import numpy as np\n",
    "import matplotlib.pyplot as plt\n",
    "import pandas as pd\n",
    "import seaborn as sns\n",
    "import requests\n",
    "import json\n",
    "from geopy.geocoders import Nominatim\n",
    "from geopy.extra.rate_limiter import RateLimiter\n",
    "import time\n",
    "\n",
    "# SK-learn libraries for learninf and preprocessing\n",
    "from sklearn import preprocessing\n",
    "from sklearn.pipeline import Pipeline\n",
    "from sklearn.neighbors import KNeighborsClassifier\n",
    "from sklearn.linear_model import LogisticRegression\n",
    "from sklearn.tree import DecisionTreeClassifier\n",
    "from sklearn.naive_bayes import BernoulliNB\n",
    "from sklearn.naive_bayes import GaussianNB\n",
    "from sklearn.naive_bayes import MultinomialNB\n",
    "from sklearn.ensemble import RandomForestClassifier\n",
    "from sklearn.model_selection import GridSearchCV\n",
    "from sklearn.model_selection import train_test_split\n",
    "from sklearn.compose import ColumnTransformer\n",
    "\n",
    "# SK-learn libraries for evaluation.\n",
    "from sklearn.metrics import confusion_matrix\n",
    "from sklearn import metrics\n",
    "from sklearn.metrics import classification_report\n",
    "\n",
    "# This tells matplotlib not to try opening a new window for each plot.\n",
    "%matplotlib inline\n",
    "# Set the figure size for seaborn plots\n",
    "sns.set(rc={'figure.figsize':(20,20)})"
   ]
  },
  {
   "cell_type": "markdown",
   "metadata": {},
   "source": [
    "We selected the SF Crime competition\n",
    "\n",
    "https://www.kaggle.com/c/sf-crime/data"
   ]
  },
  {
   "cell_type": "code",
   "execution_count": 2,
   "metadata": {
    "scrolled": false
   },
   "outputs": [],
   "source": [
    "## Import CSV files into pandas data frames\n",
    "\n",
    "train = pd.read_csv('train.csv')\n",
    "test = pd.read_csv('test.csv')\n",
    "sample_submission = pd.read_csv('sampleSubmission.csv')\n"
   ]
  },
  {
   "cell_type": "code",
   "execution_count": 3,
   "metadata": {},
   "outputs": [
    {
     "data": {
      "text/html": [
       "<div>\n",
       "<style scoped>\n",
       "    .dataframe tbody tr th:only-of-type {\n",
       "        vertical-align: middle;\n",
       "    }\n",
       "\n",
       "    .dataframe tbody tr th {\n",
       "        vertical-align: top;\n",
       "    }\n",
       "\n",
       "    .dataframe thead th {\n",
       "        text-align: right;\n",
       "    }\n",
       "</style>\n",
       "<table border=\"1\" class=\"dataframe\">\n",
       "  <thead>\n",
       "    <tr style=\"text-align: right;\">\n",
       "      <th></th>\n",
       "      <th>Dates</th>\n",
       "      <th>Category</th>\n",
       "      <th>Descript</th>\n",
       "      <th>DayOfWeek</th>\n",
       "      <th>PdDistrict</th>\n",
       "      <th>Resolution</th>\n",
       "      <th>Address</th>\n",
       "      <th>X</th>\n",
       "      <th>Y</th>\n",
       "    </tr>\n",
       "  </thead>\n",
       "  <tbody>\n",
       "    <tr>\n",
       "      <th>0</th>\n",
       "      <td>2015-05-13 23:53:00</td>\n",
       "      <td>WARRANTS</td>\n",
       "      <td>WARRANT ARREST</td>\n",
       "      <td>Wednesday</td>\n",
       "      <td>NORTHERN</td>\n",
       "      <td>ARREST, BOOKED</td>\n",
       "      <td>OAK ST / LAGUNA ST</td>\n",
       "      <td>-122.425892</td>\n",
       "      <td>37.774599</td>\n",
       "    </tr>\n",
       "    <tr>\n",
       "      <th>1</th>\n",
       "      <td>2015-05-13 23:53:00</td>\n",
       "      <td>OTHER OFFENSES</td>\n",
       "      <td>TRAFFIC VIOLATION ARREST</td>\n",
       "      <td>Wednesday</td>\n",
       "      <td>NORTHERN</td>\n",
       "      <td>ARREST, BOOKED</td>\n",
       "      <td>OAK ST / LAGUNA ST</td>\n",
       "      <td>-122.425892</td>\n",
       "      <td>37.774599</td>\n",
       "    </tr>\n",
       "    <tr>\n",
       "      <th>2</th>\n",
       "      <td>2015-05-13 23:33:00</td>\n",
       "      <td>OTHER OFFENSES</td>\n",
       "      <td>TRAFFIC VIOLATION ARREST</td>\n",
       "      <td>Wednesday</td>\n",
       "      <td>NORTHERN</td>\n",
       "      <td>ARREST, BOOKED</td>\n",
       "      <td>VANNESS AV / GREENWICH ST</td>\n",
       "      <td>-122.424363</td>\n",
       "      <td>37.800414</td>\n",
       "    </tr>\n",
       "    <tr>\n",
       "      <th>3</th>\n",
       "      <td>2015-05-13 23:30:00</td>\n",
       "      <td>LARCENY/THEFT</td>\n",
       "      <td>GRAND THEFT FROM LOCKED AUTO</td>\n",
       "      <td>Wednesday</td>\n",
       "      <td>NORTHERN</td>\n",
       "      <td>NONE</td>\n",
       "      <td>1500 Block of LOMBARD ST</td>\n",
       "      <td>-122.426995</td>\n",
       "      <td>37.800873</td>\n",
       "    </tr>\n",
       "    <tr>\n",
       "      <th>4</th>\n",
       "      <td>2015-05-13 23:30:00</td>\n",
       "      <td>LARCENY/THEFT</td>\n",
       "      <td>GRAND THEFT FROM LOCKED AUTO</td>\n",
       "      <td>Wednesday</td>\n",
       "      <td>PARK</td>\n",
       "      <td>NONE</td>\n",
       "      <td>100 Block of BRODERICK ST</td>\n",
       "      <td>-122.438738</td>\n",
       "      <td>37.771541</td>\n",
       "    </tr>\n",
       "  </tbody>\n",
       "</table>\n",
       "</div>"
      ],
      "text/plain": [
       "                 Dates        Category                      Descript  \\\n",
       "0  2015-05-13 23:53:00        WARRANTS                WARRANT ARREST   \n",
       "1  2015-05-13 23:53:00  OTHER OFFENSES      TRAFFIC VIOLATION ARREST   \n",
       "2  2015-05-13 23:33:00  OTHER OFFENSES      TRAFFIC VIOLATION ARREST   \n",
       "3  2015-05-13 23:30:00   LARCENY/THEFT  GRAND THEFT FROM LOCKED AUTO   \n",
       "4  2015-05-13 23:30:00   LARCENY/THEFT  GRAND THEFT FROM LOCKED AUTO   \n",
       "\n",
       "   DayOfWeek PdDistrict      Resolution                    Address  \\\n",
       "0  Wednesday   NORTHERN  ARREST, BOOKED         OAK ST / LAGUNA ST   \n",
       "1  Wednesday   NORTHERN  ARREST, BOOKED         OAK ST / LAGUNA ST   \n",
       "2  Wednesday   NORTHERN  ARREST, BOOKED  VANNESS AV / GREENWICH ST   \n",
       "3  Wednesday   NORTHERN            NONE   1500 Block of LOMBARD ST   \n",
       "4  Wednesday       PARK            NONE  100 Block of BRODERICK ST   \n",
       "\n",
       "            X          Y  \n",
       "0 -122.425892  37.774599  \n",
       "1 -122.425892  37.774599  \n",
       "2 -122.424363  37.800414  \n",
       "3 -122.426995  37.800873  \n",
       "4 -122.438738  37.771541  "
      ]
     },
     "execution_count": 3,
     "metadata": {},
     "output_type": "execute_result"
    }
   ],
   "source": [
    "## Lets look at the train data frame\n",
    "train[:5]"
   ]
  },
  {
   "cell_type": "code",
   "execution_count": 4,
   "metadata": {},
   "outputs": [
    {
     "data": {
      "text/html": [
       "<div>\n",
       "<style scoped>\n",
       "    .dataframe tbody tr th:only-of-type {\n",
       "        vertical-align: middle;\n",
       "    }\n",
       "\n",
       "    .dataframe tbody tr th {\n",
       "        vertical-align: top;\n",
       "    }\n",
       "\n",
       "    .dataframe thead th {\n",
       "        text-align: right;\n",
       "    }\n",
       "</style>\n",
       "<table border=\"1\" class=\"dataframe\">\n",
       "  <thead>\n",
       "    <tr style=\"text-align: right;\">\n",
       "      <th></th>\n",
       "      <th>Id</th>\n",
       "      <th>Dates</th>\n",
       "      <th>DayOfWeek</th>\n",
       "      <th>PdDistrict</th>\n",
       "      <th>Address</th>\n",
       "      <th>X</th>\n",
       "      <th>Y</th>\n",
       "    </tr>\n",
       "  </thead>\n",
       "  <tbody>\n",
       "    <tr>\n",
       "      <th>0</th>\n",
       "      <td>0</td>\n",
       "      <td>2015-05-10 23:59:00</td>\n",
       "      <td>Sunday</td>\n",
       "      <td>BAYVIEW</td>\n",
       "      <td>2000 Block of THOMAS AV</td>\n",
       "      <td>-122.399588</td>\n",
       "      <td>37.735051</td>\n",
       "    </tr>\n",
       "    <tr>\n",
       "      <th>1</th>\n",
       "      <td>1</td>\n",
       "      <td>2015-05-10 23:51:00</td>\n",
       "      <td>Sunday</td>\n",
       "      <td>BAYVIEW</td>\n",
       "      <td>3RD ST / REVERE AV</td>\n",
       "      <td>-122.391523</td>\n",
       "      <td>37.732432</td>\n",
       "    </tr>\n",
       "    <tr>\n",
       "      <th>2</th>\n",
       "      <td>2</td>\n",
       "      <td>2015-05-10 23:50:00</td>\n",
       "      <td>Sunday</td>\n",
       "      <td>NORTHERN</td>\n",
       "      <td>2000 Block of GOUGH ST</td>\n",
       "      <td>-122.426002</td>\n",
       "      <td>37.792212</td>\n",
       "    </tr>\n",
       "    <tr>\n",
       "      <th>3</th>\n",
       "      <td>3</td>\n",
       "      <td>2015-05-10 23:45:00</td>\n",
       "      <td>Sunday</td>\n",
       "      <td>INGLESIDE</td>\n",
       "      <td>4700 Block of MISSION ST</td>\n",
       "      <td>-122.437394</td>\n",
       "      <td>37.721412</td>\n",
       "    </tr>\n",
       "    <tr>\n",
       "      <th>4</th>\n",
       "      <td>4</td>\n",
       "      <td>2015-05-10 23:45:00</td>\n",
       "      <td>Sunday</td>\n",
       "      <td>INGLESIDE</td>\n",
       "      <td>4700 Block of MISSION ST</td>\n",
       "      <td>-122.437394</td>\n",
       "      <td>37.721412</td>\n",
       "    </tr>\n",
       "  </tbody>\n",
       "</table>\n",
       "</div>"
      ],
      "text/plain": [
       "   Id                Dates DayOfWeek PdDistrict                   Address  \\\n",
       "0   0  2015-05-10 23:59:00    Sunday    BAYVIEW   2000 Block of THOMAS AV   \n",
       "1   1  2015-05-10 23:51:00    Sunday    BAYVIEW        3RD ST / REVERE AV   \n",
       "2   2  2015-05-10 23:50:00    Sunday   NORTHERN    2000 Block of GOUGH ST   \n",
       "3   3  2015-05-10 23:45:00    Sunday  INGLESIDE  4700 Block of MISSION ST   \n",
       "4   4  2015-05-10 23:45:00    Sunday  INGLESIDE  4700 Block of MISSION ST   \n",
       "\n",
       "            X          Y  \n",
       "0 -122.399588  37.735051  \n",
       "1 -122.391523  37.732432  \n",
       "2 -122.426002  37.792212  \n",
       "3 -122.437394  37.721412  \n",
       "4 -122.437394  37.721412  "
      ]
     },
     "execution_count": 4,
     "metadata": {},
     "output_type": "execute_result"
    }
   ],
   "source": [
    "## Look at the test data frame \n",
    "test[:5]"
   ]
  },
  {
   "cell_type": "markdown",
   "metadata": {},
   "source": [
    "(from Kaggle)\n",
    "## Data fields\n",
    "- Dates - timestamp of the crime incident\n",
    "- Category - category of the crime incident (only in train.csv). This is the target variable you are going to predict.\n",
    "- Descript - detailed description of the crime incident (only in train.csv)\n",
    "- DayOfWeek - the day of the week\n",
    "- PdDistrict - name of the Police Department District\n",
    "- Resolution - how the crime incident was resolved (only in train.csv)\n",
    "- Address - the approximate street address of the crime incident \n",
    "- X - Longitude\n",
    "- Y - Latitude\n",
    "\n",
    "The variables we can use to generate the model will need to be in both the train and test dataset. This gives us:\n",
    "- Dates\n",
    "- DayOfWeek\n",
    "- PdDistrict\n",
    "- Address\n",
    "- X\n",
    "- Y"
   ]
  },
  {
   "cell_type": "markdown",
   "metadata": {},
   "source": [
    "Let us look at a quick summary of the dataset provided by Kaggle to check if there are any missing/NULL values in the data."
   ]
  },
  {
   "cell_type": "code",
   "execution_count": 5,
   "metadata": {
    "scrolled": true
   },
   "outputs": [
    {
     "name": "stdout",
     "output_type": "stream",
     "text": [
      "Training data set\n",
      "..................\n",
      "<class 'pandas.core.frame.DataFrame'>\n",
      "RangeIndex: 878049 entries, 0 to 878048\n",
      "Data columns (total 9 columns):\n",
      "Dates         878049 non-null object\n",
      "Category      878049 non-null object\n",
      "Descript      878049 non-null object\n",
      "DayOfWeek     878049 non-null object\n",
      "PdDistrict    878049 non-null object\n",
      "Resolution    878049 non-null object\n",
      "Address       878049 non-null object\n",
      "X             878049 non-null float64\n",
      "Y             878049 non-null float64\n",
      "dtypes: float64(2), object(7)\n",
      "memory usage: 60.3+ MB\n",
      "None\n",
      "\n",
      "Test data set\n",
      "..................\n",
      "<class 'pandas.core.frame.DataFrame'>\n",
      "RangeIndex: 884262 entries, 0 to 884261\n",
      "Data columns (total 7 columns):\n",
      "Id            884262 non-null int64\n",
      "Dates         884262 non-null object\n",
      "DayOfWeek     884262 non-null object\n",
      "PdDistrict    884262 non-null object\n",
      "Address       884262 non-null object\n",
      "X             884262 non-null float64\n",
      "Y             884262 non-null float64\n",
      "dtypes: float64(2), int64(1), object(4)\n",
      "memory usage: 47.2+ MB\n",
      "None\n"
     ]
    }
   ],
   "source": [
    "print('Training data set')\n",
    "print('..................')\n",
    "print(train.info())\n",
    "print('\\nTest data set')\n",
    "print('..................')\n",
    "print(test.info())"
   ]
  },
  {
   "cell_type": "markdown",
   "metadata": {},
   "source": [
    "- The output above shows that there are no missing values in the Kaggle datasets for both training and test data. Thus we do not need to account for missing values in our EDA and model development.\n",
    "\n",
    "- We can also see from above, that all the variables except geographical coordinates (X,Y) are categorical. Thus we will need to perform feature encoding to enable the use of sklearn's modeling and prediction algorithms."
   ]
  },
  {
   "cell_type": "markdown",
   "metadata": {},
   "source": [
    "First let us examine the outcome variable \"Category\""
   ]
  },
  {
   "cell_type": "code",
   "execution_count": 6,
   "metadata": {
    "scrolled": true
   },
   "outputs": [
    {
     "data": {
      "image/png": "[encoded data removed]",
      "text/plain": [
       "<Figure size 432x288 with 1 Axes>"
      ]
     },
     "metadata": {
      "needs_background": "light"
     },
     "output_type": "display_data"
    }
   ],
   "source": [
    "sns.countplot(data = train, x = 'Category',orient='h')\n",
    "#g.set_xticklabels(g.get_xticklabels(),rotation=90)\n",
    "tmp = plt.xticks(rotation=90)"
   ]
  },
  {
   "cell_type": "markdown",
   "metadata": {},
   "source": [
    "The above plot shows the frequency distribution of the outcome variable **Category**. The distribution might appear to be skewed but this is expected since the outcome variable is categorical and cannot be sorted in a numerical order. We can see that the maximum frequency crime cateogry is **LARCENY/THEFT** followed by **OTHER OFFSENSES** and **NON-CRIMINAL**. Thus if the training data is unbiased and randomly distributed, we can expect a good accuracy score by just predicting outcome of 45% LARCENY, 35% OTHER and 20% NON-CRIMINAL in our test outcome vector. We will later see how this strategy performs as a prediction model."
   ]
  },
  {
   "cell_type": "markdown",
   "metadata": {},
   "source": [
    "As an additional note, we notice that some categories have very poor representation (particularly on the right hand sdie of this graph). This immediately discards KNN as a viable modeling option, as it would bias reponses to those that are over-represented (and have a larger number of neighbors)."
   ]
  },
  {
   "cell_type": "code",
   "execution_count": 7,
   "metadata": {},
   "outputs": [
    {
     "data": {
      "text/plain": [
       "LARCENY/THEFT                  174900\n",
       "OTHER OFFENSES                 126182\n",
       "NON-CRIMINAL                    92304\n",
       "ASSAULT                         76876\n",
       "DRUG/NARCOTIC                   53971\n",
       "VEHICLE THEFT                   53781\n",
       "VANDALISM                       44725\n",
       "WARRANTS                        42214\n",
       "BURGLARY                        36755\n",
       "SUSPICIOUS OCC                  31414\n",
       "MISSING PERSON                  25989\n",
       "ROBBERY                         23000\n",
       "FRAUD                           16679\n",
       "FORGERY/COUNTERFEITING          10609\n",
       "SECONDARY CODES                  9985\n",
       "WEAPON LAWS                      8555\n",
       "PROSTITUTION                     7484\n",
       "TRESPASS                         7326\n",
       "STOLEN PROPERTY                  4540\n",
       "SEX OFFENSES FORCIBLE            4388\n",
       "DISORDERLY CONDUCT               4320\n",
       "DRUNKENNESS                      4280\n",
       "RECOVERED VEHICLE                3138\n",
       "KIDNAPPING                       2341\n",
       "DRIVING UNDER THE INFLUENCE      2268\n",
       "RUNAWAY                          1946\n",
       "LIQUOR LAWS                      1903\n",
       "ARSON                            1513\n",
       "LOITERING                        1225\n",
       "EMBEZZLEMENT                     1166\n",
       "SUICIDE                           508\n",
       "FAMILY OFFENSES                   491\n",
       "BAD CHECKS                        406\n",
       "BRIBERY                           289\n",
       "EXTORTION                         256\n",
       "SEX OFFENSES NON FORCIBLE         148\n",
       "GAMBLING                          146\n",
       "PORNOGRAPHY/OBSCENE MAT            22\n",
       "TREA                                6\n",
       "Name: Category, dtype: int64"
      ]
     },
     "execution_count": 7,
     "metadata": {},
     "output_type": "execute_result"
    }
   ],
   "source": [
    "train['Category'].value_counts()"
   ]
  },
  {
   "cell_type": "code",
   "execution_count": 8,
   "metadata": {},
   "outputs": [
    {
     "data": {
      "text/plain": [
       "LARCENY/THEFT                  174900\n",
       "OTHER OFFENSES                 126182\n",
       "NON-CRIMINAL                    92304\n",
       "ASSAULT                         76876\n",
       "DRUG/NARCOTIC                   53971\n",
       "VEHICLE THEFT                   53781\n",
       "VANDALISM                       44725\n",
       "WARRANTS                        42214\n",
       "BURGLARY                        36755\n",
       "SUSPICIOUS OCC                  31414\n",
       "MISSING PERSON                  25989\n",
       "ROBBERY                         23000\n",
       "FRAUD                           16679\n",
       "FORGERY/COUNTERFEITING          10609\n",
       "SECONDARY CODES                  9985\n",
       "WEAPON LAWS                      8555\n",
       "PROSTITUTION                     7484\n",
       "TRESPASS                         7326\n",
       "STOLEN PROPERTY                  4540\n",
       "SEX OFFENSES FORCIBLE            4388\n",
       "DISORDERLY CONDUCT               4320\n",
       "DRUNKENNESS                      4280\n",
       "RECOVERED VEHICLE                3138\n",
       "KIDNAPPING                       2341\n",
       "DRIVING UNDER THE INFLUENCE      2268\n",
       "RUNAWAY                          1946\n",
       "LIQUOR LAWS                      1903\n",
       "ARSON                            1513\n",
       "LOITERING                        1225\n",
       "EMBEZZLEMENT                     1166\n",
       "SUICIDE                           508\n",
       "FAMILY OFFENSES                   491\n",
       "BAD CHECKS                        406\n",
       "BRIBERY                           289\n",
       "EXTORTION                         256\n",
       "SEX OFFENSES NON FORCIBLE         148\n",
       "GAMBLING                          146\n",
       "Name: Category, dtype: int64"
      ]
     },
     "execution_count": 8,
     "metadata": {},
     "output_type": "execute_result"
    }
   ],
   "source": [
    "train.drop(train.index[train['Category'] == 'PORNOGRAPHY/OBSCENE MAT'], inplace = True)\n",
    "train.drop(train.index[train['Category'] == 'TREA'], inplace = True)\n",
    "train['Category'].value_counts()"
   ]
  },
  {
   "cell_type": "code",
   "execution_count": 9,
   "metadata": {
    "scrolled": true
   },
   "outputs": [
    {
     "data": {
      "text/html": [
       "<div>\n",
       "<style scoped>\n",
       "    .dataframe tbody tr th:only-of-type {\n",
       "        vertical-align: middle;\n",
       "    }\n",
       "\n",
       "    .dataframe tbody tr th {\n",
       "        vertical-align: top;\n",
       "    }\n",
       "\n",
       "    .dataframe thead th {\n",
       "        text-align: right;\n",
       "    }\n",
       "</style>\n",
       "<table border=\"1\" class=\"dataframe\">\n",
       "  <thead>\n",
       "    <tr style=\"text-align: right;\">\n",
       "      <th></th>\n",
       "      <th>Dates</th>\n",
       "      <th>Category</th>\n",
       "      <th>Descript</th>\n",
       "      <th>DayOfWeek</th>\n",
       "      <th>PdDistrict</th>\n",
       "      <th>Resolution</th>\n",
       "      <th>Address</th>\n",
       "      <th>X</th>\n",
       "      <th>Y</th>\n",
       "    </tr>\n",
       "  </thead>\n",
       "  <tbody>\n",
       "    <tr>\n",
       "      <th>count</th>\n",
       "      <td>878021</td>\n",
       "      <td>878021</td>\n",
       "      <td>878021</td>\n",
       "      <td>878021</td>\n",
       "      <td>878021</td>\n",
       "      <td>878021</td>\n",
       "      <td>878021</td>\n",
       "      <td>878021.000000</td>\n",
       "      <td>878021.000000</td>\n",
       "    </tr>\n",
       "    <tr>\n",
       "      <th>unique</th>\n",
       "      <td>389251</td>\n",
       "      <td>37</td>\n",
       "      <td>875</td>\n",
       "      <td>7</td>\n",
       "      <td>10</td>\n",
       "      <td>17</td>\n",
       "      <td>23228</td>\n",
       "      <td>NaN</td>\n",
       "      <td>NaN</td>\n",
       "    </tr>\n",
       "    <tr>\n",
       "      <th>top</th>\n",
       "      <td>2011-01-01 00:01:00</td>\n",
       "      <td>LARCENY/THEFT</td>\n",
       "      <td>GRAND THEFT FROM LOCKED AUTO</td>\n",
       "      <td>Friday</td>\n",
       "      <td>SOUTHERN</td>\n",
       "      <td>NONE</td>\n",
       "      <td>800 Block of BRYANT ST</td>\n",
       "      <td>NaN</td>\n",
       "      <td>NaN</td>\n",
       "    </tr>\n",
       "    <tr>\n",
       "      <th>freq</th>\n",
       "      <td>185</td>\n",
       "      <td>174900</td>\n",
       "      <td>60022</td>\n",
       "      <td>133729</td>\n",
       "      <td>157178</td>\n",
       "      <td>526777</td>\n",
       "      <td>26532</td>\n",
       "      <td>NaN</td>\n",
       "      <td>NaN</td>\n",
       "    </tr>\n",
       "    <tr>\n",
       "      <th>mean</th>\n",
       "      <td>NaN</td>\n",
       "      <td>NaN</td>\n",
       "      <td>NaN</td>\n",
       "      <td>NaN</td>\n",
       "      <td>NaN</td>\n",
       "      <td>NaN</td>\n",
       "      <td>NaN</td>\n",
       "      <td>-122.422617</td>\n",
       "      <td>37.771020</td>\n",
       "    </tr>\n",
       "    <tr>\n",
       "      <th>std</th>\n",
       "      <td>NaN</td>\n",
       "      <td>NaN</td>\n",
       "      <td>NaN</td>\n",
       "      <td>NaN</td>\n",
       "      <td>NaN</td>\n",
       "      <td>NaN</td>\n",
       "      <td>NaN</td>\n",
       "      <td>0.030354</td>\n",
       "      <td>0.456900</td>\n",
       "    </tr>\n",
       "    <tr>\n",
       "      <th>min</th>\n",
       "      <td>NaN</td>\n",
       "      <td>NaN</td>\n",
       "      <td>NaN</td>\n",
       "      <td>NaN</td>\n",
       "      <td>NaN</td>\n",
       "      <td>NaN</td>\n",
       "      <td>NaN</td>\n",
       "      <td>-122.513642</td>\n",
       "      <td>37.707879</td>\n",
       "    </tr>\n",
       "    <tr>\n",
       "      <th>25%</th>\n",
       "      <td>NaN</td>\n",
       "      <td>NaN</td>\n",
       "      <td>NaN</td>\n",
       "      <td>NaN</td>\n",
       "      <td>NaN</td>\n",
       "      <td>NaN</td>\n",
       "      <td>NaN</td>\n",
       "      <td>-122.432952</td>\n",
       "      <td>37.752427</td>\n",
       "    </tr>\n",
       "    <tr>\n",
       "      <th>50%</th>\n",
       "      <td>NaN</td>\n",
       "      <td>NaN</td>\n",
       "      <td>NaN</td>\n",
       "      <td>NaN</td>\n",
       "      <td>NaN</td>\n",
       "      <td>NaN</td>\n",
       "      <td>NaN</td>\n",
       "      <td>-122.416420</td>\n",
       "      <td>37.775421</td>\n",
       "    </tr>\n",
       "    <tr>\n",
       "      <th>75%</th>\n",
       "      <td>NaN</td>\n",
       "      <td>NaN</td>\n",
       "      <td>NaN</td>\n",
       "      <td>NaN</td>\n",
       "      <td>NaN</td>\n",
       "      <td>NaN</td>\n",
       "      <td>NaN</td>\n",
       "      <td>-122.406959</td>\n",
       "      <td>37.784369</td>\n",
       "    </tr>\n",
       "    <tr>\n",
       "      <th>max</th>\n",
       "      <td>NaN</td>\n",
       "      <td>NaN</td>\n",
       "      <td>NaN</td>\n",
       "      <td>NaN</td>\n",
       "      <td>NaN</td>\n",
       "      <td>NaN</td>\n",
       "      <td>NaN</td>\n",
       "      <td>-120.500000</td>\n",
       "      <td>90.000000</td>\n",
       "    </tr>\n",
       "  </tbody>\n",
       "</table>\n",
       "</div>"
      ],
      "text/plain": [
       "                      Dates       Category                      Descript  \\\n",
       "count                878021         878021                        878021   \n",
       "unique               389251             37                           875   \n",
       "top     2011-01-01 00:01:00  LARCENY/THEFT  GRAND THEFT FROM LOCKED AUTO   \n",
       "freq                    185         174900                         60022   \n",
       "mean                    NaN            NaN                           NaN   \n",
       "std                     NaN            NaN                           NaN   \n",
       "min                     NaN            NaN                           NaN   \n",
       "25%                     NaN            NaN                           NaN   \n",
       "50%                     NaN            NaN                           NaN   \n",
       "75%                     NaN            NaN                           NaN   \n",
       "max                     NaN            NaN                           NaN   \n",
       "\n",
       "       DayOfWeek PdDistrict Resolution                 Address              X  \\\n",
       "count     878021     878021     878021                  878021  878021.000000   \n",
       "unique         7         10         17                   23228            NaN   \n",
       "top       Friday   SOUTHERN       NONE  800 Block of BRYANT ST            NaN   \n",
       "freq      133729     157178     526777                   26532            NaN   \n",
       "mean         NaN        NaN        NaN                     NaN    -122.422617   \n",
       "std          NaN        NaN        NaN                     NaN       0.030354   \n",
       "min          NaN        NaN        NaN                     NaN    -122.513642   \n",
       "25%          NaN        NaN        NaN                     NaN    -122.432952   \n",
       "50%          NaN        NaN        NaN                     NaN    -122.416420   \n",
       "75%          NaN        NaN        NaN                     NaN    -122.406959   \n",
       "max          NaN        NaN        NaN                     NaN    -120.500000   \n",
       "\n",
       "                    Y  \n",
       "count   878021.000000  \n",
       "unique            NaN  \n",
       "top               NaN  \n",
       "freq              NaN  \n",
       "mean        37.771020  \n",
       "std          0.456900  \n",
       "min         37.707879  \n",
       "25%         37.752427  \n",
       "50%         37.775421  \n",
       "75%         37.784369  \n",
       "max         90.000000  "
      ]
     },
     "execution_count": 9,
     "metadata": {},
     "output_type": "execute_result"
    }
   ],
   "source": [
    "# Plot freq distributio, box plots and scatter plots of category versus independent variables \n",
    "\n",
    "cat_column_list = train.select_dtypes(include = 'object').columns.values\n",
    "num_column_list = train.select_dtypes(include = 'float64').columns.values\n",
    "\n",
    "train.describe(include='all')"
   ]
  },
  {
   "cell_type": "code",
   "execution_count": 10,
   "metadata": {},
   "outputs": [],
   "source": [
    "# Create a copy of the training dataset for feature engineering\n",
    "\n",
    "train_v2 = train.copy()\n",
    "test_v2 = test.copy()"
   ]
  },
  {
   "cell_type": "code",
   "execution_count": 11,
   "metadata": {},
   "outputs": [
    {
     "data": {
      "image/png": "[encoded data removed]",
      "text/plain": [
       "<Figure size 432x288 with 1 Axes>"
      ]
     },
     "metadata": {
      "needs_background": "light"
     },
     "output_type": "display_data"
    }
   ],
   "source": [
    "# Look at just the year in the Dates column\n",
    "year_vals = (train_v2['Dates'].str.split('-').str[0]).values\n",
    "(np.unique(year_vals))\n",
    "g = sns.countplot(year_vals)\n",
    "\n",
    "train_v2['year'] = (pd.to_numeric(train_v2['Dates'].str.split('-').str[0])).astype('int64')\n",
    "test_v2['year'] = (pd.to_numeric(test_v2['Dates'].str.split('-').str[0])).astype('int64')"
   ]
  },
  {
   "cell_type": "markdown",
   "metadata": {},
   "source": [
    "All the years appear to be evenly distributed in the data set, i.e. there is no distinction boundary apparent in the crime categories from just the year data."
   ]
  },
  {
   "cell_type": "code",
   "execution_count": 12,
   "metadata": {},
   "outputs": [
    {
     "data": {
      "image/png": "[encoded data removed]",
      "text/plain": [
       "<Figure size 432x288 with 1 Axes>"
      ]
     },
     "metadata": {
      "needs_background": "light"
     },
     "output_type": "display_data"
    }
   ],
   "source": [
    "# Look at just the month in the Dates column\n",
    "month_vals = (train['Dates'].str.split('-').str[1]).values\n",
    "(np.unique(month_vals))\n",
    "g = sns.countplot(month_vals)\n",
    "train_v2['month'] = (pd.to_numeric(train_v2['Dates'].str.split('-').str[1])).astype('int64')\n",
    "test_v2['month'] = (pd.to_numeric(test_v2['Dates'].str.split('-').str[1])).astype('int64')"
   ]
  },
  {
   "cell_type": "code",
   "execution_count": 13,
   "metadata": {},
   "outputs": [
    {
     "data": {
      "text/html": [
       "<div>\n",
       "<style scoped>\n",
       "    .dataframe tbody tr th:only-of-type {\n",
       "        vertical-align: middle;\n",
       "    }\n",
       "\n",
       "    .dataframe tbody tr th {\n",
       "        vertical-align: top;\n",
       "    }\n",
       "\n",
       "    .dataframe thead th {\n",
       "        text-align: right;\n",
       "    }\n",
       "</style>\n",
       "<table border=\"1\" class=\"dataframe\">\n",
       "  <thead>\n",
       "    <tr style=\"text-align: right;\">\n",
       "      <th></th>\n",
       "      <th>Id</th>\n",
       "      <th>Dates</th>\n",
       "      <th>DayOfWeek</th>\n",
       "      <th>PdDistrict</th>\n",
       "      <th>Address</th>\n",
       "      <th>X</th>\n",
       "      <th>Y</th>\n",
       "      <th>year</th>\n",
       "      <th>month</th>\n",
       "    </tr>\n",
       "  </thead>\n",
       "  <tbody>\n",
       "    <tr>\n",
       "      <th>0</th>\n",
       "      <td>0</td>\n",
       "      <td>2015-05-10 23:59:00</td>\n",
       "      <td>Sunday</td>\n",
       "      <td>BAYVIEW</td>\n",
       "      <td>2000 Block of THOMAS AV</td>\n",
       "      <td>-122.399588</td>\n",
       "      <td>37.735051</td>\n",
       "      <td>2015</td>\n",
       "      <td>5</td>\n",
       "    </tr>\n",
       "    <tr>\n",
       "      <th>1</th>\n",
       "      <td>1</td>\n",
       "      <td>2015-05-10 23:51:00</td>\n",
       "      <td>Sunday</td>\n",
       "      <td>BAYVIEW</td>\n",
       "      <td>3RD ST / REVERE AV</td>\n",
       "      <td>-122.391523</td>\n",
       "      <td>37.732432</td>\n",
       "      <td>2015</td>\n",
       "      <td>5</td>\n",
       "    </tr>\n",
       "    <tr>\n",
       "      <th>2</th>\n",
       "      <td>2</td>\n",
       "      <td>2015-05-10 23:50:00</td>\n",
       "      <td>Sunday</td>\n",
       "      <td>NORTHERN</td>\n",
       "      <td>2000 Block of GOUGH ST</td>\n",
       "      <td>-122.426002</td>\n",
       "      <td>37.792212</td>\n",
       "      <td>2015</td>\n",
       "      <td>5</td>\n",
       "    </tr>\n",
       "    <tr>\n",
       "      <th>3</th>\n",
       "      <td>3</td>\n",
       "      <td>2015-05-10 23:45:00</td>\n",
       "      <td>Sunday</td>\n",
       "      <td>INGLESIDE</td>\n",
       "      <td>4700 Block of MISSION ST</td>\n",
       "      <td>-122.437394</td>\n",
       "      <td>37.721412</td>\n",
       "      <td>2015</td>\n",
       "      <td>5</td>\n",
       "    </tr>\n",
       "    <tr>\n",
       "      <th>4</th>\n",
       "      <td>4</td>\n",
       "      <td>2015-05-10 23:45:00</td>\n",
       "      <td>Sunday</td>\n",
       "      <td>INGLESIDE</td>\n",
       "      <td>4700 Block of MISSION ST</td>\n",
       "      <td>-122.437394</td>\n",
       "      <td>37.721412</td>\n",
       "      <td>2015</td>\n",
       "      <td>5</td>\n",
       "    </tr>\n",
       "  </tbody>\n",
       "</table>\n",
       "</div>"
      ],
      "text/plain": [
       "   Id                Dates DayOfWeek PdDistrict                   Address  \\\n",
       "0   0  2015-05-10 23:59:00    Sunday    BAYVIEW   2000 Block of THOMAS AV   \n",
       "1   1  2015-05-10 23:51:00    Sunday    BAYVIEW        3RD ST / REVERE AV   \n",
       "2   2  2015-05-10 23:50:00    Sunday   NORTHERN    2000 Block of GOUGH ST   \n",
       "3   3  2015-05-10 23:45:00    Sunday  INGLESIDE  4700 Block of MISSION ST   \n",
       "4   4  2015-05-10 23:45:00    Sunday  INGLESIDE  4700 Block of MISSION ST   \n",
       "\n",
       "            X          Y  year  month  \n",
       "0 -122.399588  37.735051  2015      5  \n",
       "1 -122.391523  37.732432  2015      5  \n",
       "2 -122.426002  37.792212  2015      5  \n",
       "3 -122.437394  37.721412  2015      5  \n",
       "4 -122.437394  37.721412  2015      5  "
      ]
     },
     "execution_count": 13,
     "metadata": {},
     "output_type": "execute_result"
    }
   ],
   "source": [
    "test_v2[:5]"
   ]
  },
  {
   "cell_type": "code",
   "execution_count": 14,
   "metadata": {},
   "outputs": [
    {
     "data": {
      "image/png": "[encoded data removed]",
      "text/plain": [
       "<Figure size 432x288 with 1 Axes>"
      ]
     },
     "metadata": {
      "needs_background": "light"
     },
     "output_type": "display_data"
    }
   ],
   "source": [
    "# Look at just the hour in the Dates column\n",
    "hour_vals = pd.to_datetime(train['Dates'],infer_datetime_format=True).dt.hour\n",
    "(np.unique(hour_vals))\n",
    "g = sns.countplot(hour_vals)\n",
    "\n",
    "train_v2['hour'] = (pd.to_datetime(train_v2['Dates'],infer_datetime_format=True).dt.hour).astype('float64')\n",
    "test_v2['hour'] = (pd.to_datetime(test_v2['Dates'],infer_datetime_format=True).dt.hour).astype('float64')"
   ]
  },
  {
   "cell_type": "markdown",
   "metadata": {},
   "source": [
    "To get the Zip Codes, we first tried to use geopy's reverse geocode mapping to get the full address (With the zipcode) from the lat/long coordinates. However, we were hitting into a \"too many requests\" error. Best practices recommend we make 1 request per second. As our training dataset has about 800k records, running this API will take close to 10 days. \n",
    "\n",
    "As a result, we pivoted to another strategy. Using the information here https://community.periscopedata.com/t/q5kqgg/us-zip-codes-with-latitudelongitude, we got a CSV with all of the lat/long coordinates cooresponding to each zip code. We then used k nearest neighbors with this CSV as the training dataset (with KNN = 1) to find the zip code whose lat/long coordinate is closest to the crime locatiom.\n",
    "\n",
    "As a caveat, this assumes that zip codes are circular regions (when in reality they are irregularly shaped). However, this approximation runs much faster than using an API, so we will use this way of determining zip codes."
   ]
  },
  {
   "cell_type": "code",
   "execution_count": 15,
   "metadata": {},
   "outputs": [
    {
     "name": "stdout",
     "output_type": "stream",
     "text": [
      "       zip_code   latitude   longitude\n",
      "39798     94101  37.784827 -122.727802\n",
      "39799     94102  37.779278 -122.416582\n",
      "39800     94103  37.775678 -122.412131\n",
      "39801     94104  37.790728 -122.401732\n",
      "39802     94105  37.789595 -122.395631\n"
     ]
    },
    {
     "data": {
      "text/plain": [
       "<matplotlib.collections.PathCollection at 0x1670b0a58>"
      ]
     },
     "execution_count": 15,
     "metadata": {},
     "output_type": "execute_result"
    },
    {
     "data": {
      "image/png": "[encoded data removed]",
      "text/plain": [
       "<Figure size 432x288 with 1 Axes>"
      ]
     },
     "metadata": {
      "needs_background": "light"
     },
     "output_type": "display_data"
    }
   ],
   "source": [
    "# Source of data https://community.periscopedata.com/t/q5kqgg/us-zip-codes-with-latitudelongitude\n",
    "zips = pd.read_csv('zip_codes_states.csv')\n",
    "sf_zips = zips[zips['city'] == 'San Francisco'][['zip_code','latitude','longitude']]\n",
    "\n",
    "# Plotting the SF Zip code midpoints with some crime locations to ensure that the data pulled in via CSV makes ense\n",
    "print(sf_zips[:5])\n",
    "plt.scatter(sf_zips['longitude'],sf_zips['latitude'])\n",
    "demo = train[:100]\n",
    "plt.scatter(demo['X'],demo['Y'])"
   ]
  },
  {
   "cell_type": "code",
   "execution_count": 16,
   "metadata": {},
   "outputs": [
    {
     "name": "stdout",
     "output_type": "stream",
     "text": [
      "                 Dates        Category                      Descript  \\\n",
      "0  2015-05-13 23:53:00        WARRANTS                WARRANT ARREST   \n",
      "1  2015-05-13 23:53:00  OTHER OFFENSES      TRAFFIC VIOLATION ARREST   \n",
      "2  2015-05-13 23:33:00  OTHER OFFENSES      TRAFFIC VIOLATION ARREST   \n",
      "3  2015-05-13 23:30:00   LARCENY/THEFT  GRAND THEFT FROM LOCKED AUTO   \n",
      "4  2015-05-13 23:30:00   LARCENY/THEFT  GRAND THEFT FROM LOCKED AUTO   \n",
      "\n",
      "   DayOfWeek PdDistrict      Resolution                    Address  \\\n",
      "0  Wednesday   NORTHERN  ARREST, BOOKED         OAK ST / LAGUNA ST   \n",
      "1  Wednesday   NORTHERN  ARREST, BOOKED         OAK ST / LAGUNA ST   \n",
      "2  Wednesday   NORTHERN  ARREST, BOOKED  VANNESS AV / GREENWICH ST   \n",
      "3  Wednesday   NORTHERN            NONE   1500 Block of LOMBARD ST   \n",
      "4  Wednesday       PARK            NONE  100 Block of BRODERICK ST   \n",
      "\n",
      "            X          Y  year  month  hour  zipcode  \n",
      "0 -122.425892  37.774599  2015      5  23.0    94102  \n",
      "1 -122.425892  37.774599  2015      5  23.0    94102  \n",
      "2 -122.424363  37.800414  2015      5  23.0    94109  \n",
      "3 -122.426995  37.800873  2015      5  23.0    94109  \n",
      "4 -122.438738  37.771541  2015      5  23.0    94117  \n",
      "   Id                Dates DayOfWeek PdDistrict                   Address  \\\n",
      "0   0  2015-05-10 23:59:00    Sunday    BAYVIEW   2000 Block of THOMAS AV   \n",
      "1   1  2015-05-10 23:51:00    Sunday    BAYVIEW        3RD ST / REVERE AV   \n",
      "2   2  2015-05-10 23:50:00    Sunday   NORTHERN    2000 Block of GOUGH ST   \n",
      "3   3  2015-05-10 23:45:00    Sunday  INGLESIDE  4700 Block of MISSION ST   \n",
      "4   4  2015-05-10 23:45:00    Sunday  INGLESIDE  4700 Block of MISSION ST   \n",
      "\n",
      "            X          Y  year  month  hour  zipcode  \n",
      "0 -122.399588  37.735051  2015      5  23.0    94124  \n",
      "1 -122.391523  37.732432  2015      5  23.0    94124  \n",
      "2 -122.426002  37.792212  2015      5  23.0    94109  \n",
      "3 -122.437394  37.721412  2015      5  23.0    94112  \n",
      "4 -122.437394  37.721412  2015      5  23.0    94112  \n"
     ]
    }
   ],
   "source": [
    "# Building a KNN Model with n_neighbors = 1 on the lat/long coordinates\n",
    "zip_features = sf_zips[['longitude','latitude']]\n",
    "zip_features.columns = ['X', 'Y']\n",
    "zip_train = zip_features.values\n",
    "zip_train_labels = sf_zips['zip_code'].values\n",
    "\n",
    "zip_testtrain = train[['X','Y']].values\n",
    "\n",
    "knn_zip = KNeighborsClassifier(n_neighbors = 1)\n",
    "pred_zip = knn_zip.fit(zip_train, zip_train_labels).predict(zip_testtrain)\n",
    "\n",
    "# Here, we put our predicted zip code into the training data frame\n",
    "train_v2['zipcode'] = pred_zip\n",
    "print(train_v2[:5])\n",
    "\n",
    "# Doing the same for the test data\n",
    "zip_testtest = test_v2[['X','Y']].values\n",
    "pred_zip = knn_zip.fit(zip_train, zip_train_labels).predict(zip_testtest)\n",
    "test_v2['zipcode'] = pred_zip\n",
    "test_v2['zipcode'] = test_v2['zipcode'].astype('int64')\n",
    "print(test_v2[:5])"
   ]
  },
  {
   "cell_type": "code",
   "execution_count": 17,
   "metadata": {},
   "outputs": [
    {
     "data": {
      "image/png": "[encoded data removed]",
      "text/plain": [
       "<Figure size 432x288 with 1 Axes>"
      ]
     },
     "metadata": {
      "needs_background": "light"
     },
     "output_type": "display_data"
    }
   ],
   "source": [
    "# Look at the distribution of zip codes\n",
    "zips = train_v2['zipcode'].values\n",
    "(np.unique(zips))\n",
    "g = sns.countplot(zips)"
   ]
  },
  {
   "cell_type": "code",
   "execution_count": 18,
   "metadata": {
    "scrolled": true
   },
   "outputs": [
    {
     "name": "stdout",
     "output_type": "stream",
     "text": [
      "   Unnamed: 0        Date                              Holiday\n",
      "0           0  2010-12-31                       New Year's Day\n",
      "1           1  2011-01-17  Birthday of Martin Luther King, Jr.\n",
      "2           2  2011-02-21                Washington's Birthday\n",
      "3           3  2011-05-30                         Memorial Day\n",
      "4           4  2011-07-04                     Independence Day\n",
      "The proportion of crime records on US recognized holidays is 0.02865648999283616\n",
      "The proportion of crime records NOT on US recognized holidays is 0.9713435100071638\n",
      "                 Dates        Category                      Descript  \\\n",
      "0  2015-05-13 23:53:00        WARRANTS                WARRANT ARREST   \n",
      "1  2015-05-13 23:53:00  OTHER OFFENSES      TRAFFIC VIOLATION ARREST   \n",
      "2  2015-05-13 23:33:00  OTHER OFFENSES      TRAFFIC VIOLATION ARREST   \n",
      "3  2015-05-13 23:30:00   LARCENY/THEFT  GRAND THEFT FROM LOCKED AUTO   \n",
      "4  2015-05-13 23:30:00   LARCENY/THEFT  GRAND THEFT FROM LOCKED AUTO   \n",
      "\n",
      "   DayOfWeek PdDistrict      Resolution                    Address  \\\n",
      "0  Wednesday   NORTHERN  ARREST, BOOKED         OAK ST / LAGUNA ST   \n",
      "1  Wednesday   NORTHERN  ARREST, BOOKED         OAK ST / LAGUNA ST   \n",
      "2  Wednesday   NORTHERN  ARREST, BOOKED  VANNESS AV / GREENWICH ST   \n",
      "3  Wednesday   NORTHERN            NONE   1500 Block of LOMBARD ST   \n",
      "4  Wednesday       PARK            NONE  100 Block of BRODERICK ST   \n",
      "\n",
      "            X          Y  year  month  hour  zipcode  is_holiday  \n",
      "0 -122.425892  37.774599  2015      5  23.0    94102           0  \n",
      "1 -122.425892  37.774599  2015      5  23.0    94102           0  \n",
      "2 -122.424363  37.800414  2015      5  23.0    94109           0  \n",
      "3 -122.426995  37.800873  2015      5  23.0    94109           0  \n",
      "4 -122.438738  37.771541  2015      5  23.0    94117           0  \n",
      "   Id                Dates DayOfWeek PdDistrict                   Address  \\\n",
      "0   0  2015-05-10 23:59:00    Sunday    BAYVIEW   2000 Block of THOMAS AV   \n",
      "1   1  2015-05-10 23:51:00    Sunday    BAYVIEW        3RD ST / REVERE AV   \n",
      "2   2  2015-05-10 23:50:00    Sunday   NORTHERN    2000 Block of GOUGH ST   \n",
      "3   3  2015-05-10 23:45:00    Sunday  INGLESIDE  4700 Block of MISSION ST   \n",
      "4   4  2015-05-10 23:45:00    Sunday  INGLESIDE  4700 Block of MISSION ST   \n",
      "\n",
      "            X          Y  year  month  hour  zipcode  is_holiday  \n",
      "0 -122.399588  37.735051  2015      5  23.0    94124           0  \n",
      "1 -122.391523  37.732432  2015      5  23.0    94124           0  \n",
      "2 -122.426002  37.792212  2015      5  23.0    94109           0  \n",
      "3 -122.437394  37.721412  2015      5  23.0    94112           0  \n",
      "4 -122.437394  37.721412  2015      5  23.0    94112           0  \n"
     ]
    }
   ],
   "source": [
    "# Checking for US Holidays\n",
    "\n",
    "# Load in holidays dataframe (source: https://www.kaggle.com/gsnehaa21/federal-holidays-usa-19662020)\n",
    "holidays = pd.read_csv('usholidays.csv')\n",
    "print(holidays[:5])\n",
    "\n",
    "# Make is_holiday flag\n",
    "dates_train = (train_v2['Dates'].str.split(' ').str[0])\n",
    "dates_test = (test_v2['Dates'].str.split(' ').str[0])\n",
    "\n",
    "train_v2['is_holiday'] = dates_train.isin(holidays.Date).astype(int)\n",
    "test_v2['is_holiday'] = dates_test.isin(holidays.Date).astype(int)\n",
    "\n",
    "\n",
    "proportion_holidays = train_v2['is_holiday'].sum() / train_v2.shape[0]\n",
    "print('The proportion of crime records on US recognized holidays is', proportion_holidays)\n",
    "print('The proportion of crime records NOT on US recognized holidays is', 1 - proportion_holidays)\n",
    "print(train_v2[:5])\n",
    "print(test_v2[:5])\n"
   ]
  },
  {
   "cell_type": "code",
   "execution_count": 19,
   "metadata": {},
   "outputs": [],
   "source": [
    "## Deal with geo-coordinates\n",
    "# Remove latitude of 90 degress (north pole)\n",
    "\n",
    "train_v2 = train_v2[train_v2.Y < 90]\n",
    "train_v2 = train_v2[train_v2.Y < 90]"
   ]
  },
  {
   "cell_type": "code",
   "execution_count": 20,
   "metadata": {},
   "outputs": [
    {
     "data": {
      "text/html": [
       "<div>\n",
       "<style scoped>\n",
       "    .dataframe tbody tr th:only-of-type {\n",
       "        vertical-align: middle;\n",
       "    }\n",
       "\n",
       "    .dataframe tbody tr th {\n",
       "        vertical-align: top;\n",
       "    }\n",
       "\n",
       "    .dataframe thead th {\n",
       "        text-align: right;\n",
       "    }\n",
       "</style>\n",
       "<table border=\"1\" class=\"dataframe\">\n",
       "  <thead>\n",
       "    <tr style=\"text-align: right;\">\n",
       "      <th></th>\n",
       "      <th>Dates</th>\n",
       "      <th>Category</th>\n",
       "      <th>Descript</th>\n",
       "      <th>DayOfWeek</th>\n",
       "      <th>PdDistrict</th>\n",
       "      <th>Resolution</th>\n",
       "      <th>Address</th>\n",
       "      <th>X</th>\n",
       "      <th>Y</th>\n",
       "      <th>year</th>\n",
       "      <th>month</th>\n",
       "      <th>hour</th>\n",
       "      <th>zipcode</th>\n",
       "      <th>is_holiday</th>\n",
       "    </tr>\n",
       "  </thead>\n",
       "  <tbody>\n",
       "    <tr>\n",
       "      <th>count</th>\n",
       "      <td>877954</td>\n",
       "      <td>877954</td>\n",
       "      <td>877954</td>\n",
       "      <td>877954</td>\n",
       "      <td>877954</td>\n",
       "      <td>877954</td>\n",
       "      <td>877954</td>\n",
       "      <td>877954.000000</td>\n",
       "      <td>877954.000000</td>\n",
       "      <td>877954.000000</td>\n",
       "      <td>877954.000000</td>\n",
       "      <td>877954.000000</td>\n",
       "      <td>877954.000000</td>\n",
       "      <td>877954.000000</td>\n",
       "    </tr>\n",
       "    <tr>\n",
       "      <th>unique</th>\n",
       "      <td>389223</td>\n",
       "      <td>37</td>\n",
       "      <td>875</td>\n",
       "      <td>7</td>\n",
       "      <td>10</td>\n",
       "      <td>17</td>\n",
       "      <td>23191</td>\n",
       "      <td>NaN</td>\n",
       "      <td>NaN</td>\n",
       "      <td>NaN</td>\n",
       "      <td>NaN</td>\n",
       "      <td>NaN</td>\n",
       "      <td>NaN</td>\n",
       "      <td>NaN</td>\n",
       "    </tr>\n",
       "    <tr>\n",
       "      <th>top</th>\n",
       "      <td>2011-01-01 00:01:00</td>\n",
       "      <td>LARCENY/THEFT</td>\n",
       "      <td>GRAND THEFT FROM LOCKED AUTO</td>\n",
       "      <td>Friday</td>\n",
       "      <td>SOUTHERN</td>\n",
       "      <td>NONE</td>\n",
       "      <td>800 Block of BRYANT ST</td>\n",
       "      <td>NaN</td>\n",
       "      <td>NaN</td>\n",
       "      <td>NaN</td>\n",
       "      <td>NaN</td>\n",
       "      <td>NaN</td>\n",
       "      <td>NaN</td>\n",
       "      <td>NaN</td>\n",
       "    </tr>\n",
       "    <tr>\n",
       "      <th>freq</th>\n",
       "      <td>185</td>\n",
       "      <td>174885</td>\n",
       "      <td>60013</td>\n",
       "      <td>133718</td>\n",
       "      <td>157170</td>\n",
       "      <td>526744</td>\n",
       "      <td>26532</td>\n",
       "      <td>NaN</td>\n",
       "      <td>NaN</td>\n",
       "      <td>NaN</td>\n",
       "      <td>NaN</td>\n",
       "      <td>NaN</td>\n",
       "      <td>NaN</td>\n",
       "      <td>NaN</td>\n",
       "    </tr>\n",
       "    <tr>\n",
       "      <th>mean</th>\n",
       "      <td>NaN</td>\n",
       "      <td>NaN</td>\n",
       "      <td>NaN</td>\n",
       "      <td>NaN</td>\n",
       "      <td>NaN</td>\n",
       "      <td>NaN</td>\n",
       "      <td>NaN</td>\n",
       "      <td>-122.422763</td>\n",
       "      <td>37.767035</td>\n",
       "      <td>2008.712390</td>\n",
       "      <td>6.436378</td>\n",
       "      <td>13.412761</td>\n",
       "      <td>94113.349555</td>\n",
       "      <td>0.028659</td>\n",
       "    </tr>\n",
       "    <tr>\n",
       "      <th>std</th>\n",
       "      <td>NaN</td>\n",
       "      <td>NaN</td>\n",
       "      <td>NaN</td>\n",
       "      <td>NaN</td>\n",
       "      <td>NaN</td>\n",
       "      <td>NaN</td>\n",
       "      <td>NaN</td>\n",
       "      <td>0.025285</td>\n",
       "      <td>0.024165</td>\n",
       "      <td>3.631132</td>\n",
       "      <td>3.428993</td>\n",
       "      <td>6.549542</td>\n",
       "      <td>10.100971</td>\n",
       "      <td>0.166845</td>\n",
       "    </tr>\n",
       "    <tr>\n",
       "      <th>min</th>\n",
       "      <td>NaN</td>\n",
       "      <td>NaN</td>\n",
       "      <td>NaN</td>\n",
       "      <td>NaN</td>\n",
       "      <td>NaN</td>\n",
       "      <td>NaN</td>\n",
       "      <td>NaN</td>\n",
       "      <td>-122.513642</td>\n",
       "      <td>37.707879</td>\n",
       "      <td>2003.000000</td>\n",
       "      <td>1.000000</td>\n",
       "      <td>0.000000</td>\n",
       "      <td>94102.000000</td>\n",
       "      <td>0.000000</td>\n",
       "    </tr>\n",
       "    <tr>\n",
       "      <th>25%</th>\n",
       "      <td>NaN</td>\n",
       "      <td>NaN</td>\n",
       "      <td>NaN</td>\n",
       "      <td>NaN</td>\n",
       "      <td>NaN</td>\n",
       "      <td>NaN</td>\n",
       "      <td>NaN</td>\n",
       "      <td>-122.432952</td>\n",
       "      <td>37.752427</td>\n",
       "      <td>2006.000000</td>\n",
       "      <td>3.000000</td>\n",
       "      <td>9.000000</td>\n",
       "      <td>94105.000000</td>\n",
       "      <td>0.000000</td>\n",
       "    </tr>\n",
       "    <tr>\n",
       "      <th>50%</th>\n",
       "      <td>NaN</td>\n",
       "      <td>NaN</td>\n",
       "      <td>NaN</td>\n",
       "      <td>NaN</td>\n",
       "      <td>NaN</td>\n",
       "      <td>NaN</td>\n",
       "      <td>NaN</td>\n",
       "      <td>-122.416420</td>\n",
       "      <td>37.775421</td>\n",
       "      <td>2009.000000</td>\n",
       "      <td>6.000000</td>\n",
       "      <td>14.000000</td>\n",
       "      <td>94110.000000</td>\n",
       "      <td>0.000000</td>\n",
       "    </tr>\n",
       "    <tr>\n",
       "      <th>75%</th>\n",
       "      <td>NaN</td>\n",
       "      <td>NaN</td>\n",
       "      <td>NaN</td>\n",
       "      <td>NaN</td>\n",
       "      <td>NaN</td>\n",
       "      <td>NaN</td>\n",
       "      <td>NaN</td>\n",
       "      <td>-122.406959</td>\n",
       "      <td>37.784368</td>\n",
       "      <td>2012.000000</td>\n",
       "      <td>9.000000</td>\n",
       "      <td>19.000000</td>\n",
       "      <td>94118.000000</td>\n",
       "      <td>0.000000</td>\n",
       "    </tr>\n",
       "    <tr>\n",
       "      <th>max</th>\n",
       "      <td>NaN</td>\n",
       "      <td>NaN</td>\n",
       "      <td>NaN</td>\n",
       "      <td>NaN</td>\n",
       "      <td>NaN</td>\n",
       "      <td>NaN</td>\n",
       "      <td>NaN</td>\n",
       "      <td>-122.364937</td>\n",
       "      <td>37.819975</td>\n",
       "      <td>2015.000000</td>\n",
       "      <td>12.000000</td>\n",
       "      <td>23.000000</td>\n",
       "      <td>94143.000000</td>\n",
       "      <td>1.000000</td>\n",
       "    </tr>\n",
       "  </tbody>\n",
       "</table>\n",
       "</div>"
      ],
      "text/plain": [
       "                      Dates       Category                      Descript  \\\n",
       "count                877954         877954                        877954   \n",
       "unique               389223             37                           875   \n",
       "top     2011-01-01 00:01:00  LARCENY/THEFT  GRAND THEFT FROM LOCKED AUTO   \n",
       "freq                    185         174885                         60013   \n",
       "mean                    NaN            NaN                           NaN   \n",
       "std                     NaN            NaN                           NaN   \n",
       "min                     NaN            NaN                           NaN   \n",
       "25%                     NaN            NaN                           NaN   \n",
       "50%                     NaN            NaN                           NaN   \n",
       "75%                     NaN            NaN                           NaN   \n",
       "max                     NaN            NaN                           NaN   \n",
       "\n",
       "       DayOfWeek PdDistrict Resolution                 Address              X  \\\n",
       "count     877954     877954     877954                  877954  877954.000000   \n",
       "unique         7         10         17                   23191            NaN   \n",
       "top       Friday   SOUTHERN       NONE  800 Block of BRYANT ST            NaN   \n",
       "freq      133718     157170     526744                   26532            NaN   \n",
       "mean         NaN        NaN        NaN                     NaN    -122.422763   \n",
       "std          NaN        NaN        NaN                     NaN       0.025285   \n",
       "min          NaN        NaN        NaN                     NaN    -122.513642   \n",
       "25%          NaN        NaN        NaN                     NaN    -122.432952   \n",
       "50%          NaN        NaN        NaN                     NaN    -122.416420   \n",
       "75%          NaN        NaN        NaN                     NaN    -122.406959   \n",
       "max          NaN        NaN        NaN                     NaN    -122.364937   \n",
       "\n",
       "                    Y           year          month           hour  \\\n",
       "count   877954.000000  877954.000000  877954.000000  877954.000000   \n",
       "unique            NaN            NaN            NaN            NaN   \n",
       "top               NaN            NaN            NaN            NaN   \n",
       "freq              NaN            NaN            NaN            NaN   \n",
       "mean        37.767035    2008.712390       6.436378      13.412761   \n",
       "std          0.024165       3.631132       3.428993       6.549542   \n",
       "min         37.707879    2003.000000       1.000000       0.000000   \n",
       "25%         37.752427    2006.000000       3.000000       9.000000   \n",
       "50%         37.775421    2009.000000       6.000000      14.000000   \n",
       "75%         37.784368    2012.000000       9.000000      19.000000   \n",
       "max         37.819975    2015.000000      12.000000      23.000000   \n",
       "\n",
       "              zipcode     is_holiday  \n",
       "count   877954.000000  877954.000000  \n",
       "unique            NaN            NaN  \n",
       "top               NaN            NaN  \n",
       "freq              NaN            NaN  \n",
       "mean     94113.349555       0.028659  \n",
       "std         10.100971       0.166845  \n",
       "min      94102.000000       0.000000  \n",
       "25%      94105.000000       0.000000  \n",
       "50%      94110.000000       0.000000  \n",
       "75%      94118.000000       0.000000  \n",
       "max      94143.000000       1.000000  "
      ]
     },
     "execution_count": 20,
     "metadata": {},
     "output_type": "execute_result"
    }
   ],
   "source": [
    "train_v2.describe(include='all')"
   ]
  },
  {
   "cell_type": "code",
   "execution_count": 21,
   "metadata": {},
   "outputs": [],
   "source": [
    "class createTestTrainData:\n",
    "    '''\n",
    "        Parameters: \n",
    "            trainDataFrame: Pandas DF containing training data\n",
    "            testDataFrame: Pandas DF containing test data\n",
    "            outcome : [String] Predicted variable name in the data frame\n",
    "            removeCategories: [List] Categories to be removed from the training data frame to match test data shape\n",
    "            trainDataEncoded: Numpy data array containing encoded feature set for training data\n",
    "            trainlabelsEncoded: Numpy data array containing encoded dataset for training labels\n",
    "            mini_size: Size of the mini training data and label set to create\n",
    "            r_seed: Random seed for test train split \n",
    "            t_size: Size of dev dataset\n",
    "            shuffle: Boolean indicating shuffling of data for test train split\n",
    "            \n",
    "        Methods: \n",
    "            getDataSets(): Converts the pandas data frames for test and training data to numpy arrays for modeling\n",
    "            testTrainSplit(): Splits dataset into training and development data sets         \n",
    "\n",
    "    '''\n",
    "    def __init__(self,trainDataFrame=pd.DataFrame(),testDataFrame=pd.DataFrame(),outcome='Category',\n",
    "                 removeCategoriesTrain=['Category','Descript','Resolution'],\n",
    "                 removeCategoriesTest= ['Category','Descript','Resolution'],\n",
    "                 trainDataEncoded=[],trainlabelsEncoded=[], \n",
    "                 mini_size = 1000, r_seed = 1, t_size = 0.20, shuffle=True):\n",
    "        \n",
    "        # Parameters for data set creation\n",
    "        self._trainDataFrame = trainDataFrame\n",
    "        self._testDataFrame = testDataFrame\n",
    "        self._remCatsTrain = removeCategoriesTrain  # categories to remove from the training dataset\n",
    "        self._remCatsTest = removeCategoriesTest  # categories to remove from the test dataset\n",
    "\n",
    "        self._labelCat = outcome # define the outcome category\n",
    "        \n",
    "        # Parameters for test train data split\n",
    "        self._r_seed = r_seed\n",
    "        self._shuffle = shuffle\n",
    "        self._t_size = t_size\n",
    "        self._mini_size = mini_size\n",
    "        self._encodedData = trainDataEncoded\n",
    "        self._encodedLabels = trainlabelsEncoded\n",
    " \n",
    "    def getDataSets(self):\n",
    "        \"\"\" Process pandas dataframe and return numpy arrays \"\"\"\n",
    "        \n",
    "        data_train_df = self._trainDataFrame.drop(self._remCatsTrain,axis=1)\n",
    "        labels_train_df = pd.DataFrame(self._trainDataFrame, columns = [self._labelCat])\n",
    "\n",
    "        ## Convert data frame to numpy arrays\n",
    "        data_train = data_train_df.values\n",
    "        labels_train = labels_train_df.values\n",
    "        ## Store the feature names in a list\n",
    "        train_features_names = list(data_train_df.keys())\n",
    "        ## Remove ID column from test data\n",
    "        self._testDataFrame = self._testDataFrame.drop(self._remCatsTest,axis=1)\n",
    "        test_data = self._testDataFrame.values\n",
    "        test_feature_names = list(self._testDataFrame.keys())\n",
    "        \n",
    "        return data_train,labels_train,test_data,train_features_names,test_feature_names\n",
    "    \n",
    "    def testTrainSplit(self):\n",
    "        \"\"\" Split into training, dev and mini training data sets \"\"\"\n",
    "        train_data, dev_data, train_labels, dev_labels = train_test_split(self._encodedData, self._encodedLabels,test_size = self._t_size, random_state = self._r_seed,shuffle=self._shuffle)\n",
    "        mini_train_data, mini_train_labels = train_data[:self._mini_size], train_labels[:self._mini_size]\n",
    "        return train_data, dev_data, mini_train_data, train_labels, dev_labels, mini_train_labels\n",
    "    "
   ]
  },
  {
   "cell_type": "code",
   "execution_count": 22,
   "metadata": {},
   "outputs": [],
   "source": [
    "# Define a data pre processing class\n",
    "\n",
    "class featureProcessor:\n",
    "    '''\n",
    "        Parameters: \n",
    "            dataset: Numpy array containing data with features and samples \n",
    "            encode: Boolean indicating encoding of data\n",
    "            encodeScheme: String value indicating scheme to use for encoding \n",
    " \n",
    "        Methods: \n",
    "            encodeTrainData(): Encodes the data using encodeScheme and returns transformed datasets\n",
    "            encodeLabels(): Encodes the labels using encodeScheme and returns transformed label sets and class names\n",
    "\n",
    "    '''\n",
    "    \n",
    "    def __init__(self,encode=0,dataencodeScheme='oneHot',labelEncodeScheme='label'):\n",
    "        \"\"\"Create a new instance of the preprocessing object\n",
    "        Parameters: \n",
    "            encode : Binary [1: encode based on encodeScheme ; 0 : no encoding]\n",
    "            dataencodeScheme: Scheme for encoding data set\n",
    "            labelEncodeScheme: Scheme for encoding label data\n",
    "        \"\"\"\n",
    "        self._encode = encode\n",
    "        self._dataEncodeScheme = dataEncodeScheme\n",
    "        self._labelEncodeScheme = labelEncodeScheme\n",
    "        self._dataencoders = {'oneHot': preprocessing.OneHotEncoder()}\n",
    "        self._labelencoders = {'label': preprocessing.LabelEncoder()}\n",
    "        \n",
    "        ## Test for argument fidelity\n",
    "        if (self._encode and (self._dataEncodeScheme==\"NULL\" or self._labelEncodeScheme==\"NULL\")):\n",
    "            raise ValueError(\"encode schemes for data or labels can't be NULL when encode !=0\")     \n",
    "        if (self._dataEncodeScheme not in self._dataencoders):\n",
    "            raise ValueError(\"{fm} is not a valid encoding scheme defined in featureProcessor\".format(fm=self._dataEncodeScheme))\n",
    "        if (self._labelEncodeScheme not in self._labelencoders):\n",
    "            raise ValueError(\"{fm} is not a valid encoding scheme defined in featureProcessor\".format(fm=self._labelEncodeScheme))\n",
    "\n",
    "    def columnTransform(self,num_features,cat_features):\n",
    "        '''Encode both categorical and numeric data'''\n",
    "        \n",
    "        # Numeric encoding setup\n",
    "        numeric_features = num_features\n",
    "        #numeric_transformer = preprocessing.StandardScaler()\n",
    "        numeric_transformer = preprocessing.MinMaxScaler(copy=True, feature_range=(0, 1))                                                           \n",
    "        \n",
    "        #Categorical encoding setup\n",
    "        categorical_features = cat_features\n",
    "        categorical_transformer = self._dataencoders[self._dataEncodeScheme]\n",
    "        \n",
    "        # Create an encoding pipeline\n",
    "        preprocessor = ColumnTransformer(\n",
    "            transformers=[\n",
    "                ('num', numeric_transformer, numeric_features),\n",
    "                ('cat', categorical_transformer, categorical_features)])\n",
    "    \n",
    "        return preprocessor\n",
    "    \n",
    "    def encodeData(self,dataset,num_features,cat_features):\n",
    "        if self._encode:\n",
    "            preprocessor = self.columnTransform(num_features,cat_features)\n",
    "            transformedDataset = preprocessor.fit_transform(dataset)\n",
    "        else:\n",
    "            transformedDataset = dataset\n",
    "        \n",
    "        return transformedDataset\n",
    "    \n",
    "    def encodeLabels(self,labelset):        \n",
    "        # Encode label data\n",
    "        enc = self._labelencoders[self._labelEncodeScheme]\n",
    "        if self._encode:\n",
    "            transformedLabelset = enc.fit_transform(np.ravel(labelset.reshape(-1,1)))\n",
    "            data_classes = enc.classes_\n",
    "        else:\n",
    "            transformedLabelset = labelset\n",
    "            data_classes = np.unique(transformedLabelset)\n",
    "        return transformedLabelset,data_classes\n",
    "        \n",
    "        "
   ]
  },
  {
   "cell_type": "code",
   "execution_count": 23,
   "metadata": {},
   "outputs": [
    {
     "name": "stdout",
     "output_type": "stream",
     "text": [
      "Shape of training data: (877954, 8)\n",
      "Shape of training labels: (877954, 1)\n",
      "List of training features: ['DayOfWeek', 'X', 'Y', 'year', 'month', 'hour', 'zipcode', 'is_holiday']\n",
      "Shape of test data: (884262, 8)\n",
      "List of test features: ['DayOfWeek', 'X', 'Y', 'year', 'month', 'hour', 'zipcode', 'is_holiday']\n",
      "['Wednesday' -122.425891675136 37.7745985956747 2015 5 23.0 94102 0]\n",
      "['Sunday' -122.391522893042 37.7324323864471 2015 5 23.0 94124 0]\n"
     ]
    }
   ],
   "source": [
    "''' FOR v2 DATA: Import the data frames into numpy arrays and remove extraneous categories \n",
    "    Outcome Variable: Category [This is what we will predict and it forms a separate array]\n",
    "'''\n",
    "#removeCats_v2 = ['Category','Descript','Resolution', 'Dates','Address','X','Y']\n",
    "removeCatsTrain_v2 = ['Category','Descript','Resolution', 'Dates','Address','PdDistrict']\n",
    "removeCatsTest_v2 = ['Id', 'Dates','Address','PdDistrict']\n",
    "\n",
    "outcomeLabel = 'Category' \n",
    "importdata_v2 = createTestTrainData(trainDataFrame=train_v2,testDataFrame=test_v2,outcome=outcomeLabel,\n",
    "                                    removeCategoriesTrain=removeCatsTrain_v2,removeCategoriesTest=removeCatsTest_v2)\n",
    "data_train_v2,labels_train_v2,test_data_v2,train_features_names_v2,test_feature_names_v2 = importdata_v2.getDataSets()\n",
    "\n",
    "# Check shape of all arrays\n",
    "print('Shape of training data: {train_shp1}'.format(train_shp1=data_train_v2.shape))\n",
    "print('Shape of training labels: {train_shp2}'.format(train_shp2=labels_train_v2.shape))\n",
    "print('List of training features:', train_features_names_v2)\n",
    "print('Shape of test data:', test_data_v2.shape)\n",
    "print('List of test features:', test_feature_names_v2)\n",
    "\n",
    "print(data_train_v2[1,:])\n",
    "print(test_data_v2[1,:])\n"
   ]
  },
  {
   "cell_type": "code",
   "execution_count": 24,
   "metadata": {},
   "outputs": [
    {
     "name": "stderr",
     "output_type": "stream",
     "text": [
      "/usr/local/lib/python3.7/site-packages/sklearn/utils/validation.py:595: DataConversionWarning: Data with input dtype object was converted to float64 by MinMaxScaler.\n",
      "  warnings.warn(msg, DataConversionWarning)\n",
      "/usr/local/lib/python3.7/site-packages/sklearn/utils/validation.py:595: DataConversionWarning: Data with input dtype object was converted to float64 by MinMaxScaler.\n",
      "  warnings.warn(msg, DataConversionWarning)\n"
     ]
    },
    {
     "name": "stdout",
     "output_type": "stream",
     "text": [
      "\n",
      "Data classes : ['ARSON' 'ASSAULT' 'BAD CHECKS' 'BRIBERY' 'BURGLARY']\n",
      "Shape of encoded training data: (877954, 87)\n",
      "Shape of encoded test data:  (884262, 87)\n",
      "Shape of encoded labels: (877954,)\n",
      "Shape of data classes: (37,)\n",
      "Shape of dev dataset: (175591, 87)\n",
      "Shape of dev label dataset: (175591,)\n",
      "Shape of mini training dataset: (1000, 87)\n",
      "Shape of mini label dataset: (1000,)\n",
      "\n"
     ]
    }
   ],
   "source": [
    "''' FOR V2 DATA: Encoded data using one Hot Encoding'''\n",
    "dataEncodeScheme = 'oneHot' # use one Hot scheme\n",
    "labelEncodeScheme  = 'label' # use label encoder (category to ordered numeric)\n",
    "encode = 1  # to encode or not to encode\n",
    "fp_v2 = featureProcessor(encode,dataEncodeScheme,labelEncodeScheme)   \n",
    "\n",
    "# Define indeces for categorical and numerical features\n",
    "num_features=[1,2]\n",
    "cat_features=[0,3,4,5,6,7]\n",
    "\n",
    "data_train_encoded_v2 = fp_v2.encodeData(data_train_v2,num_features,cat_features)\n",
    "test_data_encoded_v2 = fp_v2.encodeData(test_data_v2,num_features,cat_features)\n",
    "labels_train_encoded_v2, data_classes_v2 = fp_v2.encodeLabels(labels_train_v2)\n",
    "print('\\nData classes :', data_classes_v2[:5])\n",
    "  \n",
    "\n",
    "'''Split data in train, dev and mini_train dataset for training and validating models'''\n",
    "random_seed = 1\n",
    "dev_size = 0.20 # Set dev data set size to 20%\n",
    "shuffle = True # Shuffle the data based on random seed\n",
    "mini_dataset_size = 1000\n",
    "splitData_v2 = createTestTrainData(trainDataEncoded = data_train_encoded_v2,trainlabelsEncoded=labels_train_encoded_v2, \n",
    "                 mini_size = mini_dataset_size, r_seed=random_seed, t_size = dev_size, shuffle=shuffle)\n",
    "train_data_v2, dev_data_v2, mini_train_data_v2, train_labels_v2, dev_labels_v2, mini_train_labels_v2 = splitData_v2.testTrainSplit()\n",
    "\n",
    "# Check shapes of all arrays\n",
    "print('Shape of encoded training data:',data_train_encoded_v2.shape)\n",
    "print('Shape of encoded test data: ', test_data_encoded_v2.shape) \n",
    "print('Shape of encoded labels:', labels_train_encoded_v2.shape)\n",
    "print('Shape of data classes:', data_classes_v2.shape)\n",
    "print('Shape of dev dataset:',dev_data_v2.shape)\n",
    "print('Shape of dev label dataset:',dev_labels_v2.shape)\n",
    "print('Shape of mini training dataset:',mini_train_data_v2.shape)\n",
    "print('Shape of mini label dataset:',mini_train_labels_v2.shape)\n",
    "\n",
    "print(np.min(data_train_encoded_v2,axis=0))"
   ]
  },
  {
   "cell_type": "markdown",
   "metadata": {},
   "source": [
    "## Multinomial Naive Bayes¶\n"
   ]
  },
  {
   "cell_type": "code",
   "execution_count": 326,
   "metadata": {},
   "outputs": [],
   "source": [
    "# For V2 data\n",
    "mnb_v2 = MultinomialNB()\n",
    "alphas = {'alpha': [0.0000001, 0.000001, 0.00001, 0.0001, 0.001, 0.01, 0.1, 0.5, 1.0, 2.0, 10.0,20,50,100,500,1000]}\n",
    "mnb_v2_cv = GridSearchCV(estimator = mnb_v2, param_grid = alphas, cv = 3, scoring = 'f1_micro', n_jobs=-1)\n",
    "nb_v2 = mnb_v2_cv.fit(train_data_v2, train_labels_v2)"
   ]
  },
  {
   "cell_type": "code",
   "execution_count": 327,
   "metadata": {},
   "outputs": [
    {
     "name": "stdout",
     "output_type": "stream",
     "text": [
      "The best value for alpha (with feature engineering) is: 50\n",
      "Best score from grid search on training data set (with feature engineering):0.2314\n"
     ]
    }
   ],
   "source": [
    "# For V2 data\n",
    "\n",
    "print('The best value for alpha (with feature engineering) is:', nb_v2.best_params_['alpha'])\n",
    "print('Best score from grid search on training data set (with feature engineering):{fm}'.format(fm=round(nb_v2.best_score_,4)))\n"
   ]
  },
  {
   "cell_type": "code",
   "execution_count": 328,
   "metadata": {},
   "outputs": [
    {
     "name": "stdout",
     "output_type": "stream",
     "text": [
      "The F1 score for a Multinomial Native Bayes model (with feature engineering) is 0.232\n"
     ]
    }
   ],
   "source": [
    "# For V2 data\n",
    "\n",
    "best_alpha_v2 = nb_v2.best_params_['alpha']\n",
    "mnb_v2_optimized = MultinomialNB(alpha = best_alpha_v2)\n",
    "pred_labels_v2 = mnb_v2_optimized.fit(train_data_v2, train_labels_v2).predict(dev_data_v2)\n",
    "mnb_v2_score = metrics.f1_score(dev_labels_v2, pred_labels_v2, average = 'micro')\n",
    "print('The F1 score for a Multinomial Native Bayes model (with feature engineering) is {fm}'.format(fm=round(mnb_v2_score,4)))"
   ]
  },
  {
   "cell_type": "markdown",
   "metadata": {},
   "source": [
    "## Logistic Regression¶\n"
   ]
  },
  {
   "cell_type": "markdown",
   "metadata": {},
   "source": [
    "### L1 Logistic Regression¶\n"
   ]
  },
  {
   "cell_type": "code",
   "execution_count": 30,
   "metadata": {},
   "outputs": [
    {
     "name": "stderr",
     "output_type": "stream",
     "text": [
      "[Parallel(n_jobs=-1)]: Using backend ThreadingBackend with 12 concurrent workers.\n"
     ]
    },
    {
     "name": "stdout",
     "output_type": "stream",
     "text": [
      "max_iter reached after 24 seconds\n"
     ]
    },
    {
     "name": "stderr",
     "output_type": "stream",
     "text": [
      "[Parallel(n_jobs=-1)]: Done   1 tasks      | elapsed:   23.6s\n",
      "[Parallel(n_jobs=-1)]: Done   1 out of   1 | elapsed:   23.6s finished\n"
     ]
    }
   ],
   "source": [
    "best_c = 0.1\n",
    "best_solver = 'saga'\n",
    "tol = 0.01\n",
    "iterations = 10\n",
    "penalty = 'l1'\n",
    "multiclass = 'multinomial'\n",
    "\n",
    "lr_l1_optimized = LogisticRegression(C = best_c, solver=best_solver,penalty=penalty, multi_class=multiclass,  \n",
    "                                     random_state = random_seed, max_iter=iterations, tol = tol,n_jobs=-1,verbose=10)\n",
    "pred_labels = lr_l1_optimized.fit(train_data_v2, train_labels_v2).predict(dev_data_v2)\n",
    "l1_score = metrics.f1_score(dev_labels_v2, pred_labels, average = 'micro')\n"
   ]
  },
  {
   "cell_type": "code",
   "execution_count": 31,
   "metadata": {},
   "outputs": [
    {
     "name": "stdout",
     "output_type": "stream",
     "text": [
      "The F1 score for a Logistic Regression model (using L1 errors) is 0.23351994122705605\n"
     ]
    }
   ],
   "source": [
    "print('The F1 score for a Logistic Regression model (using L1 errors) is %s'% (l1_score))"
   ]
  },
  {
   "cell_type": "markdown",
   "metadata": {},
   "source": [
    "### L2 Logistic Regression¶\n"
   ]
  },
  {
   "cell_type": "code",
   "execution_count": 33,
   "metadata": {},
   "outputs": [
    {
     "name": "stdout",
     "output_type": "stream",
     "text": [
      "Fitting 3 folds for each of 12 candidates, totalling 36 fits\n"
     ]
    },
    {
     "name": "stderr",
     "output_type": "stream",
     "text": [
      "[Parallel(n_jobs=-1)]: Using backend LokyBackend with 12 concurrent workers.\n",
      "[Parallel(n_jobs=-1)]: Done   1 tasks      | elapsed:  1.3min\n",
      "[Parallel(n_jobs=-1)]: Done   8 tasks      | elapsed:  5.1min\n",
      "[Parallel(n_jobs=-1)]: Done  17 out of  36 | elapsed: 14.3min remaining: 16.0min\n",
      "[Parallel(n_jobs=-1)]: Done  21 out of  36 | elapsed: 16.9min remaining: 12.1min\n",
      "[Parallel(n_jobs=-1)]: Done  25 out of  36 | elapsed: 20.5min remaining:  9.0min\n",
      "[Parallel(n_jobs=-1)]: Done  29 out of  36 | elapsed: 23.7min remaining:  5.7min\n",
      "[Parallel(n_jobs=-1)]: Done  33 out of  36 | elapsed: 47.8min remaining:  4.3min\n",
      "[Parallel(n_jobs=-1)]: Done  36 out of  36 | elapsed: 127.9min finished\n"
     ]
    },
    {
     "name": "stdout",
     "output_type": "stream",
     "text": [
      "The best parameters for Logistic Regression (using L2 errors) are: {'C': 10.0, 'solver': 'sag'}\n"
     ]
    }
   ],
   "source": [
    "lr_l2 = LogisticRegression(penalty='l2', multi_class='multinomial',  random_state = 123, max_iter=100, tol = 0.001)\n",
    "\n",
    "cv_params = {'C': [0.01, 0.1, 1.0, 10.0], \n",
    "            'solver' : ['newton-cg','sag','lbfgs']}\n",
    "\n",
    "lr_l2_cv = GridSearchCV(estimator = lr_l2, param_grid = cv_params, cv = 3, scoring = 'f1_micro', n_jobs = -1, verbose = 10)\n",
    "l2 = lr_l2_cv.fit(train_data_v2, train_labels_v2)\n",
    "print('The best parameters for Logistic Regression (using L2 errors) are:', l2.best_params_)"
   ]
  },
  {
   "cell_type": "code",
   "execution_count": 35,
   "metadata": {},
   "outputs": [
    {
     "name": "stdout",
     "output_type": "stream",
     "text": [
      "The F1 score for a Logistic Regression model (using L2 errors) is 0.23395276523284222\n"
     ]
    }
   ],
   "source": [
    "pred_labels_l2 = l2.predict(dev_data_v2)\n",
    "l2_score = metrics.f1_score(dev_labels_v2, pred_labels_l2, average = 'micro')\n",
    "print('The F1 score for a Logistic Regression model (using L2 errors) is %s'% (l2_score))"
   ]
  },
  {
   "cell_type": "markdown",
   "metadata": {},
   "source": [
    "## KNN"
   ]
  },
  {
   "cell_type": "code",
   "execution_count": null,
   "metadata": {},
   "outputs": [],
   "source": [
    "# baseline model is just a knn of 1 for just latitude and longitude\n",
    "neighbors = 1\n",
    "kn = KNeighborsClassifier(n_neighbors=neighbors,n_jobs=-1)\n",
    "kn.fit(train_data_v2, train_labels_v2)\n",
    "\n",
    "# Create predicted values\n",
    "#preds_dev = kn.predict(dev_data)\n",
    "score = kn.score(dev_data_v2, dev_labels_v2)\n",
    "#proba = kn.predict_proba(dev_data)\n",
    "\n",
    "print('Mean score from KNN with {nn} neighbors: {score}'.format(nn=neighbors, score=score))"
   ]
  },
  {
   "cell_type": "markdown",
   "metadata": {},
   "source": [
    "## Decision trees"
   ]
  },
  {
   "cell_type": "code",
   "execution_count": 329,
   "metadata": {},
   "outputs": [
    {
     "name": "stdout",
     "output_type": "stream",
     "text": [
      "Fitting 3 folds for each of 32 candidates, totalling 96 fits\n"
     ]
    },
    {
     "name": "stderr",
     "output_type": "stream",
     "text": [
      "[Parallel(n_jobs=-1)]: Using backend LokyBackend with 8 concurrent workers.\n",
      "[Parallel(n_jobs=-1)]: Done  34 tasks      | elapsed:   13.5s\n",
      "[Parallel(n_jobs=-1)]: Done  96 out of  96 | elapsed:  1.3min finished\n"
     ]
    }
   ],
   "source": [
    "parameters={'min_samples_split' : range(10,50,5),'max_depth': range(2,10,2)}\n",
    "clf_tree=DecisionTreeClassifier()\n",
    "clf=GridSearchCV(clf_tree,parameters,cv=3,n_jobs=-1,verbose=1,iid=True)\n",
    "clf_optim  = clf.fit(train_data_v2,train_labels_v2)"
   ]
  },
  {
   "cell_type": "code",
   "execution_count": 330,
   "metadata": {},
   "outputs": [
    {
     "name": "stdout",
     "output_type": "stream",
     "text": [
      "{'max_depth': 8, 'min_samples_split': 20}\n",
      "0.2515517869752397\n"
     ]
    }
   ],
   "source": [
    "print(clf.cv_results_['params'][clf.best_index_])\n",
    "print(clf_optim.best_score_)"
   ]
  },
  {
   "cell_type": "markdown",
   "metadata": {},
   "source": [
    "## Random Forest"
   ]
  },
  {
   "cell_type": "code",
   "execution_count": 331,
   "metadata": {},
   "outputs": [
    {
     "name": "stdout",
     "output_type": "stream",
     "text": [
      "Fitting 3 folds for each of 960 candidates, totalling 2880 fits\n"
     ]
    },
    {
     "name": "stderr",
     "output_type": "stream",
     "text": [
      "[Parallel(n_jobs=-1)]: Using backend LokyBackend with 8 concurrent workers.\n",
      "[Parallel(n_jobs=-1)]: Done  34 tasks      | elapsed:  2.1min\n",
      "[Parallel(n_jobs=-1)]: Done 184 tasks      | elapsed: 12.6min\n",
      "[Parallel(n_jobs=-1)]: Done 434 tasks      | elapsed: 39.7min\n",
      "[Parallel(n_jobs=-1)]: Done 784 tasks      | elapsed: 90.5min\n",
      "[Parallel(n_jobs=-1)]: Done 1234 tasks      | elapsed: 184.9min\n",
      "[Parallel(n_jobs=-1)]: Done 1784 tasks      | elapsed: 335.9min\n",
      "[Parallel(n_jobs=-1)]: Done 2434 tasks      | elapsed: 426.6min\n",
      "[Parallel(n_jobs=-1)]: Done 2880 out of 2880 | elapsed: 611.0min finished\n"
     ]
    }
   ],
   "source": [
    "parameters={'n_estimators' : [10,15,20,50,100],\n",
    "            'max_depth': range(2,10,2),\n",
    "            'max_features': ['sqrt','log2', None],\n",
    "            'min_samples_split' : range(100,500,50),\n",
    "            'bootstrap': ['True','False']\n",
    "           }\n",
    "rfClf = RandomForestClassifier()\n",
    "rfClf_search=GridSearchCV(rfClf,parameters,cv=3,n_jobs=-1,verbose=1)\n",
    "rfClf_optim = rfClf_search.fit(train_data_v2,train_labels_v2)\n"
   ]
  },
  {
   "cell_type": "code",
   "execution_count": 335,
   "metadata": {
    "scrolled": true
   },
   "outputs": [
    {
     "name": "stdout",
     "output_type": "stream",
     "text": [
      "{'bootstrap': 'True', 'max_depth': 8, 'max_features': None, 'min_samples_split': 350, 'n_estimators': 20}\n",
      "0.25504686681396777\n"
     ]
    }
   ],
   "source": [
    "print(rfClf_optim.cv_results_['params'][rfClf_optim.best_index_])\n",
    "print(rfClf_optim.best_score_)"
   ]
  },
  {
   "cell_type": "code",
   "execution_count": 338,
   "metadata": {},
   "outputs": [
    {
     "name": "stderr",
     "output_type": "stream",
     "text": [
      "[Parallel(n_jobs=-1)]: Using backend ThreadingBackend with 8 concurrent workers.\n",
      "[Parallel(n_jobs=-1)]: Done  20 out of  20 | elapsed:   46.1s finished\n",
      "[Parallel(n_jobs=8)]: Using backend ThreadingBackend with 8 concurrent workers.\n",
      "[Parallel(n_jobs=8)]: Done  20 out of  20 | elapsed:    2.0s finished\n"
     ]
    },
    {
     "name": "stdout",
     "output_type": "stream",
     "text": [
      "(884262,)\n"
     ]
    }
   ],
   "source": [
    "# Choose the best model and train for predictions on test data\n",
    "\n",
    "rfClf = RandomForestClassifier(bootstrap=True,max_depth=8,max_features=None,min_samples_split=350,n_estimators=20,n_jobs=-1,verbose=1)\n",
    "rfClf.fit(train_data_v2,train_labels_v2)"
   ]
  },
  {
   "cell_type": "code",
   "execution_count": 343,
   "metadata": {},
   "outputs": [
    {
     "name": "stderr",
     "output_type": "stream",
     "text": [
      "[Parallel(n_jobs=8)]: Using backend ThreadingBackend with 8 concurrent workers.\n"
     ]
    },
    {
     "name": "stdout",
     "output_type": "stream",
     "text": [
      "(884262,)\n"
     ]
    },
    {
     "name": "stderr",
     "output_type": "stream",
     "text": [
      "[Parallel(n_jobs=8)]: Done  20 out of  20 | elapsed:    1.9s finished\n"
     ]
    }
   ],
   "source": [
    "# Predict on test data\n",
    "\n",
    "preds = rfClf.predict(test_data_encoded_v2)\n",
    "print(preds.shape)\n",
    "data_classes=data_classes_v2"
   ]
  },
  {
   "cell_type": "code",
   "execution_count": 345,
   "metadata": {},
   "outputs": [
    {
     "name": "stdout",
     "output_type": "stream",
     "text": [
      "sample submission shape (884262, 40)\n",
      "final shape (884262, 40)\n"
     ]
    }
   ],
   "source": [
    "## Print formatted output for submission CSV\n",
    "\n",
    "# Looking at format of output\n",
    "#print(sample_submission.head())\n",
    "print('sample submission shape', sample_submission.shape)\n",
    "\n",
    "# Now put results in a dataframe \n",
    "all_ids = test[\"Id\"].values\n",
    "\n",
    "# From encoded categories, get normal labels\n",
    "labeled_preds = [data_classes[i] for i in preds]\n",
    "\n",
    "# Make dateframe\n",
    "d = {'Id': all_ids, 'Label': labeled_preds}\n",
    "\n",
    "# Make the results dummy columns\n",
    "df = pd.DataFrame(data = d)\n",
    "results = pd.get_dummies(df, prefix=[''],prefix_sep = '')\n",
    "\n",
    "# To ensure we have all columns, copy data into the schema of sample_submission\n",
    "submission = pd.DataFrame().reindex_like(sample_submission).fillna(0).astype(int)\n",
    "\n",
    "col_names = list(results.columns.values)\n",
    "for col in col_names:\n",
    "    submission[col] = results[col]\n",
    "\n",
    "    \n",
    "print('final shape',submission.shape )\n",
    "## Save the predictions to submission CSV file\n",
    "submission.to_csv('submission.csv', index = False)\n",
    "\n",
    "#print(submission)"
   ]
  },
  {
   "cell_type": "code",
   "execution_count": 346,
   "metadata": {},
   "outputs": [],
   "source": [
    "# Making a baseline submission that just takes the most frequent-occurring crime, and predicting all crimes in the test data frame are of that label\n",
    "\n",
    "submission_no_ml = pd.DataFrame().reindex_like(sample_submission).fillna(0).astype(int)\n",
    "submission_no_ml['Id'] = sample_submission['Id']\n",
    "submission_no_ml['LARCENY/THEFT'] = 1\n",
    "submission_no_ml.to_csv('baseline_submission_2.csv', index = False)"
   ]
  },
  {
   "cell_type": "code",
   "execution_count": 347,
   "metadata": {},
   "outputs": [
    {
     "name": "stdout",
     "output_type": "stream",
     "text": [
      "(884262, 40)\n",
      "(884262, 40)\n",
      "(884262, 40)\n"
     ]
    }
   ],
   "source": [
    "print(submission_no_ml.shape)\n",
    "print(sample_submission.shape)\n",
    "print(submission.shape)"
   ]
  },
  {
   "cell_type": "code",
   "execution_count": null,
   "metadata": {},
   "outputs": [],
   "source": []
  },
  {
   "cell_type": "code",
   "execution_count": null,
   "metadata": {},
   "outputs": [],
   "source": []
  }
 ],
 "metadata": {
  "anaconda-cloud": {},
  "kernelspec": {
   "display_name": "Python 3",
   "language": "python",
   "name": "python3"
  },
  "language_info": {
   "codemirror_mode": {
    "name": "ipython",
    "version": 3
   },
   "file_extension": ".py",
   "mimetype": "text/x-python",
   "name": "python",
   "nbconvert_exporter": "python",
   "pygments_lexer": "ipython3",
   "version": "3.7.2"
  }
 },
 "nbformat": 4,
 "nbformat_minor": 1
}
